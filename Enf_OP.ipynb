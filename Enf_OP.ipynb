{
 "metadata": {
  "language_info": {
   "codemirror_mode": {
    "name": "ipython",
    "version": 3
   },
   "file_extension": ".py",
   "mimetype": "text/x-python",
   "name": "python",
   "nbconvert_exporter": "python",
   "pygments_lexer": "ipython3",
   "version": "3.8.5"
  },
  "orig_nbformat": 2,
  "kernelspec": {
   "name": "python385jvsc74a57bd0c5e48f84046969b800ff52f6d80523bcd1ca3fb1a99f1449e4197bf6c73dc096",
   "display_name": "Python 3.8.5 64-bit ('base': conda)"
  }
 },
 "nbformat": 4,
 "nbformat_minor": 2,
 "cells": [
  {
   "cell_type": "code",
   "execution_count": 63,
   "metadata": {},
   "outputs": [],
   "source": [
    "import pandas as pd \n",
    "import pyodbc\n",
    "import sqlalchemy\n",
    "import datetime as dt \n",
    "import numpy as np\n",
    "\n",
    "#Se definen las conexiones\n",
    "\n",
    "def get_engine():\n",
    "    connection_string = \"mssql+pyodbc://{0}@{2}:{1}@{2}.database.windows.net:{4}/{3}?driver=ODBC+Driver+17+for+SQL+Server\".format(\n",
    "                        'ko_ice_reader',\n",
    "                        'XXXXXXX',\n",
    "                        'koice',\n",
    "                        'ko_ice',\n",
    "                        1433)\n",
    "    res = sqlalchemy.engine.create_engine(connection_string, connect_args={'autocommit': True})\n",
    "    return res\n",
    "    \n",
    "def get_query(query):\n",
    "    engine = get_engine()\n",
    "    res = pd.read_sql(query, con=engine)\n",
    "    return res"
   ]
  },
  {
   "cell_type": "code",
   "execution_count": 64,
   "metadata": {},
   "outputs": [],
   "source": [
    "query = \"\"\" \n",
    "\n",
    "select distinct op.LocationId, op.UserId, op.DateId, op.IsReported, YEAR(srl.VisitStartDateTime) as year, MONTH(op.VisitStartDateTime) as month, DAY(op.VisitStartDateTime) as day, op.Segment, op.MarketSegment, op.ICEScore, sl.Question, sl.Response, srl.* from dbo.ICEOnPremise op \n",
    "join dbo.SurveyList sl on sl.SessionUid = op.SessionUId\n",
    "join dbo.SceneReportList srl on srl.SessionUid = op.SessionUId\n",
    "where YEAR(srl.VisitStartDateTime) = '2021' and srl.LocationClusterName = 'On-premise' and srl.UserRole = 'Auditor' and srl.Scene = 'Enfriador' and srl.SubSceneType in ('Enfriador Coca-Cola', 'Enfriador Competencia', 'Enfriador Detallista') \n",
    " \n",
    "\"\"\""
   ]
  },
  {
   "cell_type": "code",
   "execution_count": 65,
   "metadata": {},
   "outputs": [
    {
     "output_type": "execute_result",
     "data": {
      "text/plain": [
       "        LocationId  UserId    DateId  IsReported  year  month  day Segment  \\\n",
       "0          6208850   45794  20210119           1  2021      1   19   Chico   \n",
       "1          6227062   45800  20210111           1  2021      1   11   Chico   \n",
       "2          6227062   45800  20210111           1  2021      1   11   Chico   \n",
       "3          6208850   45794  20210119           1  2021      1   19   Chico   \n",
       "4          6227062   45800  20210111           1  2021      1   11   Chico   \n",
       "...            ...     ...       ...         ...   ...    ...  ...     ...   \n",
       "618996     9812787   45937  20210514           1  2021      5   14   Chico   \n",
       "618997     9812741   45830  20210515           1  2021      5   15   Chico   \n",
       "618998     9812917   45817  20210518           1  2021      5   18   Chico   \n",
       "618999     9812959   54609  20210507           1  2021      5    7   Chico   \n",
       "619000     9812959   54609  20210507           1  2021      5    7   Chico   \n",
       "\n",
       "       MarketSegment  ICEScore  ... SurveyCancelCallReason IsQAEnvironment  \\\n",
       "0            PUESTOS      75.0  ...                                   None   \n",
       "1                RSR      85.0  ...                                   None   \n",
       "2                RSR      85.0  ...                                   None   \n",
       "3            PUESTOS      75.0  ...                                   None   \n",
       "4                RSR      85.0  ...                                   None   \n",
       "...              ...       ...  ...                    ...             ...   \n",
       "618996       PUESTOS     100.0  ...                                   None   \n",
       "618997        FONDAS     100.0  ...                                   None   \n",
       "618998       PUESTOS      10.0  ...                                   None   \n",
       "618999       PUESTOS      80.0  ...                                   None   \n",
       "619000       PUESTOS      80.0  ...                                   None   \n",
       "\n",
       "        SalesOfficeCode SalesOfficeName  \\\n",
       "0               Yucatán         Yucatán   \n",
       "1                 Silao           Silao   \n",
       "2                 Silao           Silao   \n",
       "3               Yucatán         Yucatán   \n",
       "4                 Silao           Silao   \n",
       "...                 ...             ...   \n",
       "618996        Tapachula       Tapachula   \n",
       "618997        Teziutlán       Teziutlán   \n",
       "618998      Zihuatanejo     Zihuatanejo   \n",
       "618999           Chalco          Chalco   \n",
       "619000           Chalco          Chalco   \n",
       "\n",
       "                                          IdVisita SalesGroupCode  \\\n",
       "0                                             None     9000222-31   \n",
       "1                                             None         MR0042   \n",
       "2                                             None         MR0042   \n",
       "3                                             None     9000222-31   \n",
       "4                                             None         MR0042   \n",
       "...                                            ...            ...   \n",
       "618996    220153440tuxtla@storecheck.com2021-05-14         MR0180   \n",
       "618997  502100331veracruz@storecheck.com2021-05-15         MR0125   \n",
       "618998   610040675uruapan@storecheck.com2021-05-18         MR0071   \n",
       "618999    105213209cdmx38@storecheck.com2021-05-07         MR0024   \n",
       "619000    105213209cdmx38@storecheck.com2021-05-07         MR0024   \n",
       "\n",
       "         SalesGroupName                     TradeGroupCode  \\\n",
       "0       Bodega Poniente  PUESTO FIJO DE VENTA DE ALIMENTOS   \n",
       "1                 Silao                          RSR TACOS   \n",
       "2                 Silao                          RSR TACOS   \n",
       "3       Bodega Poniente  PUESTO FIJO DE VENTA DE ALIMENTOS   \n",
       "4                 Silao                          RSR TACOS   \n",
       "...                 ...                                ...   \n",
       "618996          Arriaga              PUESTO FIJO ALIMENTOS   \n",
       "618997        Teziutlán          FONDA/LONCHERÍA/MERENDERO   \n",
       "618998  Lázaro Cárdenas              PUESTO FIJO ALIMENTOS   \n",
       "618999           Chalco              PUESTO FIJO ALIMENTOS   \n",
       "619000           Chalco              PUESTO FIJO ALIMENTOS   \n",
       "\n",
       "                           TradeGroupName ParentSceneUid  \n",
       "0       PUESTO FIJO DE VENTA DE ALIMENTOS                 \n",
       "1                               RSR TACOS                 \n",
       "2                               RSR TACOS                 \n",
       "3       PUESTO FIJO DE VENTA DE ALIMENTOS                 \n",
       "4                               RSR TACOS                 \n",
       "...                                   ...            ...  \n",
       "618996              PUESTO FIJO ALIMENTOS                 \n",
       "618997          FONDA/LONCHERÍA/MERENDERO                 \n",
       "618998              PUESTO FIJO ALIMENTOS                 \n",
       "618999              PUESTO FIJO ALIMENTOS                 \n",
       "619000              PUESTO FIJO ALIMENTOS                 \n",
       "\n",
       "[619001 rows x 50 columns]"
      ],
      "text/html": "<div>\n<style scoped>\n    .dataframe tbody tr th:only-of-type {\n        vertical-align: middle;\n    }\n\n    .dataframe tbody tr th {\n        vertical-align: top;\n    }\n\n    .dataframe thead th {\n        text-align: right;\n    }\n</style>\n<table border=\"1\" class=\"dataframe\">\n  <thead>\n    <tr style=\"text-align: right;\">\n      <th></th>\n      <th>LocationId</th>\n      <th>UserId</th>\n      <th>DateId</th>\n      <th>IsReported</th>\n      <th>year</th>\n      <th>month</th>\n      <th>day</th>\n      <th>Segment</th>\n      <th>MarketSegment</th>\n      <th>ICEScore</th>\n      <th>...</th>\n      <th>SurveyCancelCallReason</th>\n      <th>IsQAEnvironment</th>\n      <th>SalesOfficeCode</th>\n      <th>SalesOfficeName</th>\n      <th>IdVisita</th>\n      <th>SalesGroupCode</th>\n      <th>SalesGroupName</th>\n      <th>TradeGroupCode</th>\n      <th>TradeGroupName</th>\n      <th>ParentSceneUid</th>\n    </tr>\n  </thead>\n  <tbody>\n    <tr>\n      <th>0</th>\n      <td>6208850</td>\n      <td>45794</td>\n      <td>20210119</td>\n      <td>1</td>\n      <td>2021</td>\n      <td>1</td>\n      <td>19</td>\n      <td>Chico</td>\n      <td>PUESTOS</td>\n      <td>75.0</td>\n      <td>...</td>\n      <td></td>\n      <td>None</td>\n      <td>Yucatán</td>\n      <td>Yucatán</td>\n      <td>None</td>\n      <td>9000222-31</td>\n      <td>Bodega Poniente</td>\n      <td>PUESTO FIJO DE VENTA DE ALIMENTOS</td>\n      <td>PUESTO FIJO DE VENTA DE ALIMENTOS</td>\n      <td></td>\n    </tr>\n    <tr>\n      <th>1</th>\n      <td>6227062</td>\n      <td>45800</td>\n      <td>20210111</td>\n      <td>1</td>\n      <td>2021</td>\n      <td>1</td>\n      <td>11</td>\n      <td>Chico</td>\n      <td>RSR</td>\n      <td>85.0</td>\n      <td>...</td>\n      <td></td>\n      <td>None</td>\n      <td>Silao</td>\n      <td>Silao</td>\n      <td>None</td>\n      <td>MR0042</td>\n      <td>Silao</td>\n      <td>RSR TACOS</td>\n      <td>RSR TACOS</td>\n      <td></td>\n    </tr>\n    <tr>\n      <th>2</th>\n      <td>6227062</td>\n      <td>45800</td>\n      <td>20210111</td>\n      <td>1</td>\n      <td>2021</td>\n      <td>1</td>\n      <td>11</td>\n      <td>Chico</td>\n      <td>RSR</td>\n      <td>85.0</td>\n      <td>...</td>\n      <td></td>\n      <td>None</td>\n      <td>Silao</td>\n      <td>Silao</td>\n      <td>None</td>\n      <td>MR0042</td>\n      <td>Silao</td>\n      <td>RSR TACOS</td>\n      <td>RSR TACOS</td>\n      <td></td>\n    </tr>\n    <tr>\n      <th>3</th>\n      <td>6208850</td>\n      <td>45794</td>\n      <td>20210119</td>\n      <td>1</td>\n      <td>2021</td>\n      <td>1</td>\n      <td>19</td>\n      <td>Chico</td>\n      <td>PUESTOS</td>\n      <td>75.0</td>\n      <td>...</td>\n      <td></td>\n      <td>None</td>\n      <td>Yucatán</td>\n      <td>Yucatán</td>\n      <td>None</td>\n      <td>9000222-31</td>\n      <td>Bodega Poniente</td>\n      <td>PUESTO FIJO DE VENTA DE ALIMENTOS</td>\n      <td>PUESTO FIJO DE VENTA DE ALIMENTOS</td>\n      <td></td>\n    </tr>\n    <tr>\n      <th>4</th>\n      <td>6227062</td>\n      <td>45800</td>\n      <td>20210111</td>\n      <td>1</td>\n      <td>2021</td>\n      <td>1</td>\n      <td>11</td>\n      <td>Chico</td>\n      <td>RSR</td>\n      <td>85.0</td>\n      <td>...</td>\n      <td></td>\n      <td>None</td>\n      <td>Silao</td>\n      <td>Silao</td>\n      <td>None</td>\n      <td>MR0042</td>\n      <td>Silao</td>\n      <td>RSR TACOS</td>\n      <td>RSR TACOS</td>\n      <td></td>\n    </tr>\n    <tr>\n      <th>...</th>\n      <td>...</td>\n      <td>...</td>\n      <td>...</td>\n      <td>...</td>\n      <td>...</td>\n      <td>...</td>\n      <td>...</td>\n      <td>...</td>\n      <td>...</td>\n      <td>...</td>\n      <td>...</td>\n      <td>...</td>\n      <td>...</td>\n      <td>...</td>\n      <td>...</td>\n      <td>...</td>\n      <td>...</td>\n      <td>...</td>\n      <td>...</td>\n      <td>...</td>\n      <td>...</td>\n    </tr>\n    <tr>\n      <th>618996</th>\n      <td>9812787</td>\n      <td>45937</td>\n      <td>20210514</td>\n      <td>1</td>\n      <td>2021</td>\n      <td>5</td>\n      <td>14</td>\n      <td>Chico</td>\n      <td>PUESTOS</td>\n      <td>100.0</td>\n      <td>...</td>\n      <td></td>\n      <td>None</td>\n      <td>Tapachula</td>\n      <td>Tapachula</td>\n      <td>220153440tuxtla@storecheck.com2021-05-14</td>\n      <td>MR0180</td>\n      <td>Arriaga</td>\n      <td>PUESTO FIJO ALIMENTOS</td>\n      <td>PUESTO FIJO ALIMENTOS</td>\n      <td></td>\n    </tr>\n    <tr>\n      <th>618997</th>\n      <td>9812741</td>\n      <td>45830</td>\n      <td>20210515</td>\n      <td>1</td>\n      <td>2021</td>\n      <td>5</td>\n      <td>15</td>\n      <td>Chico</td>\n      <td>FONDAS</td>\n      <td>100.0</td>\n      <td>...</td>\n      <td></td>\n      <td>None</td>\n      <td>Teziutlán</td>\n      <td>Teziutlán</td>\n      <td>502100331veracruz@storecheck.com2021-05-15</td>\n      <td>MR0125</td>\n      <td>Teziutlán</td>\n      <td>FONDA/LONCHERÍA/MERENDERO</td>\n      <td>FONDA/LONCHERÍA/MERENDERO</td>\n      <td></td>\n    </tr>\n    <tr>\n      <th>618998</th>\n      <td>9812917</td>\n      <td>45817</td>\n      <td>20210518</td>\n      <td>1</td>\n      <td>2021</td>\n      <td>5</td>\n      <td>18</td>\n      <td>Chico</td>\n      <td>PUESTOS</td>\n      <td>10.0</td>\n      <td>...</td>\n      <td></td>\n      <td>None</td>\n      <td>Zihuatanejo</td>\n      <td>Zihuatanejo</td>\n      <td>610040675uruapan@storecheck.com2021-05-18</td>\n      <td>MR0071</td>\n      <td>Lázaro Cárdenas</td>\n      <td>PUESTO FIJO ALIMENTOS</td>\n      <td>PUESTO FIJO ALIMENTOS</td>\n      <td></td>\n    </tr>\n    <tr>\n      <th>618999</th>\n      <td>9812959</td>\n      <td>54609</td>\n      <td>20210507</td>\n      <td>1</td>\n      <td>2021</td>\n      <td>5</td>\n      <td>7</td>\n      <td>Chico</td>\n      <td>PUESTOS</td>\n      <td>80.0</td>\n      <td>...</td>\n      <td></td>\n      <td>None</td>\n      <td>Chalco</td>\n      <td>Chalco</td>\n      <td>105213209cdmx38@storecheck.com2021-05-07</td>\n      <td>MR0024</td>\n      <td>Chalco</td>\n      <td>PUESTO FIJO ALIMENTOS</td>\n      <td>PUESTO FIJO ALIMENTOS</td>\n      <td></td>\n    </tr>\n    <tr>\n      <th>619000</th>\n      <td>9812959</td>\n      <td>54609</td>\n      <td>20210507</td>\n      <td>1</td>\n      <td>2021</td>\n      <td>5</td>\n      <td>7</td>\n      <td>Chico</td>\n      <td>PUESTOS</td>\n      <td>80.0</td>\n      <td>...</td>\n      <td></td>\n      <td>None</td>\n      <td>Chalco</td>\n      <td>Chalco</td>\n      <td>105213209cdmx38@storecheck.com2021-05-07</td>\n      <td>MR0024</td>\n      <td>Chalco</td>\n      <td>PUESTO FIJO ALIMENTOS</td>\n      <td>PUESTO FIJO ALIMENTOS</td>\n      <td></td>\n    </tr>\n  </tbody>\n</table>\n<p>619001 rows × 50 columns</p>\n</div>"
     },
     "metadata": {},
     "execution_count": 65
    }
   ],
   "source": [
    "df = pd.DataFrame(get_query(query))\n",
    "#df = df.sort_values(by=\"VisitStartDateTime\",ascending=False)\n",
    "df"
   ]
  },
  {
   "cell_type": "code",
   "execution_count": 66,
   "metadata": {},
   "outputs": [
    {
     "output_type": "stream",
     "name": "stdout",
     "text": [
      "<class 'pandas.core.frame.DataFrame'>\nRangeIndex: 619001 entries, 0 to 619000\nData columns (total 50 columns):\n #   Column                        Non-Null Count   Dtype         \n---  ------                        --------------   -----         \n 0   LocationId                    619001 non-null  int64         \n 1   UserId                        619001 non-null  int64         \n 2   DateId                        619001 non-null  int64         \n 3   IsReported                    619001 non-null  int64         \n 4   year                          619001 non-null  int64         \n 5   month                         619001 non-null  int64         \n 6   day                           619001 non-null  int64         \n 7   Segment                       619001 non-null  object        \n 8   MarketSegment                 619001 non-null  object        \n 9   ICEScore                      619001 non-null  float64       \n 10  Question                      619001 non-null  object        \n 11  Response                      619000 non-null  object        \n 12  AssetPurityId                 619001 non-null  int64         \n 13  UserName                      619001 non-null  object        \n 14  OutletCode                    619001 non-null  object        \n 15  Outlet                        619001 non-null  object        \n 16  ImageCaptureTime              619001 non-null  datetime64[ns]\n 17  SubSceneType                  619001 non-null  object        \n 18  Scene                         619001 non-null  object        \n 19  Status                        619001 non-null  object        \n 20  SubStatus                     612690 non-null  object        \n 21  ClientCode                    619001 non-null  object        \n 22  SubClient                     619001 non-null  object        \n 23  State                         614768 non-null  object        \n 24  Country                       619001 non-null  object        \n 25  ImageCount                    619001 non-null  int64         \n 26  SessionUid                    619001 non-null  object        \n 27  SceneUId                      619001 non-null  object        \n 28  SceneId                       619001 non-null  object        \n 29  PhotoUrl                      619001 non-null  object        \n 30  VisitStartDate                619001 non-null  object        \n 31  VisitStartDateTime            619001 non-null  datetime64[ns]\n 32  VisitEndDateTime              619001 non-null  datetime64[ns]\n 33  LocationId                    619001 non-null  int64         \n 34  PrimaryEmail                  612407 non-null  object        \n 35  UserRole                      619001 non-null  object        \n 36  LocationClusterName           619001 non-null  object        \n 37  LocationLocalSubTradeChannel  616500 non-null  object        \n 38  LocationSegmentName           619001 non-null  object        \n 39  VisitStatus                   619001 non-null  object        \n 40  SurveyCancelCallReason        612407 non-null  object        \n 41  IsQAEnvironment               0 non-null       object        \n 42  SalesOfficeCode               618981 non-null  object        \n 43  SalesOfficeName               618981 non-null  object        \n 44  IdVisita                      353503 non-null  object        \n 45  SalesGroupCode                618981 non-null  object        \n 46  SalesGroupName                618981 non-null  object        \n 47  TradeGroupCode                618981 non-null  object        \n 48  TradeGroupName                618981 non-null  object        \n 49  ParentSceneUid                612407 non-null  object        \ndtypes: datetime64[ns](3), float64(1), int64(10), object(36)\nmemory usage: 236.1+ MB\n"
     ]
    }
   ],
   "source": [
    "df.info()"
   ]
  },
  {
   "cell_type": "code",
   "execution_count": 67,
   "metadata": {},
   "outputs": [
    {
     "output_type": "stream",
     "name": "stdout",
     "text": [
      "<class 'pandas.core.frame.DataFrame'>\nRangeIndex: 619001 entries, 0 to 619000\nData columns (total 51 columns):\n #   Column                        Non-Null Count   Dtype         \n---  ------                        --------------   -----         \n 0   LocationId                    619001 non-null  int64         \n 1   UserId                        619001 non-null  int64         \n 2   DateId                        619001 non-null  int64         \n 3   IsReported                    619001 non-null  int64         \n 4   year                          619001 non-null  int64         \n 5   month                         619001 non-null  int64         \n 6   day                           619001 non-null  int64         \n 7   Segment                       619001 non-null  object        \n 8   MarketSegment                 619001 non-null  object        \n 9   ICEScore                      619001 non-null  float64       \n 10  Question                      619001 non-null  object        \n 11  Response                      619000 non-null  object        \n 12  AssetPurityId                 619001 non-null  int64         \n 13  UserName                      619001 non-null  object        \n 14  OutletCode                    619001 non-null  object        \n 15  Outlet                        619001 non-null  object        \n 16  ImageCaptureTime              619001 non-null  datetime64[ns]\n 17  SubSceneType                  619001 non-null  object        \n 18  Scene                         619001 non-null  object        \n 19  Status                        619001 non-null  object        \n 20  SubStatus                     612690 non-null  object        \n 21  ClientCode                    619001 non-null  object        \n 22  SubClient                     619001 non-null  object        \n 23  State                         614768 non-null  object        \n 24  Country                       619001 non-null  object        \n 25  ImageCount                    619001 non-null  int64         \n 26  SessionUid                    619001 non-null  object        \n 27  SceneUId                      619001 non-null  object        \n 28  SceneId                       619001 non-null  object        \n 29  PhotoUrl                      619001 non-null  object        \n 30  VisitStartDate                619001 non-null  object        \n 31  VisitStartDateTime            619001 non-null  datetime64[ns]\n 32  VisitEndDateTime              619001 non-null  datetime64[ns]\n 33  LocationId                    619001 non-null  int64         \n 34  PrimaryEmail                  612407 non-null  object        \n 35  UserRole                      619001 non-null  object        \n 36  LocationClusterName           619001 non-null  object        \n 37  LocationLocalSubTradeChannel  616500 non-null  object        \n 38  LocationSegmentName           619001 non-null  object        \n 39  VisitStatus                   619001 non-null  object        \n 40  SurveyCancelCallReason        612407 non-null  object        \n 41  IsQAEnvironment               0 non-null       object        \n 42  SalesOfficeCode               618981 non-null  object        \n 43  SalesOfficeName               618981 non-null  object        \n 44  IdVisita                      353503 non-null  object        \n 45  SalesGroupCode                618981 non-null  object        \n 46  SalesGroupName                618981 non-null  object        \n 47  TradeGroupCode                618981 non-null  object        \n 48  TradeGroupName                618981 non-null  object        \n 49  ParentSceneUid                612407 non-null  object        \n 50  date_format                   619001 non-null  datetime64[ns]\ndtypes: datetime64[ns](4), float64(1), int64(10), object(36)\nmemory usage: 240.9+ MB\n"
     ]
    }
   ],
   "source": [
    "df['date_format']=pd.to_datetime(df[['year','month','day']])\n",
    "df.info()"
   ]
  },
  {
   "cell_type": "code",
   "execution_count": 68,
   "metadata": {},
   "outputs": [
    {
     "output_type": "execute_result",
     "data": {
      "text/plain": [
       "590262"
      ]
     },
     "metadata": {},
     "execution_count": 68
    }
   ],
   "source": [
    "df.duplicated(subset='SessionUid', keep='first').sum()"
   ]
  },
  {
   "cell_type": "code",
   "execution_count": 69,
   "metadata": {},
   "outputs": [
    {
     "output_type": "execute_result",
     "data": {
      "text/plain": [
       "        LocationId  UserId    DateId  IsReported  year  month  day  Segment  \\\n",
       "0          6208850   45794  20210119           1  2021      1   19    Chico   \n",
       "1          6227062   45800  20210111           1  2021      1   11    Chico   \n",
       "7          6227062   45800  20210210           1  2021      2   10    Chico   \n",
       "20         6227062   45800  20210318           1  2021      3   18    Chico   \n",
       "35         6227062   45800  20210415           1  2021      4   15    Chico   \n",
       "...            ...     ...       ...         ...   ...    ...  ...      ...   \n",
       "588248     8595484   45796  20210208           1  2021      2    8  Mediano   \n",
       "588667     8595966   45788  20210202           1  2021      2    2    Chico   \n",
       "588896     8594858   45789  20210203           1  2021      2    3    Chico   \n",
       "589921     9080796   45788  20210506           1  2021      5    6    Chico   \n",
       "593068     8593250   45794  20210316           1  2021      3   16  Mediano   \n",
       "\n",
       "       MarketSegment  ICEScore  ... IsQAEnvironment SalesOfficeCode  \\\n",
       "0            PUESTOS      75.0  ...            None         Yucatán   \n",
       "1                RSR      85.0  ...            None           Silao   \n",
       "7                RSR      85.0  ...            None           Silao   \n",
       "20               RSR      90.0  ...            None           Silao   \n",
       "35               RSR      90.0  ...            None           Silao   \n",
       "...              ...       ...  ...             ...             ...   \n",
       "588248       PUESTOS      10.0  ...            None         Yucatán   \n",
       "588667       PUESTOS      90.0  ...            None        Campeche   \n",
       "588896       PUESTOS      90.0  ...            None    Quintana Roo   \n",
       "589921       PUESTOS      20.0  ...            None        Campeche   \n",
       "593068       PUESTOS      90.0  ...            None         Yucatán   \n",
       "\n",
       "        SalesOfficeName                                 IdVisita  \\\n",
       "0               Yucatán                                     None   \n",
       "1                 Silao                                     None   \n",
       "7                 Silao  600601107leon3@storecheck.com2021-02-10   \n",
       "20                Silao                                     None   \n",
       "35                Silao  600601107leon3@storecheck.com2021-04-15   \n",
       "...                 ...                                      ...   \n",
       "588248          Yucatán                                     None   \n",
       "588667         Campeche                                     None   \n",
       "588896     Quintana Roo                                     None   \n",
       "589921         Campeche  380972campeche@storecheck.com2021-05-06   \n",
       "593068          Yucatán                                     None   \n",
       "\n",
       "       SalesGroupCode     SalesGroupName                     TradeGroupCode  \\\n",
       "0          9000222-31    Bodega Poniente  PUESTO FIJO DE VENTA DE ALIMENTOS   \n",
       "1              MR0042              Silao                          RSR TACOS   \n",
       "7              MR0042              Silao                          RSR TACOS   \n",
       "20             MR0042              Silao                          RSR TACOS   \n",
       "35             MR0042              Silao                          RSR TACOS   \n",
       "...               ...                ...                                ...   \n",
       "588248     9000222-30            Oriente  PUESTO FIJO DE VENTA DE ALIMENTOS   \n",
       "588667     9000222-13   Campeche Oriente  PUESTO FIJO DE VENTA DE ALIMENTOS   \n",
       "588896     9000222-49      Cancún Planta  PUESTO FIJO DE VENTA DE ALIMENTOS   \n",
       "589921     9000222-76  Minibodegas IECSA  PUESTO FIJO DE VENTA DE ALIMENTOS   \n",
       "593068     9000222-30            Oriente  PUESTO FIJO DE VENTA DE ALIMENTOS   \n",
       "\n",
       "                           TradeGroupName ParentSceneUid date_format  \n",
       "0       PUESTO FIJO DE VENTA DE ALIMENTOS                 2021-01-19  \n",
       "1                               RSR TACOS                 2021-01-11  \n",
       "7                               RSR TACOS                 2021-02-10  \n",
       "20                              RSR TACOS                 2021-03-18  \n",
       "35                              RSR TACOS                 2021-04-15  \n",
       "...                                   ...            ...         ...  \n",
       "588248  PUESTO FIJO DE VENTA DE ALIMENTOS                 2021-02-08  \n",
       "588667  PUESTO FIJO DE VENTA DE ALIMENTOS                 2021-02-02  \n",
       "588896  PUESTO FIJO DE VENTA DE ALIMENTOS                 2021-02-03  \n",
       "589921  PUESTO FIJO DE VENTA DE ALIMENTOS                 2021-05-06  \n",
       "593068  PUESTO FIJO DE VENTA DE ALIMENTOS                 2021-03-16  \n",
       "\n",
       "[28739 rows x 51 columns]"
      ],
      "text/html": "<div>\n<style scoped>\n    .dataframe tbody tr th:only-of-type {\n        vertical-align: middle;\n    }\n\n    .dataframe tbody tr th {\n        vertical-align: top;\n    }\n\n    .dataframe thead th {\n        text-align: right;\n    }\n</style>\n<table border=\"1\" class=\"dataframe\">\n  <thead>\n    <tr style=\"text-align: right;\">\n      <th></th>\n      <th>LocationId</th>\n      <th>UserId</th>\n      <th>DateId</th>\n      <th>IsReported</th>\n      <th>year</th>\n      <th>month</th>\n      <th>day</th>\n      <th>Segment</th>\n      <th>MarketSegment</th>\n      <th>ICEScore</th>\n      <th>...</th>\n      <th>IsQAEnvironment</th>\n      <th>SalesOfficeCode</th>\n      <th>SalesOfficeName</th>\n      <th>IdVisita</th>\n      <th>SalesGroupCode</th>\n      <th>SalesGroupName</th>\n      <th>TradeGroupCode</th>\n      <th>TradeGroupName</th>\n      <th>ParentSceneUid</th>\n      <th>date_format</th>\n    </tr>\n  </thead>\n  <tbody>\n    <tr>\n      <th>0</th>\n      <td>6208850</td>\n      <td>45794</td>\n      <td>20210119</td>\n      <td>1</td>\n      <td>2021</td>\n      <td>1</td>\n      <td>19</td>\n      <td>Chico</td>\n      <td>PUESTOS</td>\n      <td>75.0</td>\n      <td>...</td>\n      <td>None</td>\n      <td>Yucatán</td>\n      <td>Yucatán</td>\n      <td>None</td>\n      <td>9000222-31</td>\n      <td>Bodega Poniente</td>\n      <td>PUESTO FIJO DE VENTA DE ALIMENTOS</td>\n      <td>PUESTO FIJO DE VENTA DE ALIMENTOS</td>\n      <td></td>\n      <td>2021-01-19</td>\n    </tr>\n    <tr>\n      <th>1</th>\n      <td>6227062</td>\n      <td>45800</td>\n      <td>20210111</td>\n      <td>1</td>\n      <td>2021</td>\n      <td>1</td>\n      <td>11</td>\n      <td>Chico</td>\n      <td>RSR</td>\n      <td>85.0</td>\n      <td>...</td>\n      <td>None</td>\n      <td>Silao</td>\n      <td>Silao</td>\n      <td>None</td>\n      <td>MR0042</td>\n      <td>Silao</td>\n      <td>RSR TACOS</td>\n      <td>RSR TACOS</td>\n      <td></td>\n      <td>2021-01-11</td>\n    </tr>\n    <tr>\n      <th>7</th>\n      <td>6227062</td>\n      <td>45800</td>\n      <td>20210210</td>\n      <td>1</td>\n      <td>2021</td>\n      <td>2</td>\n      <td>10</td>\n      <td>Chico</td>\n      <td>RSR</td>\n      <td>85.0</td>\n      <td>...</td>\n      <td>None</td>\n      <td>Silao</td>\n      <td>Silao</td>\n      <td>600601107leon3@storecheck.com2021-02-10</td>\n      <td>MR0042</td>\n      <td>Silao</td>\n      <td>RSR TACOS</td>\n      <td>RSR TACOS</td>\n      <td></td>\n      <td>2021-02-10</td>\n    </tr>\n    <tr>\n      <th>20</th>\n      <td>6227062</td>\n      <td>45800</td>\n      <td>20210318</td>\n      <td>1</td>\n      <td>2021</td>\n      <td>3</td>\n      <td>18</td>\n      <td>Chico</td>\n      <td>RSR</td>\n      <td>90.0</td>\n      <td>...</td>\n      <td>None</td>\n      <td>Silao</td>\n      <td>Silao</td>\n      <td>None</td>\n      <td>MR0042</td>\n      <td>Silao</td>\n      <td>RSR TACOS</td>\n      <td>RSR TACOS</td>\n      <td></td>\n      <td>2021-03-18</td>\n    </tr>\n    <tr>\n      <th>35</th>\n      <td>6227062</td>\n      <td>45800</td>\n      <td>20210415</td>\n      <td>1</td>\n      <td>2021</td>\n      <td>4</td>\n      <td>15</td>\n      <td>Chico</td>\n      <td>RSR</td>\n      <td>90.0</td>\n      <td>...</td>\n      <td>None</td>\n      <td>Silao</td>\n      <td>Silao</td>\n      <td>600601107leon3@storecheck.com2021-04-15</td>\n      <td>MR0042</td>\n      <td>Silao</td>\n      <td>RSR TACOS</td>\n      <td>RSR TACOS</td>\n      <td></td>\n      <td>2021-04-15</td>\n    </tr>\n    <tr>\n      <th>...</th>\n      <td>...</td>\n      <td>...</td>\n      <td>...</td>\n      <td>...</td>\n      <td>...</td>\n      <td>...</td>\n      <td>...</td>\n      <td>...</td>\n      <td>...</td>\n      <td>...</td>\n      <td>...</td>\n      <td>...</td>\n      <td>...</td>\n      <td>...</td>\n      <td>...</td>\n      <td>...</td>\n      <td>...</td>\n      <td>...</td>\n      <td>...</td>\n      <td>...</td>\n      <td>...</td>\n    </tr>\n    <tr>\n      <th>588248</th>\n      <td>8595484</td>\n      <td>45796</td>\n      <td>20210208</td>\n      <td>1</td>\n      <td>2021</td>\n      <td>2</td>\n      <td>8</td>\n      <td>Mediano</td>\n      <td>PUESTOS</td>\n      <td>10.0</td>\n      <td>...</td>\n      <td>None</td>\n      <td>Yucatán</td>\n      <td>Yucatán</td>\n      <td>None</td>\n      <td>9000222-30</td>\n      <td>Oriente</td>\n      <td>PUESTO FIJO DE VENTA DE ALIMENTOS</td>\n      <td>PUESTO FIJO DE VENTA DE ALIMENTOS</td>\n      <td></td>\n      <td>2021-02-08</td>\n    </tr>\n    <tr>\n      <th>588667</th>\n      <td>8595966</td>\n      <td>45788</td>\n      <td>20210202</td>\n      <td>1</td>\n      <td>2021</td>\n      <td>2</td>\n      <td>2</td>\n      <td>Chico</td>\n      <td>PUESTOS</td>\n      <td>90.0</td>\n      <td>...</td>\n      <td>None</td>\n      <td>Campeche</td>\n      <td>Campeche</td>\n      <td>None</td>\n      <td>9000222-13</td>\n      <td>Campeche Oriente</td>\n      <td>PUESTO FIJO DE VENTA DE ALIMENTOS</td>\n      <td>PUESTO FIJO DE VENTA DE ALIMENTOS</td>\n      <td></td>\n      <td>2021-02-02</td>\n    </tr>\n    <tr>\n      <th>588896</th>\n      <td>8594858</td>\n      <td>45789</td>\n      <td>20210203</td>\n      <td>1</td>\n      <td>2021</td>\n      <td>2</td>\n      <td>3</td>\n      <td>Chico</td>\n      <td>PUESTOS</td>\n      <td>90.0</td>\n      <td>...</td>\n      <td>None</td>\n      <td>Quintana Roo</td>\n      <td>Quintana Roo</td>\n      <td>None</td>\n      <td>9000222-49</td>\n      <td>Cancún Planta</td>\n      <td>PUESTO FIJO DE VENTA DE ALIMENTOS</td>\n      <td>PUESTO FIJO DE VENTA DE ALIMENTOS</td>\n      <td></td>\n      <td>2021-02-03</td>\n    </tr>\n    <tr>\n      <th>589921</th>\n      <td>9080796</td>\n      <td>45788</td>\n      <td>20210506</td>\n      <td>1</td>\n      <td>2021</td>\n      <td>5</td>\n      <td>6</td>\n      <td>Chico</td>\n      <td>PUESTOS</td>\n      <td>20.0</td>\n      <td>...</td>\n      <td>None</td>\n      <td>Campeche</td>\n      <td>Campeche</td>\n      <td>380972campeche@storecheck.com2021-05-06</td>\n      <td>9000222-76</td>\n      <td>Minibodegas IECSA</td>\n      <td>PUESTO FIJO DE VENTA DE ALIMENTOS</td>\n      <td>PUESTO FIJO DE VENTA DE ALIMENTOS</td>\n      <td></td>\n      <td>2021-05-06</td>\n    </tr>\n    <tr>\n      <th>593068</th>\n      <td>8593250</td>\n      <td>45794</td>\n      <td>20210316</td>\n      <td>1</td>\n      <td>2021</td>\n      <td>3</td>\n      <td>16</td>\n      <td>Mediano</td>\n      <td>PUESTOS</td>\n      <td>90.0</td>\n      <td>...</td>\n      <td>None</td>\n      <td>Yucatán</td>\n      <td>Yucatán</td>\n      <td>None</td>\n      <td>9000222-30</td>\n      <td>Oriente</td>\n      <td>PUESTO FIJO DE VENTA DE ALIMENTOS</td>\n      <td>PUESTO FIJO DE VENTA DE ALIMENTOS</td>\n      <td></td>\n      <td>2021-03-16</td>\n    </tr>\n  </tbody>\n</table>\n<p>28739 rows × 51 columns</p>\n</div>"
     },
     "metadata": {},
     "execution_count": 69
    }
   ],
   "source": [
    "df=df.drop_duplicates(subset=['SessionUid'])\n",
    "df"
   ]
  },
  {
   "cell_type": "code",
   "execution_count": 70,
   "metadata": {},
   "outputs": [
    {
     "output_type": "execute_result",
     "data": {
      "text/plain": [
       "LocationId                               int64\n",
       "UserId                                   int64\n",
       "DateId                                   int64\n",
       "IsReported                               int64\n",
       "year                                     int64\n",
       "month                                    int64\n",
       "day                                      int64\n",
       "Segment                                 object\n",
       "MarketSegment                           object\n",
       "ICEScore                               float64\n",
       "Question                                object\n",
       "Response                                object\n",
       "AssetPurityId                            int64\n",
       "UserName                                object\n",
       "OutletCode                              object\n",
       "Outlet                                  object\n",
       "ImageCaptureTime                datetime64[ns]\n",
       "SubSceneType                            object\n",
       "Scene                                   object\n",
       "Status                                  object\n",
       "SubStatus                               object\n",
       "ClientCode                              object\n",
       "SubClient                               object\n",
       "State                                   object\n",
       "Country                                 object\n",
       "ImageCount                               int64\n",
       "SessionUid                              object\n",
       "SceneUId                                object\n",
       "SceneId                                 object\n",
       "PhotoUrl                                object\n",
       "VisitStartDate                          object\n",
       "VisitStartDateTime              datetime64[ns]\n",
       "VisitEndDateTime                datetime64[ns]\n",
       "LocationId                               int64\n",
       "PrimaryEmail                            object\n",
       "UserRole                                object\n",
       "LocationClusterName                     object\n",
       "LocationLocalSubTradeChannel            object\n",
       "LocationSegmentName                     object\n",
       "VisitStatus                             object\n",
       "SurveyCancelCallReason                  object\n",
       "IsQAEnvironment                         object\n",
       "SalesOfficeCode                         object\n",
       "SalesOfficeName                         object\n",
       "IdVisita                                object\n",
       "SalesGroupCode                          object\n",
       "SalesGroupName                          object\n",
       "TradeGroupCode                          object\n",
       "TradeGroupName                          object\n",
       "ParentSceneUid                          object\n",
       "date_format                     datetime64[ns]\n",
       "dtype: object"
      ]
     },
     "metadata": {},
     "execution_count": 70
    }
   ],
   "source": [
    "df.dtypes"
   ]
  },
  {
   "cell_type": "code",
   "execution_count": 73,
   "metadata": {},
   "outputs": [
    {
     "output_type": "execute_result",
     "data": {
      "text/plain": [
       "SubSceneType                                                                                                                                                                          Enfriador Coca-Cola  \\\n",
       "UserName                OutletCode UserId DateId   IsReported date_format month day Question                                           Response SessionUid                                                  \n",
       "acambaro@storecheck.com 1601044547 45806  20210116 1          2021-01-16  1     16  ¿Existe algún producto que no pertenezca a la f... No\u0014      c2c69c7a-3d2f-4608-a166-b48a73efc254                    0   \n",
       "                                          20210322 1          2021-03-22  3     22  ¿El enfriador tiene tapa ciega?                    No\u0014      c1bd7779-b92f-418d-9f75-9604568e65f4                    1   \n",
       "                                          20210422 0          2021-04-22  4     22  ¿Cuenta con comunicación interior?                 Yes\u0014     64587182-dd48-4bf5-9cb0-42bcd1ef1764                    0   \n",
       "                        1601074272 45806  20210120 1          2021-01-20  1     20  Foto de la fachada de la tienda                    Yes\u0014     3773476d-f3d7-4868-ba17-49de0cf3b9ae                    1   \n",
       "                                          20210216 1          2021-02-16  2     16  ¿El enfriador se encuentra visible por lo menos... Yes\u0014     31c635dc-58c3-4622-9acd-3bf7949584c9                    1   \n",
       "...                                                                                                                                                                                                   ...   \n",
       "zamora@storecheck.com   620155472  45818  20210422 1          2021-04-22  4     22  Foto del código/sticker del cliente                Yes\u0014     1ca3904e-d6dd-44a9-8c22-7ab880beb0ce                    1   \n",
       "                        620157827  45818  20210114 1          2021-01-14  1     14  Foto del código/sticker del cliente                Yes\u0014     7429bcfe-86b7-4174-a181-c9169811cd25                    1   \n",
       "                                          20210211 1          2021-02-11  2     11  ¿Es un cliente exclusivo Coca Cola?                No\u0014      544077f8-3e4b-4bea-b8f9-c6695c67c2c0                    1   \n",
       "                                          20210313 1          2021-03-13  3     13  ¿El cliente cuenta con enfriador de Coca-Cola?     Yes\u0014     d7cc94e7-4cf4-4194-9d60-6e81f190d4ef                    1   \n",
       "                                          20210416 1          2021-04-16  4     16  ¿El cliente cuenta con enfriador de Coca-Cola?     Yes\u0014     cc963e44-1a62-48cd-980e-a1576bf14887                    1   \n",
       "\n",
       "SubSceneType                                                                                                                                                                          Enfriador Competencia  \\\n",
       "UserName                OutletCode UserId DateId   IsReported date_format month day Question                                           Response SessionUid                                                    \n",
       "acambaro@storecheck.com 1601044547 45806  20210116 1          2021-01-16  1     16  ¿Existe algún producto que no pertenezca a la f... No\u0014      c2c69c7a-3d2f-4608-a166-b48a73efc254                      0   \n",
       "                                          20210322 1          2021-03-22  3     22  ¿El enfriador tiene tapa ciega?                    No\u0014      c1bd7779-b92f-418d-9f75-9604568e65f4                      0   \n",
       "                                          20210422 0          2021-04-22  4     22  ¿Cuenta con comunicación interior?                 Yes\u0014     64587182-dd48-4bf5-9cb0-42bcd1ef1764                      0   \n",
       "                        1601074272 45806  20210120 1          2021-01-20  1     20  Foto de la fachada de la tienda                    Yes\u0014     3773476d-f3d7-4868-ba17-49de0cf3b9ae                      0   \n",
       "                                          20210216 1          2021-02-16  2     16  ¿El enfriador se encuentra visible por lo menos... Yes\u0014     31c635dc-58c3-4622-9acd-3bf7949584c9                      0   \n",
       "...                                                                                                                                                                                                     ...   \n",
       "zamora@storecheck.com   620155472  45818  20210422 1          2021-04-22  4     22  Foto del código/sticker del cliente                Yes\u0014     1ca3904e-d6dd-44a9-8c22-7ab880beb0ce                      0   \n",
       "                        620157827  45818  20210114 1          2021-01-14  1     14  Foto del código/sticker del cliente                Yes\u0014     7429bcfe-86b7-4174-a181-c9169811cd25                      0   \n",
       "                                          20210211 1          2021-02-11  2     11  ¿Es un cliente exclusivo Coca Cola?                No\u0014      544077f8-3e4b-4bea-b8f9-c6695c67c2c0                      0   \n",
       "                                          20210313 1          2021-03-13  3     13  ¿El cliente cuenta con enfriador de Coca-Cola?     Yes\u0014     d7cc94e7-4cf4-4194-9d60-6e81f190d4ef                      0   \n",
       "                                          20210416 1          2021-04-16  4     16  ¿El cliente cuenta con enfriador de Coca-Cola?     Yes\u0014     cc963e44-1a62-48cd-980e-a1576bf14887                      0   \n",
       "\n",
       "SubSceneType                                                                                                                                                                          Enfriador Detallista  \n",
       "UserName                OutletCode UserId DateId   IsReported date_format month day Question                                           Response SessionUid                                                  \n",
       "acambaro@storecheck.com 1601044547 45806  20210116 1          2021-01-16  1     16  ¿Existe algún producto que no pertenezca a la f... No\u0014      c2c69c7a-3d2f-4608-a166-b48a73efc254                     1  \n",
       "                                          20210322 1          2021-03-22  3     22  ¿El enfriador tiene tapa ciega?                    No\u0014      c1bd7779-b92f-418d-9f75-9604568e65f4                     0  \n",
       "                                          20210422 0          2021-04-22  4     22  ¿Cuenta con comunicación interior?                 Yes\u0014     64587182-dd48-4bf5-9cb0-42bcd1ef1764                     1  \n",
       "                        1601074272 45806  20210120 1          2021-01-20  1     20  Foto de la fachada de la tienda                    Yes\u0014     3773476d-f3d7-4868-ba17-49de0cf3b9ae                     0  \n",
       "                                          20210216 1          2021-02-16  2     16  ¿El enfriador se encuentra visible por lo menos... Yes\u0014     31c635dc-58c3-4622-9acd-3bf7949584c9                     0  \n",
       "...                                                                                                                                                                                                    ...  \n",
       "zamora@storecheck.com   620155472  45818  20210422 1          2021-04-22  4     22  Foto del código/sticker del cliente                Yes\u0014     1ca3904e-d6dd-44a9-8c22-7ab880beb0ce                     0  \n",
       "                        620157827  45818  20210114 1          2021-01-14  1     14  Foto del código/sticker del cliente                Yes\u0014     7429bcfe-86b7-4174-a181-c9169811cd25                     0  \n",
       "                                          20210211 1          2021-02-11  2     11  ¿Es un cliente exclusivo Coca Cola?                No\u0014      544077f8-3e4b-4bea-b8f9-c6695c67c2c0                     0  \n",
       "                                          20210313 1          2021-03-13  3     13  ¿El cliente cuenta con enfriador de Coca-Cola?     Yes\u0014     d7cc94e7-4cf4-4194-9d60-6e81f190d4ef                     0  \n",
       "                                          20210416 1          2021-04-16  4     16  ¿El cliente cuenta con enfriador de Coca-Cola?     Yes\u0014     cc963e44-1a62-48cd-980e-a1576bf14887                     0  \n",
       "\n",
       "[28739 rows x 3 columns]"
      ],
      "text/html": "<div>\n<style scoped>\n    .dataframe tbody tr th:only-of-type {\n        vertical-align: middle;\n    }\n\n    .dataframe tbody tr th {\n        vertical-align: top;\n    }\n\n    .dataframe thead th {\n        text-align: right;\n    }\n</style>\n<table border=\"1\" class=\"dataframe\">\n  <thead>\n    <tr style=\"text-align: right;\">\n      <th></th>\n      <th></th>\n      <th></th>\n      <th></th>\n      <th></th>\n      <th></th>\n      <th></th>\n      <th></th>\n      <th></th>\n      <th></th>\n      <th>SubSceneType</th>\n      <th>Enfriador Coca-Cola</th>\n      <th>Enfriador Competencia</th>\n      <th>Enfriador Detallista</th>\n    </tr>\n    <tr>\n      <th>UserName</th>\n      <th>OutletCode</th>\n      <th>UserId</th>\n      <th>DateId</th>\n      <th>IsReported</th>\n      <th>date_format</th>\n      <th>month</th>\n      <th>day</th>\n      <th>Question</th>\n      <th>Response</th>\n      <th>SessionUid</th>\n      <th></th>\n      <th></th>\n      <th></th>\n    </tr>\n  </thead>\n  <tbody>\n    <tr>\n      <th rowspan=\"5\" valign=\"top\">acambaro@storecheck.com</th>\n      <th rowspan=\"3\" valign=\"top\">1601044547</th>\n      <th rowspan=\"3\" valign=\"top\">45806</th>\n      <th>20210116</th>\n      <th>1</th>\n      <th>2021-01-16</th>\n      <th>1</th>\n      <th>16</th>\n      <th>¿Existe algún producto que no pertenezca a la familia Coca-Cola (fuera de la tapa ciega)?</th>\n      <th>No\u0014</th>\n      <th>c2c69c7a-3d2f-4608-a166-b48a73efc254</th>\n      <td>0</td>\n      <td>0</td>\n      <td>1</td>\n    </tr>\n    <tr>\n      <th>20210322</th>\n      <th>1</th>\n      <th>2021-03-22</th>\n      <th>3</th>\n      <th>22</th>\n      <th>¿El enfriador tiene tapa ciega?</th>\n      <th>No\u0014</th>\n      <th>c1bd7779-b92f-418d-9f75-9604568e65f4</th>\n      <td>1</td>\n      <td>0</td>\n      <td>0</td>\n    </tr>\n    <tr>\n      <th>20210422</th>\n      <th>0</th>\n      <th>2021-04-22</th>\n      <th>4</th>\n      <th>22</th>\n      <th>¿Cuenta con comunicación interior?</th>\n      <th>Yes\u0014</th>\n      <th>64587182-dd48-4bf5-9cb0-42bcd1ef1764</th>\n      <td>0</td>\n      <td>0</td>\n      <td>1</td>\n    </tr>\n    <tr>\n      <th rowspan=\"2\" valign=\"top\">1601074272</th>\n      <th rowspan=\"2\" valign=\"top\">45806</th>\n      <th>20210120</th>\n      <th>1</th>\n      <th>2021-01-20</th>\n      <th>1</th>\n      <th>20</th>\n      <th>Foto de la fachada de la tienda</th>\n      <th>Yes\u0014</th>\n      <th>3773476d-f3d7-4868-ba17-49de0cf3b9ae</th>\n      <td>1</td>\n      <td>0</td>\n      <td>0</td>\n    </tr>\n    <tr>\n      <th>20210216</th>\n      <th>1</th>\n      <th>2021-02-16</th>\n      <th>2</th>\n      <th>16</th>\n      <th>¿El enfriador se encuentra visible por lo menos al 50% de frente o lateral a la vista del comensal?</th>\n      <th>Yes\u0014</th>\n      <th>31c635dc-58c3-4622-9acd-3bf7949584c9</th>\n      <td>1</td>\n      <td>0</td>\n      <td>0</td>\n    </tr>\n    <tr>\n      <th>...</th>\n      <th>...</th>\n      <th>...</th>\n      <th>...</th>\n      <th>...</th>\n      <th>...</th>\n      <th>...</th>\n      <th>...</th>\n      <th>...</th>\n      <th>...</th>\n      <th>...</th>\n      <td>...</td>\n      <td>...</td>\n      <td>...</td>\n    </tr>\n    <tr>\n      <th rowspan=\"5\" valign=\"top\">zamora@storecheck.com</th>\n      <th>620155472</th>\n      <th>45818</th>\n      <th>20210422</th>\n      <th>1</th>\n      <th>2021-04-22</th>\n      <th>4</th>\n      <th>22</th>\n      <th>Foto del código/sticker del cliente</th>\n      <th>Yes\u0014</th>\n      <th>1ca3904e-d6dd-44a9-8c22-7ab880beb0ce</th>\n      <td>1</td>\n      <td>0</td>\n      <td>0</td>\n    </tr>\n    <tr>\n      <th rowspan=\"4\" valign=\"top\">620157827</th>\n      <th rowspan=\"4\" valign=\"top\">45818</th>\n      <th>20210114</th>\n      <th>1</th>\n      <th>2021-01-14</th>\n      <th>1</th>\n      <th>14</th>\n      <th>Foto del código/sticker del cliente</th>\n      <th>Yes\u0014</th>\n      <th>7429bcfe-86b7-4174-a181-c9169811cd25</th>\n      <td>1</td>\n      <td>0</td>\n      <td>0</td>\n    </tr>\n    <tr>\n      <th>20210211</th>\n      <th>1</th>\n      <th>2021-02-11</th>\n      <th>2</th>\n      <th>11</th>\n      <th>¿Es un cliente exclusivo Coca Cola?</th>\n      <th>No\u0014</th>\n      <th>544077f8-3e4b-4bea-b8f9-c6695c67c2c0</th>\n      <td>1</td>\n      <td>0</td>\n      <td>0</td>\n    </tr>\n    <tr>\n      <th>20210313</th>\n      <th>1</th>\n      <th>2021-03-13</th>\n      <th>3</th>\n      <th>13</th>\n      <th>¿El cliente cuenta con enfriador de Coca-Cola?</th>\n      <th>Yes\u0014</th>\n      <th>d7cc94e7-4cf4-4194-9d60-6e81f190d4ef</th>\n      <td>1</td>\n      <td>0</td>\n      <td>0</td>\n    </tr>\n    <tr>\n      <th>20210416</th>\n      <th>1</th>\n      <th>2021-04-16</th>\n      <th>4</th>\n      <th>16</th>\n      <th>¿El cliente cuenta con enfriador de Coca-Cola?</th>\n      <th>Yes\u0014</th>\n      <th>cc963e44-1a62-48cd-980e-a1576bf14887</th>\n      <td>1</td>\n      <td>0</td>\n      <td>0</td>\n    </tr>\n  </tbody>\n</table>\n<p>28739 rows × 3 columns</p>\n</div>"
     },
     "metadata": {},
     "execution_count": 73
    }
   ],
   "source": [
    "table = pd.pivot_table(df, values='Status', index=['UserName', 'OutletCode', 'UserId', 'DateId', 'IsReported', 'date_format', 'month', 'day', 'Question', 'Response', 'SessionUid'],\n",
    "                    columns=['SubSceneType'], aggfunc={'Status':len}, fill_value=0)\n",
    "table=pd.DataFrame(table)\n",
    "table"
   ]
  },
  {
   "cell_type": "code",
   "execution_count": 74,
   "metadata": {},
   "outputs": [
    {
     "output_type": "execute_result",
     "data": {
      "text/plain": [
       "SubSceneType                 UserName  OutletCode  UserId    DateId  \\\n",
       "0             acambaro@storecheck.com  1601044547   45806  20210116   \n",
       "1             acambaro@storecheck.com  1601044547   45806  20210322   \n",
       "2             acambaro@storecheck.com  1601044547   45806  20210422   \n",
       "3             acambaro@storecheck.com  1601074272   45806  20210120   \n",
       "4             acambaro@storecheck.com  1601074272   45806  20210216   \n",
       "...                               ...         ...     ...       ...   \n",
       "28734           zamora@storecheck.com   620155472   45818  20210422   \n",
       "28735           zamora@storecheck.com   620157827   45818  20210114   \n",
       "28736           zamora@storecheck.com   620157827   45818  20210211   \n",
       "28737           zamora@storecheck.com   620157827   45818  20210313   \n",
       "28738           zamora@storecheck.com   620157827   45818  20210416   \n",
       "\n",
       "SubSceneType  IsReported date_format  month  day  \\\n",
       "0                      1  2021-01-16      1   16   \n",
       "1                      1  2021-03-22      3   22   \n",
       "2                      0  2021-04-22      4   22   \n",
       "3                      1  2021-01-20      1   20   \n",
       "4                      1  2021-02-16      2   16   \n",
       "...                  ...         ...    ...  ...   \n",
       "28734                  1  2021-04-22      4   22   \n",
       "28735                  1  2021-01-14      1   14   \n",
       "28736                  1  2021-02-11      2   11   \n",
       "28737                  1  2021-03-13      3   13   \n",
       "28738                  1  2021-04-16      4   16   \n",
       "\n",
       "SubSceneType                                           Question Response  \\\n",
       "0             ¿Existe algún producto que no pertenezca a la ...      No\u0014   \n",
       "1                               ¿El enfriador tiene tapa ciega?      No\u0014   \n",
       "2                            ¿Cuenta con comunicación interior?     Yes\u0014   \n",
       "3                               Foto de la fachada de la tienda     Yes\u0014   \n",
       "4             ¿El enfriador se encuentra visible por lo meno...     Yes\u0014   \n",
       "...                                                         ...      ...   \n",
       "28734                       Foto del código/sticker del cliente     Yes\u0014   \n",
       "28735                       Foto del código/sticker del cliente     Yes\u0014   \n",
       "28736                       ¿Es un cliente exclusivo Coca Cola?      No\u0014   \n",
       "28737            ¿El cliente cuenta con enfriador de Coca-Cola?     Yes\u0014   \n",
       "28738            ¿El cliente cuenta con enfriador de Coca-Cola?     Yes\u0014   \n",
       "\n",
       "SubSceneType                            SessionUid  Enfriador Coca-Cola  \\\n",
       "0             c2c69c7a-3d2f-4608-a166-b48a73efc254                    0   \n",
       "1             c1bd7779-b92f-418d-9f75-9604568e65f4                    1   \n",
       "2             64587182-dd48-4bf5-9cb0-42bcd1ef1764                    0   \n",
       "3             3773476d-f3d7-4868-ba17-49de0cf3b9ae                    1   \n",
       "4             31c635dc-58c3-4622-9acd-3bf7949584c9                    1   \n",
       "...                                            ...                  ...   \n",
       "28734         1ca3904e-d6dd-44a9-8c22-7ab880beb0ce                    1   \n",
       "28735         7429bcfe-86b7-4174-a181-c9169811cd25                    1   \n",
       "28736         544077f8-3e4b-4bea-b8f9-c6695c67c2c0                    1   \n",
       "28737         d7cc94e7-4cf4-4194-9d60-6e81f190d4ef                    1   \n",
       "28738         cc963e44-1a62-48cd-980e-a1576bf14887                    1   \n",
       "\n",
       "SubSceneType  Enfriador Competencia  Enfriador Detallista  \n",
       "0                                 0                     1  \n",
       "1                                 0                     0  \n",
       "2                                 0                     1  \n",
       "3                                 0                     0  \n",
       "4                                 0                     0  \n",
       "...                             ...                   ...  \n",
       "28734                             0                     0  \n",
       "28735                             0                     0  \n",
       "28736                             0                     0  \n",
       "28737                             0                     0  \n",
       "28738                             0                     0  \n",
       "\n",
       "[28739 rows x 14 columns]"
      ],
      "text/html": "<div>\n<style scoped>\n    .dataframe tbody tr th:only-of-type {\n        vertical-align: middle;\n    }\n\n    .dataframe tbody tr th {\n        vertical-align: top;\n    }\n\n    .dataframe thead th {\n        text-align: right;\n    }\n</style>\n<table border=\"1\" class=\"dataframe\">\n  <thead>\n    <tr style=\"text-align: right;\">\n      <th>SubSceneType</th>\n      <th>UserName</th>\n      <th>OutletCode</th>\n      <th>UserId</th>\n      <th>DateId</th>\n      <th>IsReported</th>\n      <th>date_format</th>\n      <th>month</th>\n      <th>day</th>\n      <th>Question</th>\n      <th>Response</th>\n      <th>SessionUid</th>\n      <th>Enfriador Coca-Cola</th>\n      <th>Enfriador Competencia</th>\n      <th>Enfriador Detallista</th>\n    </tr>\n  </thead>\n  <tbody>\n    <tr>\n      <th>0</th>\n      <td>acambaro@storecheck.com</td>\n      <td>1601044547</td>\n      <td>45806</td>\n      <td>20210116</td>\n      <td>1</td>\n      <td>2021-01-16</td>\n      <td>1</td>\n      <td>16</td>\n      <td>¿Existe algún producto que no pertenezca a la ...</td>\n      <td>No\u0014</td>\n      <td>c2c69c7a-3d2f-4608-a166-b48a73efc254</td>\n      <td>0</td>\n      <td>0</td>\n      <td>1</td>\n    </tr>\n    <tr>\n      <th>1</th>\n      <td>acambaro@storecheck.com</td>\n      <td>1601044547</td>\n      <td>45806</td>\n      <td>20210322</td>\n      <td>1</td>\n      <td>2021-03-22</td>\n      <td>3</td>\n      <td>22</td>\n      <td>¿El enfriador tiene tapa ciega?</td>\n      <td>No\u0014</td>\n      <td>c1bd7779-b92f-418d-9f75-9604568e65f4</td>\n      <td>1</td>\n      <td>0</td>\n      <td>0</td>\n    </tr>\n    <tr>\n      <th>2</th>\n      <td>acambaro@storecheck.com</td>\n      <td>1601044547</td>\n      <td>45806</td>\n      <td>20210422</td>\n      <td>0</td>\n      <td>2021-04-22</td>\n      <td>4</td>\n      <td>22</td>\n      <td>¿Cuenta con comunicación interior?</td>\n      <td>Yes\u0014</td>\n      <td>64587182-dd48-4bf5-9cb0-42bcd1ef1764</td>\n      <td>0</td>\n      <td>0</td>\n      <td>1</td>\n    </tr>\n    <tr>\n      <th>3</th>\n      <td>acambaro@storecheck.com</td>\n      <td>1601074272</td>\n      <td>45806</td>\n      <td>20210120</td>\n      <td>1</td>\n      <td>2021-01-20</td>\n      <td>1</td>\n      <td>20</td>\n      <td>Foto de la fachada de la tienda</td>\n      <td>Yes\u0014</td>\n      <td>3773476d-f3d7-4868-ba17-49de0cf3b9ae</td>\n      <td>1</td>\n      <td>0</td>\n      <td>0</td>\n    </tr>\n    <tr>\n      <th>4</th>\n      <td>acambaro@storecheck.com</td>\n      <td>1601074272</td>\n      <td>45806</td>\n      <td>20210216</td>\n      <td>1</td>\n      <td>2021-02-16</td>\n      <td>2</td>\n      <td>16</td>\n      <td>¿El enfriador se encuentra visible por lo meno...</td>\n      <td>Yes\u0014</td>\n      <td>31c635dc-58c3-4622-9acd-3bf7949584c9</td>\n      <td>1</td>\n      <td>0</td>\n      <td>0</td>\n    </tr>\n    <tr>\n      <th>...</th>\n      <td>...</td>\n      <td>...</td>\n      <td>...</td>\n      <td>...</td>\n      <td>...</td>\n      <td>...</td>\n      <td>...</td>\n      <td>...</td>\n      <td>...</td>\n      <td>...</td>\n      <td>...</td>\n      <td>...</td>\n      <td>...</td>\n      <td>...</td>\n    </tr>\n    <tr>\n      <th>28734</th>\n      <td>zamora@storecheck.com</td>\n      <td>620155472</td>\n      <td>45818</td>\n      <td>20210422</td>\n      <td>1</td>\n      <td>2021-04-22</td>\n      <td>4</td>\n      <td>22</td>\n      <td>Foto del código/sticker del cliente</td>\n      <td>Yes\u0014</td>\n      <td>1ca3904e-d6dd-44a9-8c22-7ab880beb0ce</td>\n      <td>1</td>\n      <td>0</td>\n      <td>0</td>\n    </tr>\n    <tr>\n      <th>28735</th>\n      <td>zamora@storecheck.com</td>\n      <td>620157827</td>\n      <td>45818</td>\n      <td>20210114</td>\n      <td>1</td>\n      <td>2021-01-14</td>\n      <td>1</td>\n      <td>14</td>\n      <td>Foto del código/sticker del cliente</td>\n      <td>Yes\u0014</td>\n      <td>7429bcfe-86b7-4174-a181-c9169811cd25</td>\n      <td>1</td>\n      <td>0</td>\n      <td>0</td>\n    </tr>\n    <tr>\n      <th>28736</th>\n      <td>zamora@storecheck.com</td>\n      <td>620157827</td>\n      <td>45818</td>\n      <td>20210211</td>\n      <td>1</td>\n      <td>2021-02-11</td>\n      <td>2</td>\n      <td>11</td>\n      <td>¿Es un cliente exclusivo Coca Cola?</td>\n      <td>No\u0014</td>\n      <td>544077f8-3e4b-4bea-b8f9-c6695c67c2c0</td>\n      <td>1</td>\n      <td>0</td>\n      <td>0</td>\n    </tr>\n    <tr>\n      <th>28737</th>\n      <td>zamora@storecheck.com</td>\n      <td>620157827</td>\n      <td>45818</td>\n      <td>20210313</td>\n      <td>1</td>\n      <td>2021-03-13</td>\n      <td>3</td>\n      <td>13</td>\n      <td>¿El cliente cuenta con enfriador de Coca-Cola?</td>\n      <td>Yes\u0014</td>\n      <td>d7cc94e7-4cf4-4194-9d60-6e81f190d4ef</td>\n      <td>1</td>\n      <td>0</td>\n      <td>0</td>\n    </tr>\n    <tr>\n      <th>28738</th>\n      <td>zamora@storecheck.com</td>\n      <td>620157827</td>\n      <td>45818</td>\n      <td>20210416</td>\n      <td>1</td>\n      <td>2021-04-16</td>\n      <td>4</td>\n      <td>16</td>\n      <td>¿El cliente cuenta con enfriador de Coca-Cola?</td>\n      <td>Yes\u0014</td>\n      <td>cc963e44-1a62-48cd-980e-a1576bf14887</td>\n      <td>1</td>\n      <td>0</td>\n      <td>0</td>\n    </tr>\n  </tbody>\n</table>\n<p>28739 rows × 14 columns</p>\n</div>"
     },
     "metadata": {},
     "execution_count": 74
    }
   ],
   "source": [
    "table = table.reset_index()\n",
    "table"
   ]
  },
  {
   "cell_type": "code",
   "execution_count": 75,
   "metadata": {},
   "outputs": [
    {
     "output_type": "execute_result",
     "data": {
      "text/plain": [
       "SubSceneType\n",
       "UserName                         object\n",
       "OutletCode                       object\n",
       "UserId                            int64\n",
       "DateId                            int64\n",
       "IsReported                        int64\n",
       "date_format              datetime64[ns]\n",
       "month                             int64\n",
       "day                               int64\n",
       "Question                         object\n",
       "Response                         object\n",
       "SessionUid                       object\n",
       "Enfriador Coca-Cola               int64\n",
       "Enfriador Competencia             int64\n",
       "Enfriador Detallista              int64\n",
       "dtype: object"
      ]
     },
     "metadata": {},
     "execution_count": 75
    }
   ],
   "source": [
    "table.dtypes"
   ]
  },
  {
   "cell_type": "code",
   "execution_count": 76,
   "metadata": {},
   "outputs": [
    {
     "output_type": "stream",
     "name": "stderr",
     "text": [
      "<ipython-input-76-2dbf2535369e>:1: FutureWarning: Indexing with multiple keys (implicitly converted to a tuple of keys) will be deprecated, use a list instead.\n  ifi=table.groupby(['UserName', 'OutletCode', 'UserId', 'DateId', 'IsReported', 'date_format', 'SessionUid', 'Question', 'Response', 'month', 'day'])['Enfriador Coca-Cola', 'Enfriador Competencia', 'Enfriador Detallista'].sum()\n"
     ]
    },
    {
     "output_type": "execute_result",
     "data": {
      "text/plain": [
       "SubSceneType                                                                                                                                                                          Enfriador Coca-Cola  \\\n",
       "UserName                OutletCode UserId DateId   IsReported date_format SessionUid                           Question                                           Response month day                        \n",
       "acambaro@storecheck.com 1601044547 45806  20210116 1          2021-01-16  c2c69c7a-3d2f-4608-a166-b48a73efc254 ¿Existe algún producto que no pertenezca a la f... No\u0014      1     16                     0   \n",
       "                                          20210322 1          2021-03-22  c1bd7779-b92f-418d-9f75-9604568e65f4 ¿El enfriador tiene tapa ciega?                    No\u0014      3     22                     1   \n",
       "                                          20210422 0          2021-04-22  64587182-dd48-4bf5-9cb0-42bcd1ef1764 ¿Cuenta con comunicación interior?                 Yes\u0014     4     22                     0   \n",
       "                        1601074272 45806  20210120 1          2021-01-20  3773476d-f3d7-4868-ba17-49de0cf3b9ae Foto de la fachada de la tienda                    Yes\u0014     1     20                     1   \n",
       "                                          20210216 1          2021-02-16  31c635dc-58c3-4622-9acd-3bf7949584c9 ¿El enfriador se encuentra visible por lo menos... Yes\u0014     2     16                     1   \n",
       "...                                                                                                                                                                                                   ...   \n",
       "zamora@storecheck.com   620155472  45818  20210422 1          2021-04-22  1ca3904e-d6dd-44a9-8c22-7ab880beb0ce Foto del código/sticker del cliente                Yes\u0014     4     22                     1   \n",
       "                        620157827  45818  20210114 1          2021-01-14  7429bcfe-86b7-4174-a181-c9169811cd25 Foto del código/sticker del cliente                Yes\u0014     1     14                     1   \n",
       "                                          20210211 1          2021-02-11  544077f8-3e4b-4bea-b8f9-c6695c67c2c0 ¿Es un cliente exclusivo Coca Cola?                No\u0014      2     11                     1   \n",
       "                                          20210313 1          2021-03-13  d7cc94e7-4cf4-4194-9d60-6e81f190d4ef ¿El cliente cuenta con enfriador de Coca-Cola?     Yes\u0014     3     13                     1   \n",
       "                                          20210416 1          2021-04-16  cc963e44-1a62-48cd-980e-a1576bf14887 ¿El cliente cuenta con enfriador de Coca-Cola?     Yes\u0014     4     16                     1   \n",
       "\n",
       "SubSceneType                                                                                                                                                                          Enfriador Competencia  \\\n",
       "UserName                OutletCode UserId DateId   IsReported date_format SessionUid                           Question                                           Response month day                          \n",
       "acambaro@storecheck.com 1601044547 45806  20210116 1          2021-01-16  c2c69c7a-3d2f-4608-a166-b48a73efc254 ¿Existe algún producto que no pertenezca a la f... No\u0014      1     16                       0   \n",
       "                                          20210322 1          2021-03-22  c1bd7779-b92f-418d-9f75-9604568e65f4 ¿El enfriador tiene tapa ciega?                    No\u0014      3     22                       0   \n",
       "                                          20210422 0          2021-04-22  64587182-dd48-4bf5-9cb0-42bcd1ef1764 ¿Cuenta con comunicación interior?                 Yes\u0014     4     22                       0   \n",
       "                        1601074272 45806  20210120 1          2021-01-20  3773476d-f3d7-4868-ba17-49de0cf3b9ae Foto de la fachada de la tienda                    Yes\u0014     1     20                       0   \n",
       "                                          20210216 1          2021-02-16  31c635dc-58c3-4622-9acd-3bf7949584c9 ¿El enfriador se encuentra visible por lo menos... Yes\u0014     2     16                       0   \n",
       "...                                                                                                                                                                                                     ...   \n",
       "zamora@storecheck.com   620155472  45818  20210422 1          2021-04-22  1ca3904e-d6dd-44a9-8c22-7ab880beb0ce Foto del código/sticker del cliente                Yes\u0014     4     22                       0   \n",
       "                        620157827  45818  20210114 1          2021-01-14  7429bcfe-86b7-4174-a181-c9169811cd25 Foto del código/sticker del cliente                Yes\u0014     1     14                       0   \n",
       "                                          20210211 1          2021-02-11  544077f8-3e4b-4bea-b8f9-c6695c67c2c0 ¿Es un cliente exclusivo Coca Cola?                No\u0014      2     11                       0   \n",
       "                                          20210313 1          2021-03-13  d7cc94e7-4cf4-4194-9d60-6e81f190d4ef ¿El cliente cuenta con enfriador de Coca-Cola?     Yes\u0014     3     13                       0   \n",
       "                                          20210416 1          2021-04-16  cc963e44-1a62-48cd-980e-a1576bf14887 ¿El cliente cuenta con enfriador de Coca-Cola?     Yes\u0014     4     16                       0   \n",
       "\n",
       "SubSceneType                                                                                                                                                                          Enfriador Detallista  \n",
       "UserName                OutletCode UserId DateId   IsReported date_format SessionUid                           Question                                           Response month day                        \n",
       "acambaro@storecheck.com 1601044547 45806  20210116 1          2021-01-16  c2c69c7a-3d2f-4608-a166-b48a73efc254 ¿Existe algún producto que no pertenezca a la f... No\u0014      1     16                      1  \n",
       "                                          20210322 1          2021-03-22  c1bd7779-b92f-418d-9f75-9604568e65f4 ¿El enfriador tiene tapa ciega?                    No\u0014      3     22                      0  \n",
       "                                          20210422 0          2021-04-22  64587182-dd48-4bf5-9cb0-42bcd1ef1764 ¿Cuenta con comunicación interior?                 Yes\u0014     4     22                      1  \n",
       "                        1601074272 45806  20210120 1          2021-01-20  3773476d-f3d7-4868-ba17-49de0cf3b9ae Foto de la fachada de la tienda                    Yes\u0014     1     20                      0  \n",
       "                                          20210216 1          2021-02-16  31c635dc-58c3-4622-9acd-3bf7949584c9 ¿El enfriador se encuentra visible por lo menos... Yes\u0014     2     16                      0  \n",
       "...                                                                                                                                                                                                    ...  \n",
       "zamora@storecheck.com   620155472  45818  20210422 1          2021-04-22  1ca3904e-d6dd-44a9-8c22-7ab880beb0ce Foto del código/sticker del cliente                Yes\u0014     4     22                      0  \n",
       "                        620157827  45818  20210114 1          2021-01-14  7429bcfe-86b7-4174-a181-c9169811cd25 Foto del código/sticker del cliente                Yes\u0014     1     14                      0  \n",
       "                                          20210211 1          2021-02-11  544077f8-3e4b-4bea-b8f9-c6695c67c2c0 ¿Es un cliente exclusivo Coca Cola?                No\u0014      2     11                      0  \n",
       "                                          20210313 1          2021-03-13  d7cc94e7-4cf4-4194-9d60-6e81f190d4ef ¿El cliente cuenta con enfriador de Coca-Cola?     Yes\u0014     3     13                      0  \n",
       "                                          20210416 1          2021-04-16  cc963e44-1a62-48cd-980e-a1576bf14887 ¿El cliente cuenta con enfriador de Coca-Cola?     Yes\u0014     4     16                      0  \n",
       "\n",
       "[28739 rows x 3 columns]"
      ],
      "text/html": "<div>\n<style scoped>\n    .dataframe tbody tr th:only-of-type {\n        vertical-align: middle;\n    }\n\n    .dataframe tbody tr th {\n        vertical-align: top;\n    }\n\n    .dataframe thead th {\n        text-align: right;\n    }\n</style>\n<table border=\"1\" class=\"dataframe\">\n  <thead>\n    <tr style=\"text-align: right;\">\n      <th></th>\n      <th></th>\n      <th></th>\n      <th></th>\n      <th></th>\n      <th></th>\n      <th></th>\n      <th></th>\n      <th></th>\n      <th></th>\n      <th>SubSceneType</th>\n      <th>Enfriador Coca-Cola</th>\n      <th>Enfriador Competencia</th>\n      <th>Enfriador Detallista</th>\n    </tr>\n    <tr>\n      <th>UserName</th>\n      <th>OutletCode</th>\n      <th>UserId</th>\n      <th>DateId</th>\n      <th>IsReported</th>\n      <th>date_format</th>\n      <th>SessionUid</th>\n      <th>Question</th>\n      <th>Response</th>\n      <th>month</th>\n      <th>day</th>\n      <th></th>\n      <th></th>\n      <th></th>\n    </tr>\n  </thead>\n  <tbody>\n    <tr>\n      <th rowspan=\"5\" valign=\"top\">acambaro@storecheck.com</th>\n      <th rowspan=\"3\" valign=\"top\">1601044547</th>\n      <th rowspan=\"3\" valign=\"top\">45806</th>\n      <th>20210116</th>\n      <th>1</th>\n      <th>2021-01-16</th>\n      <th>c2c69c7a-3d2f-4608-a166-b48a73efc254</th>\n      <th>¿Existe algún producto que no pertenezca a la familia Coca-Cola (fuera de la tapa ciega)?</th>\n      <th>No\u0014</th>\n      <th>1</th>\n      <th>16</th>\n      <td>0</td>\n      <td>0</td>\n      <td>1</td>\n    </tr>\n    <tr>\n      <th>20210322</th>\n      <th>1</th>\n      <th>2021-03-22</th>\n      <th>c1bd7779-b92f-418d-9f75-9604568e65f4</th>\n      <th>¿El enfriador tiene tapa ciega?</th>\n      <th>No\u0014</th>\n      <th>3</th>\n      <th>22</th>\n      <td>1</td>\n      <td>0</td>\n      <td>0</td>\n    </tr>\n    <tr>\n      <th>20210422</th>\n      <th>0</th>\n      <th>2021-04-22</th>\n      <th>64587182-dd48-4bf5-9cb0-42bcd1ef1764</th>\n      <th>¿Cuenta con comunicación interior?</th>\n      <th>Yes\u0014</th>\n      <th>4</th>\n      <th>22</th>\n      <td>0</td>\n      <td>0</td>\n      <td>1</td>\n    </tr>\n    <tr>\n      <th rowspan=\"2\" valign=\"top\">1601074272</th>\n      <th rowspan=\"2\" valign=\"top\">45806</th>\n      <th>20210120</th>\n      <th>1</th>\n      <th>2021-01-20</th>\n      <th>3773476d-f3d7-4868-ba17-49de0cf3b9ae</th>\n      <th>Foto de la fachada de la tienda</th>\n      <th>Yes\u0014</th>\n      <th>1</th>\n      <th>20</th>\n      <td>1</td>\n      <td>0</td>\n      <td>0</td>\n    </tr>\n    <tr>\n      <th>20210216</th>\n      <th>1</th>\n      <th>2021-02-16</th>\n      <th>31c635dc-58c3-4622-9acd-3bf7949584c9</th>\n      <th>¿El enfriador se encuentra visible por lo menos al 50% de frente o lateral a la vista del comensal?</th>\n      <th>Yes\u0014</th>\n      <th>2</th>\n      <th>16</th>\n      <td>1</td>\n      <td>0</td>\n      <td>0</td>\n    </tr>\n    <tr>\n      <th>...</th>\n      <th>...</th>\n      <th>...</th>\n      <th>...</th>\n      <th>...</th>\n      <th>...</th>\n      <th>...</th>\n      <th>...</th>\n      <th>...</th>\n      <th>...</th>\n      <th>...</th>\n      <td>...</td>\n      <td>...</td>\n      <td>...</td>\n    </tr>\n    <tr>\n      <th rowspan=\"5\" valign=\"top\">zamora@storecheck.com</th>\n      <th>620155472</th>\n      <th>45818</th>\n      <th>20210422</th>\n      <th>1</th>\n      <th>2021-04-22</th>\n      <th>1ca3904e-d6dd-44a9-8c22-7ab880beb0ce</th>\n      <th>Foto del código/sticker del cliente</th>\n      <th>Yes\u0014</th>\n      <th>4</th>\n      <th>22</th>\n      <td>1</td>\n      <td>0</td>\n      <td>0</td>\n    </tr>\n    <tr>\n      <th rowspan=\"4\" valign=\"top\">620157827</th>\n      <th rowspan=\"4\" valign=\"top\">45818</th>\n      <th>20210114</th>\n      <th>1</th>\n      <th>2021-01-14</th>\n      <th>7429bcfe-86b7-4174-a181-c9169811cd25</th>\n      <th>Foto del código/sticker del cliente</th>\n      <th>Yes\u0014</th>\n      <th>1</th>\n      <th>14</th>\n      <td>1</td>\n      <td>0</td>\n      <td>0</td>\n    </tr>\n    <tr>\n      <th>20210211</th>\n      <th>1</th>\n      <th>2021-02-11</th>\n      <th>544077f8-3e4b-4bea-b8f9-c6695c67c2c0</th>\n      <th>¿Es un cliente exclusivo Coca Cola?</th>\n      <th>No\u0014</th>\n      <th>2</th>\n      <th>11</th>\n      <td>1</td>\n      <td>0</td>\n      <td>0</td>\n    </tr>\n    <tr>\n      <th>20210313</th>\n      <th>1</th>\n      <th>2021-03-13</th>\n      <th>d7cc94e7-4cf4-4194-9d60-6e81f190d4ef</th>\n      <th>¿El cliente cuenta con enfriador de Coca-Cola?</th>\n      <th>Yes\u0014</th>\n      <th>3</th>\n      <th>13</th>\n      <td>1</td>\n      <td>0</td>\n      <td>0</td>\n    </tr>\n    <tr>\n      <th>20210416</th>\n      <th>1</th>\n      <th>2021-04-16</th>\n      <th>cc963e44-1a62-48cd-980e-a1576bf14887</th>\n      <th>¿El cliente cuenta con enfriador de Coca-Cola?</th>\n      <th>Yes\u0014</th>\n      <th>4</th>\n      <th>16</th>\n      <td>1</td>\n      <td>0</td>\n      <td>0</td>\n    </tr>\n  </tbody>\n</table>\n<p>28739 rows × 3 columns</p>\n</div>"
     },
     "metadata": {},
     "execution_count": 76
    }
   ],
   "source": [
    "ifi=table.groupby(['UserName', 'OutletCode', 'UserId', 'DateId', 'IsReported', 'date_format', 'SessionUid', 'Question', 'Response', 'month', 'day'])['Enfriador Coca-Cola', 'Enfriador Competencia', 'Enfriador Detallista'].sum()\n",
    "\n",
    "ifi  "
   ]
  },
  {
   "cell_type": "code",
   "execution_count": 77,
   "metadata": {},
   "outputs": [
    {
     "output_type": "execute_result",
     "data": {
      "text/plain": [
       "SubSceneType                 UserName  OutletCode  UserId    DateId  \\\n",
       "0             acambaro@storecheck.com  1601044547   45806  20210116   \n",
       "1             acambaro@storecheck.com  1601044547   45806  20210322   \n",
       "2             acambaro@storecheck.com  1601044547   45806  20210422   \n",
       "3             acambaro@storecheck.com  1601074272   45806  20210120   \n",
       "4             acambaro@storecheck.com  1601074272   45806  20210216   \n",
       "...                               ...         ...     ...       ...   \n",
       "28734           zamora@storecheck.com   620155472   45818  20210422   \n",
       "28735           zamora@storecheck.com   620157827   45818  20210114   \n",
       "28736           zamora@storecheck.com   620157827   45818  20210211   \n",
       "28737           zamora@storecheck.com   620157827   45818  20210313   \n",
       "28738           zamora@storecheck.com   620157827   45818  20210416   \n",
       "\n",
       "SubSceneType  IsReported date_format                            SessionUid  \\\n",
       "0                      1  2021-01-16  c2c69c7a-3d2f-4608-a166-b48a73efc254   \n",
       "1                      1  2021-03-22  c1bd7779-b92f-418d-9f75-9604568e65f4   \n",
       "2                      0  2021-04-22  64587182-dd48-4bf5-9cb0-42bcd1ef1764   \n",
       "3                      1  2021-01-20  3773476d-f3d7-4868-ba17-49de0cf3b9ae   \n",
       "4                      1  2021-02-16  31c635dc-58c3-4622-9acd-3bf7949584c9   \n",
       "...                  ...         ...                                   ...   \n",
       "28734                  1  2021-04-22  1ca3904e-d6dd-44a9-8c22-7ab880beb0ce   \n",
       "28735                  1  2021-01-14  7429bcfe-86b7-4174-a181-c9169811cd25   \n",
       "28736                  1  2021-02-11  544077f8-3e4b-4bea-b8f9-c6695c67c2c0   \n",
       "28737                  1  2021-03-13  d7cc94e7-4cf4-4194-9d60-6e81f190d4ef   \n",
       "28738                  1  2021-04-16  cc963e44-1a62-48cd-980e-a1576bf14887   \n",
       "\n",
       "SubSceneType                                           Question Response  \\\n",
       "0             ¿Existe algún producto que no pertenezca a la ...      No\u0014   \n",
       "1                               ¿El enfriador tiene tapa ciega?      No\u0014   \n",
       "2                            ¿Cuenta con comunicación interior?     Yes\u0014   \n",
       "3                               Foto de la fachada de la tienda     Yes\u0014   \n",
       "4             ¿El enfriador se encuentra visible por lo meno...     Yes\u0014   \n",
       "...                                                         ...      ...   \n",
       "28734                       Foto del código/sticker del cliente     Yes\u0014   \n",
       "28735                       Foto del código/sticker del cliente     Yes\u0014   \n",
       "28736                       ¿Es un cliente exclusivo Coca Cola?      No\u0014   \n",
       "28737            ¿El cliente cuenta con enfriador de Coca-Cola?     Yes\u0014   \n",
       "28738            ¿El cliente cuenta con enfriador de Coca-Cola?     Yes\u0014   \n",
       "\n",
       "SubSceneType  month  day  Enfriador Coca-Cola  Enfriador Competencia  \\\n",
       "0                 1   16                    0                      0   \n",
       "1                 3   22                    1                      0   \n",
       "2                 4   22                    0                      0   \n",
       "3                 1   20                    1                      0   \n",
       "4                 2   16                    1                      0   \n",
       "...             ...  ...                  ...                    ...   \n",
       "28734             4   22                    1                      0   \n",
       "28735             1   14                    1                      0   \n",
       "28736             2   11                    1                      0   \n",
       "28737             3   13                    1                      0   \n",
       "28738             4   16                    1                      0   \n",
       "\n",
       "SubSceneType  Enfriador Detallista  \n",
       "0                                1  \n",
       "1                                0  \n",
       "2                                1  \n",
       "3                                0  \n",
       "4                                0  \n",
       "...                            ...  \n",
       "28734                            0  \n",
       "28735                            0  \n",
       "28736                            0  \n",
       "28737                            0  \n",
       "28738                            0  \n",
       "\n",
       "[28739 rows x 14 columns]"
      ],
      "text/html": "<div>\n<style scoped>\n    .dataframe tbody tr th:only-of-type {\n        vertical-align: middle;\n    }\n\n    .dataframe tbody tr th {\n        vertical-align: top;\n    }\n\n    .dataframe thead th {\n        text-align: right;\n    }\n</style>\n<table border=\"1\" class=\"dataframe\">\n  <thead>\n    <tr style=\"text-align: right;\">\n      <th>SubSceneType</th>\n      <th>UserName</th>\n      <th>OutletCode</th>\n      <th>UserId</th>\n      <th>DateId</th>\n      <th>IsReported</th>\n      <th>date_format</th>\n      <th>SessionUid</th>\n      <th>Question</th>\n      <th>Response</th>\n      <th>month</th>\n      <th>day</th>\n      <th>Enfriador Coca-Cola</th>\n      <th>Enfriador Competencia</th>\n      <th>Enfriador Detallista</th>\n    </tr>\n  </thead>\n  <tbody>\n    <tr>\n      <th>0</th>\n      <td>acambaro@storecheck.com</td>\n      <td>1601044547</td>\n      <td>45806</td>\n      <td>20210116</td>\n      <td>1</td>\n      <td>2021-01-16</td>\n      <td>c2c69c7a-3d2f-4608-a166-b48a73efc254</td>\n      <td>¿Existe algún producto que no pertenezca a la ...</td>\n      <td>No\u0014</td>\n      <td>1</td>\n      <td>16</td>\n      <td>0</td>\n      <td>0</td>\n      <td>1</td>\n    </tr>\n    <tr>\n      <th>1</th>\n      <td>acambaro@storecheck.com</td>\n      <td>1601044547</td>\n      <td>45806</td>\n      <td>20210322</td>\n      <td>1</td>\n      <td>2021-03-22</td>\n      <td>c1bd7779-b92f-418d-9f75-9604568e65f4</td>\n      <td>¿El enfriador tiene tapa ciega?</td>\n      <td>No\u0014</td>\n      <td>3</td>\n      <td>22</td>\n      <td>1</td>\n      <td>0</td>\n      <td>0</td>\n    </tr>\n    <tr>\n      <th>2</th>\n      <td>acambaro@storecheck.com</td>\n      <td>1601044547</td>\n      <td>45806</td>\n      <td>20210422</td>\n      <td>0</td>\n      <td>2021-04-22</td>\n      <td>64587182-dd48-4bf5-9cb0-42bcd1ef1764</td>\n      <td>¿Cuenta con comunicación interior?</td>\n      <td>Yes\u0014</td>\n      <td>4</td>\n      <td>22</td>\n      <td>0</td>\n      <td>0</td>\n      <td>1</td>\n    </tr>\n    <tr>\n      <th>3</th>\n      <td>acambaro@storecheck.com</td>\n      <td>1601074272</td>\n      <td>45806</td>\n      <td>20210120</td>\n      <td>1</td>\n      <td>2021-01-20</td>\n      <td>3773476d-f3d7-4868-ba17-49de0cf3b9ae</td>\n      <td>Foto de la fachada de la tienda</td>\n      <td>Yes\u0014</td>\n      <td>1</td>\n      <td>20</td>\n      <td>1</td>\n      <td>0</td>\n      <td>0</td>\n    </tr>\n    <tr>\n      <th>4</th>\n      <td>acambaro@storecheck.com</td>\n      <td>1601074272</td>\n      <td>45806</td>\n      <td>20210216</td>\n      <td>1</td>\n      <td>2021-02-16</td>\n      <td>31c635dc-58c3-4622-9acd-3bf7949584c9</td>\n      <td>¿El enfriador se encuentra visible por lo meno...</td>\n      <td>Yes\u0014</td>\n      <td>2</td>\n      <td>16</td>\n      <td>1</td>\n      <td>0</td>\n      <td>0</td>\n    </tr>\n    <tr>\n      <th>...</th>\n      <td>...</td>\n      <td>...</td>\n      <td>...</td>\n      <td>...</td>\n      <td>...</td>\n      <td>...</td>\n      <td>...</td>\n      <td>...</td>\n      <td>...</td>\n      <td>...</td>\n      <td>...</td>\n      <td>...</td>\n      <td>...</td>\n      <td>...</td>\n    </tr>\n    <tr>\n      <th>28734</th>\n      <td>zamora@storecheck.com</td>\n      <td>620155472</td>\n      <td>45818</td>\n      <td>20210422</td>\n      <td>1</td>\n      <td>2021-04-22</td>\n      <td>1ca3904e-d6dd-44a9-8c22-7ab880beb0ce</td>\n      <td>Foto del código/sticker del cliente</td>\n      <td>Yes\u0014</td>\n      <td>4</td>\n      <td>22</td>\n      <td>1</td>\n      <td>0</td>\n      <td>0</td>\n    </tr>\n    <tr>\n      <th>28735</th>\n      <td>zamora@storecheck.com</td>\n      <td>620157827</td>\n      <td>45818</td>\n      <td>20210114</td>\n      <td>1</td>\n      <td>2021-01-14</td>\n      <td>7429bcfe-86b7-4174-a181-c9169811cd25</td>\n      <td>Foto del código/sticker del cliente</td>\n      <td>Yes\u0014</td>\n      <td>1</td>\n      <td>14</td>\n      <td>1</td>\n      <td>0</td>\n      <td>0</td>\n    </tr>\n    <tr>\n      <th>28736</th>\n      <td>zamora@storecheck.com</td>\n      <td>620157827</td>\n      <td>45818</td>\n      <td>20210211</td>\n      <td>1</td>\n      <td>2021-02-11</td>\n      <td>544077f8-3e4b-4bea-b8f9-c6695c67c2c0</td>\n      <td>¿Es un cliente exclusivo Coca Cola?</td>\n      <td>No\u0014</td>\n      <td>2</td>\n      <td>11</td>\n      <td>1</td>\n      <td>0</td>\n      <td>0</td>\n    </tr>\n    <tr>\n      <th>28737</th>\n      <td>zamora@storecheck.com</td>\n      <td>620157827</td>\n      <td>45818</td>\n      <td>20210313</td>\n      <td>1</td>\n      <td>2021-03-13</td>\n      <td>d7cc94e7-4cf4-4194-9d60-6e81f190d4ef</td>\n      <td>¿El cliente cuenta con enfriador de Coca-Cola?</td>\n      <td>Yes\u0014</td>\n      <td>3</td>\n      <td>13</td>\n      <td>1</td>\n      <td>0</td>\n      <td>0</td>\n    </tr>\n    <tr>\n      <th>28738</th>\n      <td>zamora@storecheck.com</td>\n      <td>620157827</td>\n      <td>45818</td>\n      <td>20210416</td>\n      <td>1</td>\n      <td>2021-04-16</td>\n      <td>cc963e44-1a62-48cd-980e-a1576bf14887</td>\n      <td>¿El cliente cuenta con enfriador de Coca-Cola?</td>\n      <td>Yes\u0014</td>\n      <td>4</td>\n      <td>16</td>\n      <td>1</td>\n      <td>0</td>\n      <td>0</td>\n    </tr>\n  </tbody>\n</table>\n<p>28739 rows × 14 columns</p>\n</div>"
     },
     "metadata": {},
     "execution_count": 77
    }
   ],
   "source": [
    "table2 = ifi.reset_index()\n",
    "table2"
   ]
  },
  {
   "cell_type": "code",
   "execution_count": 78,
   "metadata": {},
   "outputs": [
    {
     "output_type": "stream",
     "name": "stdout",
     "text": [
      "<class 'pandas.core.frame.DataFrame'>\nRangeIndex: 28739 entries, 0 to 28738\nData columns (total 14 columns):\n #   Column                 Non-Null Count  Dtype         \n---  ------                 --------------  -----         \n 0   UserName               28739 non-null  object        \n 1   OutletCode             28739 non-null  object        \n 2   UserId                 28739 non-null  int64         \n 3   DateId                 28739 non-null  int64         \n 4   IsReported             28739 non-null  int64         \n 5   date_format            28739 non-null  datetime64[ns]\n 6   SessionUid             28739 non-null  object        \n 7   Question               28739 non-null  object        \n 8   Response               28739 non-null  object        \n 9   month                  28739 non-null  int64         \n 10  day                    28739 non-null  int64         \n 11  Enfriador Coca-Cola    28739 non-null  int64         \n 12  Enfriador Competencia  28739 non-null  int64         \n 13  Enfriador Detallista   28739 non-null  int64         \ndtypes: datetime64[ns](1), int64(8), object(5)\nmemory usage: 3.1+ MB\n"
     ]
    }
   ],
   "source": [
    "table2.info()"
   ]
  },
  {
   "cell_type": "code",
   "execution_count": 79,
   "metadata": {},
   "outputs": [],
   "source": [
    "table2=table2.sort_values(['OutletCode', 'date_format'])"
   ]
  },
  {
   "cell_type": "code",
   "execution_count": 80,
   "metadata": {},
   "outputs": [
    {
     "output_type": "stream",
     "name": "stdout",
     "text": [
      "<class 'pandas.core.frame.DataFrame'>\nInt64Index: 28739 entries, 1942 to 15670\nData columns (total 14 columns):\n #   Column                 Non-Null Count  Dtype         \n---  ------                 --------------  -----         \n 0   UserName               28739 non-null  object        \n 1   OutletCode             28739 non-null  object        \n 2   UserId                 28739 non-null  int64         \n 3   DateId                 28739 non-null  int64         \n 4   IsReported             28739 non-null  int64         \n 5   date_format            28739 non-null  datetime64[ns]\n 6   SessionUid             28739 non-null  object        \n 7   Question               28739 non-null  object        \n 8   Response               28739 non-null  object        \n 9   month                  28739 non-null  int64         \n 10  day                    28739 non-null  int64         \n 11  Enfriador Coca-Cola    28739 non-null  int64         \n 12  Enfriador Competencia  28739 non-null  int64         \n 13  Enfriador Detallista   28739 non-null  int64         \ndtypes: datetime64[ns](1), int64(8), object(5)\nmemory usage: 3.3+ MB\n"
     ]
    }
   ],
   "source": [
    "table2.info()"
   ]
  },
  {
   "cell_type": "code",
   "execution_count": 81,
   "metadata": {},
   "outputs": [
    {
     "output_type": "execute_result",
     "data": {
      "text/plain": [
       "SubSceneType\n",
       "UserName                         object\n",
       "OutletCode                       object\n",
       "UserId                            int64\n",
       "DateId                            int64\n",
       "IsReported                        int64\n",
       "date_format              datetime64[ns]\n",
       "SessionUid                       object\n",
       "Question                         object\n",
       "Response                         object\n",
       "month                             int64\n",
       "day                               int64\n",
       "Enfriador Coca-Cola               int64\n",
       "Enfriador Competencia             int64\n",
       "Enfriador Detallista              int64\n",
       "Coca-Cola                       float64\n",
       "Competencia                     float64\n",
       "Detallista                      float64\n",
       "dtype: object"
      ]
     },
     "metadata": {},
     "execution_count": 81
    }
   ],
   "source": [
    "table2[\"Coca-Cola\"] = table2[\"Enfriador Coca-Cola\"].shift(1)\n",
    "table2[\"Competencia\"] = table2[\"Enfriador Competencia\"].shift(1)\n",
    "table2[\"Detallista\"] = table2[\"Enfriador Detallista\"].shift(1)\n",
    "table2.dtypes"
   ]
  },
  {
   "cell_type": "code",
   "execution_count": 82,
   "metadata": {},
   "outputs": [
    {
     "output_type": "execute_result",
     "data": {
      "text/plain": [
       "SubSceneType                      UserName OutletCode  UserId    DateId  \\\n",
       "1942          cdcuauhtemoc2@storecheck.com   10001273   53032  20210330   \n",
       "1943          cdcuauhtemoc2@storecheck.com   10001273   53032  20210508   \n",
       "1944          cdcuauhtemoc2@storecheck.com   10001449   53032  20210223   \n",
       "1945          cdcuauhtemoc2@storecheck.com   10001449   53032  20210325   \n",
       "1946          cdcuauhtemoc2@storecheck.com   10001449   53032  20210419   \n",
       "...                                    ...        ...     ...       ...   \n",
       "18268               merida4@storecheck.com       9793   45796  20210212   \n",
       "17886               merida2@storecheck.com       9793   45794  20210313   \n",
       "17887               merida2@storecheck.com       9793   45794  20210413   \n",
       "18269               merida4@storecheck.com       9793   45796  20210511   \n",
       "15670               ilarios@storecheck.com  Dum197449   40663  20210301   \n",
       "\n",
       "SubSceneType  IsReported date_format                            SessionUid  \\\n",
       "1942                   1  2021-03-30  76446d48-8bc8-4a3e-a0a5-e9023e8be8d2   \n",
       "1943                   1  2021-05-08  2ef0081a-21db-44b8-be21-a44107d840aa   \n",
       "1944                   1  2021-02-23  2ba6c950-4ce8-4ab7-af25-7b638a73bcc6   \n",
       "1945                   1  2021-03-25  f43bcc24-003b-4415-89af-133db84abda4   \n",
       "1946                   1  2021-04-19  ddf9a83e-c6fe-4603-ab4c-d1c1e944ec36   \n",
       "...                  ...         ...                                   ...   \n",
       "18268                  1  2021-02-12  ee43b045-532b-4ea3-a4aa-69e9c61525e3   \n",
       "17886                  1  2021-03-13  df731564-cf6e-43cf-89d8-3a6153c7569c   \n",
       "17887                  1  2021-04-13  cb45c547-4c43-4c11-9c68-bf57b16d4bd7   \n",
       "18269                  1  2021-05-11  bb1f8ab2-dbc0-4ad4-b7b5-d78572ea8def   \n",
       "15670                  1  2021-03-01  ba2d6b1a-5e1f-4468-9a60-7486cccd28e5   \n",
       "\n",
       "SubSceneType                                           Question  \\\n",
       "1942             ¿El cliente cuenta con enfriador de Coca-Cola?   \n",
       "1943             ¿El cliente cuenta con enfriador de Coca-Cola?   \n",
       "1944                         ¿Cuenta con comunicación interior?   \n",
       "1945          ¿Existe algún producto que no pertenezca a la ...   \n",
       "1946                             ¿Los manteles contienen marca?   \n",
       "...                                                         ...   \n",
       "18268                        ¿Cuenta con comunicación interior?   \n",
       "17886         ¿El enfriador tiene colocado el sticker de No ...   \n",
       "17887                        ¿Cuenta con comunicación interior?   \n",
       "18269                                    ¿Cuál fue el problema?   \n",
       "15670         ¿El negocio cuenta con materiales de comunicac...   \n",
       "\n",
       "SubSceneType                           Response  month  day  \\\n",
       "1942                                       Yes\u0014      3   30   \n",
       "1943                                       Yes\u0014      5    8   \n",
       "1944                                       Yes\u0014      2   23   \n",
       "1945                                        No\u0014      3   25   \n",
       "1946                                       Yes\u0014      4   19   \n",
       "...                                         ...    ...  ...   \n",
       "18268                                      Yes\u0014      2   12   \n",
       "17886                                       No\u0014      3   13   \n",
       "17887                                      Yes\u0014      4   13   \n",
       "18269         Preguntas duplicadas o faltantes\u0014      5   11   \n",
       "15670                                       No\u0014      3    1   \n",
       "\n",
       "SubSceneType  Enfriador Coca-Cola  Enfriador Competencia  \\\n",
       "1942                            1                      0   \n",
       "1943                            1                      0   \n",
       "1944                            1                      0   \n",
       "1945                            1                      0   \n",
       "1946                            1                      0   \n",
       "...                           ...                    ...   \n",
       "18268                           1                      0   \n",
       "17886                           1                      0   \n",
       "17887                           1                      0   \n",
       "18269                           1                      0   \n",
       "15670                           1                      0   \n",
       "\n",
       "SubSceneType  Enfriador Detallista  Coca-Cola  Competencia  Detallista  \n",
       "1942                             0        0.0          0.0         0.0  \n",
       "1943                             0        1.0          0.0         0.0  \n",
       "1944                             0        1.0          0.0         0.0  \n",
       "1945                             0        1.0          0.0         0.0  \n",
       "1946                             0        1.0          0.0         0.0  \n",
       "...                            ...        ...          ...         ...  \n",
       "18268                            0        1.0          0.0         0.0  \n",
       "17886                            0        1.0          0.0         0.0  \n",
       "17887                            0        1.0          0.0         0.0  \n",
       "18269                            0        1.0          0.0         0.0  \n",
       "15670                            0        1.0          0.0         0.0  \n",
       "\n",
       "[28739 rows x 17 columns]"
      ],
      "text/html": "<div>\n<style scoped>\n    .dataframe tbody tr th:only-of-type {\n        vertical-align: middle;\n    }\n\n    .dataframe tbody tr th {\n        vertical-align: top;\n    }\n\n    .dataframe thead th {\n        text-align: right;\n    }\n</style>\n<table border=\"1\" class=\"dataframe\">\n  <thead>\n    <tr style=\"text-align: right;\">\n      <th>SubSceneType</th>\n      <th>UserName</th>\n      <th>OutletCode</th>\n      <th>UserId</th>\n      <th>DateId</th>\n      <th>IsReported</th>\n      <th>date_format</th>\n      <th>SessionUid</th>\n      <th>Question</th>\n      <th>Response</th>\n      <th>month</th>\n      <th>day</th>\n      <th>Enfriador Coca-Cola</th>\n      <th>Enfriador Competencia</th>\n      <th>Enfriador Detallista</th>\n      <th>Coca-Cola</th>\n      <th>Competencia</th>\n      <th>Detallista</th>\n    </tr>\n  </thead>\n  <tbody>\n    <tr>\n      <th>1942</th>\n      <td>cdcuauhtemoc2@storecheck.com</td>\n      <td>10001273</td>\n      <td>53032</td>\n      <td>20210330</td>\n      <td>1</td>\n      <td>2021-03-30</td>\n      <td>76446d48-8bc8-4a3e-a0a5-e9023e8be8d2</td>\n      <td>¿El cliente cuenta con enfriador de Coca-Cola?</td>\n      <td>Yes\u0014</td>\n      <td>3</td>\n      <td>30</td>\n      <td>1</td>\n      <td>0</td>\n      <td>0</td>\n      <td>0.0</td>\n      <td>0.0</td>\n      <td>0.0</td>\n    </tr>\n    <tr>\n      <th>1943</th>\n      <td>cdcuauhtemoc2@storecheck.com</td>\n      <td>10001273</td>\n      <td>53032</td>\n      <td>20210508</td>\n      <td>1</td>\n      <td>2021-05-08</td>\n      <td>2ef0081a-21db-44b8-be21-a44107d840aa</td>\n      <td>¿El cliente cuenta con enfriador de Coca-Cola?</td>\n      <td>Yes\u0014</td>\n      <td>5</td>\n      <td>8</td>\n      <td>1</td>\n      <td>0</td>\n      <td>0</td>\n      <td>1.0</td>\n      <td>0.0</td>\n      <td>0.0</td>\n    </tr>\n    <tr>\n      <th>1944</th>\n      <td>cdcuauhtemoc2@storecheck.com</td>\n      <td>10001449</td>\n      <td>53032</td>\n      <td>20210223</td>\n      <td>1</td>\n      <td>2021-02-23</td>\n      <td>2ba6c950-4ce8-4ab7-af25-7b638a73bcc6</td>\n      <td>¿Cuenta con comunicación interior?</td>\n      <td>Yes\u0014</td>\n      <td>2</td>\n      <td>23</td>\n      <td>1</td>\n      <td>0</td>\n      <td>0</td>\n      <td>1.0</td>\n      <td>0.0</td>\n      <td>0.0</td>\n    </tr>\n    <tr>\n      <th>1945</th>\n      <td>cdcuauhtemoc2@storecheck.com</td>\n      <td>10001449</td>\n      <td>53032</td>\n      <td>20210325</td>\n      <td>1</td>\n      <td>2021-03-25</td>\n      <td>f43bcc24-003b-4415-89af-133db84abda4</td>\n      <td>¿Existe algún producto que no pertenezca a la ...</td>\n      <td>No\u0014</td>\n      <td>3</td>\n      <td>25</td>\n      <td>1</td>\n      <td>0</td>\n      <td>0</td>\n      <td>1.0</td>\n      <td>0.0</td>\n      <td>0.0</td>\n    </tr>\n    <tr>\n      <th>1946</th>\n      <td>cdcuauhtemoc2@storecheck.com</td>\n      <td>10001449</td>\n      <td>53032</td>\n      <td>20210419</td>\n      <td>1</td>\n      <td>2021-04-19</td>\n      <td>ddf9a83e-c6fe-4603-ab4c-d1c1e944ec36</td>\n      <td>¿Los manteles contienen marca?</td>\n      <td>Yes\u0014</td>\n      <td>4</td>\n      <td>19</td>\n      <td>1</td>\n      <td>0</td>\n      <td>0</td>\n      <td>1.0</td>\n      <td>0.0</td>\n      <td>0.0</td>\n    </tr>\n    <tr>\n      <th>...</th>\n      <td>...</td>\n      <td>...</td>\n      <td>...</td>\n      <td>...</td>\n      <td>...</td>\n      <td>...</td>\n      <td>...</td>\n      <td>...</td>\n      <td>...</td>\n      <td>...</td>\n      <td>...</td>\n      <td>...</td>\n      <td>...</td>\n      <td>...</td>\n      <td>...</td>\n      <td>...</td>\n      <td>...</td>\n    </tr>\n    <tr>\n      <th>18268</th>\n      <td>merida4@storecheck.com</td>\n      <td>9793</td>\n      <td>45796</td>\n      <td>20210212</td>\n      <td>1</td>\n      <td>2021-02-12</td>\n      <td>ee43b045-532b-4ea3-a4aa-69e9c61525e3</td>\n      <td>¿Cuenta con comunicación interior?</td>\n      <td>Yes\u0014</td>\n      <td>2</td>\n      <td>12</td>\n      <td>1</td>\n      <td>0</td>\n      <td>0</td>\n      <td>1.0</td>\n      <td>0.0</td>\n      <td>0.0</td>\n    </tr>\n    <tr>\n      <th>17886</th>\n      <td>merida2@storecheck.com</td>\n      <td>9793</td>\n      <td>45794</td>\n      <td>20210313</td>\n      <td>1</td>\n      <td>2021-03-13</td>\n      <td>df731564-cf6e-43cf-89d8-3a6153c7569c</td>\n      <td>¿El enfriador tiene colocado el sticker de No ...</td>\n      <td>No\u0014</td>\n      <td>3</td>\n      <td>13</td>\n      <td>1</td>\n      <td>0</td>\n      <td>0</td>\n      <td>1.0</td>\n      <td>0.0</td>\n      <td>0.0</td>\n    </tr>\n    <tr>\n      <th>17887</th>\n      <td>merida2@storecheck.com</td>\n      <td>9793</td>\n      <td>45794</td>\n      <td>20210413</td>\n      <td>1</td>\n      <td>2021-04-13</td>\n      <td>cb45c547-4c43-4c11-9c68-bf57b16d4bd7</td>\n      <td>¿Cuenta con comunicación interior?</td>\n      <td>Yes\u0014</td>\n      <td>4</td>\n      <td>13</td>\n      <td>1</td>\n      <td>0</td>\n      <td>0</td>\n      <td>1.0</td>\n      <td>0.0</td>\n      <td>0.0</td>\n    </tr>\n    <tr>\n      <th>18269</th>\n      <td>merida4@storecheck.com</td>\n      <td>9793</td>\n      <td>45796</td>\n      <td>20210511</td>\n      <td>1</td>\n      <td>2021-05-11</td>\n      <td>bb1f8ab2-dbc0-4ad4-b7b5-d78572ea8def</td>\n      <td>¿Cuál fue el problema?</td>\n      <td>Preguntas duplicadas o faltantes\u0014</td>\n      <td>5</td>\n      <td>11</td>\n      <td>1</td>\n      <td>0</td>\n      <td>0</td>\n      <td>1.0</td>\n      <td>0.0</td>\n      <td>0.0</td>\n    </tr>\n    <tr>\n      <th>15670</th>\n      <td>ilarios@storecheck.com</td>\n      <td>Dum197449</td>\n      <td>40663</td>\n      <td>20210301</td>\n      <td>1</td>\n      <td>2021-03-01</td>\n      <td>ba2d6b1a-5e1f-4468-9a60-7486cccd28e5</td>\n      <td>¿El negocio cuenta con materiales de comunicac...</td>\n      <td>No\u0014</td>\n      <td>3</td>\n      <td>1</td>\n      <td>1</td>\n      <td>0</td>\n      <td>0</td>\n      <td>1.0</td>\n      <td>0.0</td>\n      <td>0.0</td>\n    </tr>\n  </tbody>\n</table>\n<p>28739 rows × 17 columns</p>\n</div>"
     },
     "metadata": {},
     "execution_count": 82
    }
   ],
   "source": [
    "table2 = table2.fillna(0)\n",
    "table2"
   ]
  },
  {
   "cell_type": "code",
   "execution_count": 83,
   "metadata": {},
   "outputs": [
    {
     "output_type": "execute_result",
     "data": {
      "text/plain": [
       "SubSceneType                      UserName OutletCode  UserId    DateId  \\\n",
       "1942          cdcuauhtemoc2@storecheck.com   10001273   53032  20210330   \n",
       "1943          cdcuauhtemoc2@storecheck.com   10001273   53032  20210508   \n",
       "1944          cdcuauhtemoc2@storecheck.com   10001449   53032  20210223   \n",
       "1945          cdcuauhtemoc2@storecheck.com   10001449   53032  20210325   \n",
       "1946          cdcuauhtemoc2@storecheck.com   10001449   53032  20210419   \n",
       "...                                    ...        ...     ...       ...   \n",
       "18268               merida4@storecheck.com       9793   45796  20210212   \n",
       "17886               merida2@storecheck.com       9793   45794  20210313   \n",
       "17887               merida2@storecheck.com       9793   45794  20210413   \n",
       "18269               merida4@storecheck.com       9793   45796  20210511   \n",
       "15670               ilarios@storecheck.com  Dum197449   40663  20210301   \n",
       "\n",
       "SubSceneType  IsReported date_format                            SessionUid  \\\n",
       "1942                   1  2021-03-30  76446d48-8bc8-4a3e-a0a5-e9023e8be8d2   \n",
       "1943                   1  2021-05-08  2ef0081a-21db-44b8-be21-a44107d840aa   \n",
       "1944                   1  2021-02-23  2ba6c950-4ce8-4ab7-af25-7b638a73bcc6   \n",
       "1945                   1  2021-03-25  f43bcc24-003b-4415-89af-133db84abda4   \n",
       "1946                   1  2021-04-19  ddf9a83e-c6fe-4603-ab4c-d1c1e944ec36   \n",
       "...                  ...         ...                                   ...   \n",
       "18268                  1  2021-02-12  ee43b045-532b-4ea3-a4aa-69e9c61525e3   \n",
       "17886                  1  2021-03-13  df731564-cf6e-43cf-89d8-3a6153c7569c   \n",
       "17887                  1  2021-04-13  cb45c547-4c43-4c11-9c68-bf57b16d4bd7   \n",
       "18269                  1  2021-05-11  bb1f8ab2-dbc0-4ad4-b7b5-d78572ea8def   \n",
       "15670                  1  2021-03-01  ba2d6b1a-5e1f-4468-9a60-7486cccd28e5   \n",
       "\n",
       "SubSceneType                                           Question  \\\n",
       "1942             ¿El cliente cuenta con enfriador de Coca-Cola?   \n",
       "1943             ¿El cliente cuenta con enfriador de Coca-Cola?   \n",
       "1944                         ¿Cuenta con comunicación interior?   \n",
       "1945          ¿Existe algún producto que no pertenezca a la ...   \n",
       "1946                             ¿Los manteles contienen marca?   \n",
       "...                                                         ...   \n",
       "18268                        ¿Cuenta con comunicación interior?   \n",
       "17886         ¿El enfriador tiene colocado el sticker de No ...   \n",
       "17887                        ¿Cuenta con comunicación interior?   \n",
       "18269                                    ¿Cuál fue el problema?   \n",
       "15670         ¿El negocio cuenta con materiales de comunicac...   \n",
       "\n",
       "SubSceneType                           Response  month  day  \\\n",
       "1942                                       Yes\u0014      3   30   \n",
       "1943                                       Yes\u0014      5    8   \n",
       "1944                                       Yes\u0014      2   23   \n",
       "1945                                        No\u0014      3   25   \n",
       "1946                                       Yes\u0014      4   19   \n",
       "...                                         ...    ...  ...   \n",
       "18268                                      Yes\u0014      2   12   \n",
       "17886                                       No\u0014      3   13   \n",
       "17887                                      Yes\u0014      4   13   \n",
       "18269         Preguntas duplicadas o faltantes\u0014      5   11   \n",
       "15670                                       No\u0014      3    1   \n",
       "\n",
       "SubSceneType  Enfriador Coca-Cola  Enfriador Competencia  \\\n",
       "1942                            1                      0   \n",
       "1943                            1                      0   \n",
       "1944                            1                      0   \n",
       "1945                            1                      0   \n",
       "1946                            1                      0   \n",
       "...                           ...                    ...   \n",
       "18268                           1                      0   \n",
       "17886                           1                      0   \n",
       "17887                           1                      0   \n",
       "18269                           1                      0   \n",
       "15670                           1                      0   \n",
       "\n",
       "SubSceneType  Enfriador Detallista  Coca-Cola  Competencia  Detallista  \n",
       "1942                             0          0            0           0  \n",
       "1943                             0          1            0           0  \n",
       "1944                             0          1            0           0  \n",
       "1945                             0          1            0           0  \n",
       "1946                             0          1            0           0  \n",
       "...                            ...        ...          ...         ...  \n",
       "18268                            0          1            0           0  \n",
       "17886                            0          1            0           0  \n",
       "17887                            0          1            0           0  \n",
       "18269                            0          1            0           0  \n",
       "15670                            0          1            0           0  \n",
       "\n",
       "[28739 rows x 17 columns]"
      ],
      "text/html": "<div>\n<style scoped>\n    .dataframe tbody tr th:only-of-type {\n        vertical-align: middle;\n    }\n\n    .dataframe tbody tr th {\n        vertical-align: top;\n    }\n\n    .dataframe thead th {\n        text-align: right;\n    }\n</style>\n<table border=\"1\" class=\"dataframe\">\n  <thead>\n    <tr style=\"text-align: right;\">\n      <th>SubSceneType</th>\n      <th>UserName</th>\n      <th>OutletCode</th>\n      <th>UserId</th>\n      <th>DateId</th>\n      <th>IsReported</th>\n      <th>date_format</th>\n      <th>SessionUid</th>\n      <th>Question</th>\n      <th>Response</th>\n      <th>month</th>\n      <th>day</th>\n      <th>Enfriador Coca-Cola</th>\n      <th>Enfriador Competencia</th>\n      <th>Enfriador Detallista</th>\n      <th>Coca-Cola</th>\n      <th>Competencia</th>\n      <th>Detallista</th>\n    </tr>\n  </thead>\n  <tbody>\n    <tr>\n      <th>1942</th>\n      <td>cdcuauhtemoc2@storecheck.com</td>\n      <td>10001273</td>\n      <td>53032</td>\n      <td>20210330</td>\n      <td>1</td>\n      <td>2021-03-30</td>\n      <td>76446d48-8bc8-4a3e-a0a5-e9023e8be8d2</td>\n      <td>¿El cliente cuenta con enfriador de Coca-Cola?</td>\n      <td>Yes\u0014</td>\n      <td>3</td>\n      <td>30</td>\n      <td>1</td>\n      <td>0</td>\n      <td>0</td>\n      <td>0</td>\n      <td>0</td>\n      <td>0</td>\n    </tr>\n    <tr>\n      <th>1943</th>\n      <td>cdcuauhtemoc2@storecheck.com</td>\n      <td>10001273</td>\n      <td>53032</td>\n      <td>20210508</td>\n      <td>1</td>\n      <td>2021-05-08</td>\n      <td>2ef0081a-21db-44b8-be21-a44107d840aa</td>\n      <td>¿El cliente cuenta con enfriador de Coca-Cola?</td>\n      <td>Yes\u0014</td>\n      <td>5</td>\n      <td>8</td>\n      <td>1</td>\n      <td>0</td>\n      <td>0</td>\n      <td>1</td>\n      <td>0</td>\n      <td>0</td>\n    </tr>\n    <tr>\n      <th>1944</th>\n      <td>cdcuauhtemoc2@storecheck.com</td>\n      <td>10001449</td>\n      <td>53032</td>\n      <td>20210223</td>\n      <td>1</td>\n      <td>2021-02-23</td>\n      <td>2ba6c950-4ce8-4ab7-af25-7b638a73bcc6</td>\n      <td>¿Cuenta con comunicación interior?</td>\n      <td>Yes\u0014</td>\n      <td>2</td>\n      <td>23</td>\n      <td>1</td>\n      <td>0</td>\n      <td>0</td>\n      <td>1</td>\n      <td>0</td>\n      <td>0</td>\n    </tr>\n    <tr>\n      <th>1945</th>\n      <td>cdcuauhtemoc2@storecheck.com</td>\n      <td>10001449</td>\n      <td>53032</td>\n      <td>20210325</td>\n      <td>1</td>\n      <td>2021-03-25</td>\n      <td>f43bcc24-003b-4415-89af-133db84abda4</td>\n      <td>¿Existe algún producto que no pertenezca a la ...</td>\n      <td>No\u0014</td>\n      <td>3</td>\n      <td>25</td>\n      <td>1</td>\n      <td>0</td>\n      <td>0</td>\n      <td>1</td>\n      <td>0</td>\n      <td>0</td>\n    </tr>\n    <tr>\n      <th>1946</th>\n      <td>cdcuauhtemoc2@storecheck.com</td>\n      <td>10001449</td>\n      <td>53032</td>\n      <td>20210419</td>\n      <td>1</td>\n      <td>2021-04-19</td>\n      <td>ddf9a83e-c6fe-4603-ab4c-d1c1e944ec36</td>\n      <td>¿Los manteles contienen marca?</td>\n      <td>Yes\u0014</td>\n      <td>4</td>\n      <td>19</td>\n      <td>1</td>\n      <td>0</td>\n      <td>0</td>\n      <td>1</td>\n      <td>0</td>\n      <td>0</td>\n    </tr>\n    <tr>\n      <th>...</th>\n      <td>...</td>\n      <td>...</td>\n      <td>...</td>\n      <td>...</td>\n      <td>...</td>\n      <td>...</td>\n      <td>...</td>\n      <td>...</td>\n      <td>...</td>\n      <td>...</td>\n      <td>...</td>\n      <td>...</td>\n      <td>...</td>\n      <td>...</td>\n      <td>...</td>\n      <td>...</td>\n      <td>...</td>\n    </tr>\n    <tr>\n      <th>18268</th>\n      <td>merida4@storecheck.com</td>\n      <td>9793</td>\n      <td>45796</td>\n      <td>20210212</td>\n      <td>1</td>\n      <td>2021-02-12</td>\n      <td>ee43b045-532b-4ea3-a4aa-69e9c61525e3</td>\n      <td>¿Cuenta con comunicación interior?</td>\n      <td>Yes\u0014</td>\n      <td>2</td>\n      <td>12</td>\n      <td>1</td>\n      <td>0</td>\n      <td>0</td>\n      <td>1</td>\n      <td>0</td>\n      <td>0</td>\n    </tr>\n    <tr>\n      <th>17886</th>\n      <td>merida2@storecheck.com</td>\n      <td>9793</td>\n      <td>45794</td>\n      <td>20210313</td>\n      <td>1</td>\n      <td>2021-03-13</td>\n      <td>df731564-cf6e-43cf-89d8-3a6153c7569c</td>\n      <td>¿El enfriador tiene colocado el sticker de No ...</td>\n      <td>No\u0014</td>\n      <td>3</td>\n      <td>13</td>\n      <td>1</td>\n      <td>0</td>\n      <td>0</td>\n      <td>1</td>\n      <td>0</td>\n      <td>0</td>\n    </tr>\n    <tr>\n      <th>17887</th>\n      <td>merida2@storecheck.com</td>\n      <td>9793</td>\n      <td>45794</td>\n      <td>20210413</td>\n      <td>1</td>\n      <td>2021-04-13</td>\n      <td>cb45c547-4c43-4c11-9c68-bf57b16d4bd7</td>\n      <td>¿Cuenta con comunicación interior?</td>\n      <td>Yes\u0014</td>\n      <td>4</td>\n      <td>13</td>\n      <td>1</td>\n      <td>0</td>\n      <td>0</td>\n      <td>1</td>\n      <td>0</td>\n      <td>0</td>\n    </tr>\n    <tr>\n      <th>18269</th>\n      <td>merida4@storecheck.com</td>\n      <td>9793</td>\n      <td>45796</td>\n      <td>20210511</td>\n      <td>1</td>\n      <td>2021-05-11</td>\n      <td>bb1f8ab2-dbc0-4ad4-b7b5-d78572ea8def</td>\n      <td>¿Cuál fue el problema?</td>\n      <td>Preguntas duplicadas o faltantes\u0014</td>\n      <td>5</td>\n      <td>11</td>\n      <td>1</td>\n      <td>0</td>\n      <td>0</td>\n      <td>1</td>\n      <td>0</td>\n      <td>0</td>\n    </tr>\n    <tr>\n      <th>15670</th>\n      <td>ilarios@storecheck.com</td>\n      <td>Dum197449</td>\n      <td>40663</td>\n      <td>20210301</td>\n      <td>1</td>\n      <td>2021-03-01</td>\n      <td>ba2d6b1a-5e1f-4468-9a60-7486cccd28e5</td>\n      <td>¿El negocio cuenta con materiales de comunicac...</td>\n      <td>No\u0014</td>\n      <td>3</td>\n      <td>1</td>\n      <td>1</td>\n      <td>0</td>\n      <td>0</td>\n      <td>1</td>\n      <td>0</td>\n      <td>0</td>\n    </tr>\n  </tbody>\n</table>\n<p>28739 rows × 17 columns</p>\n</div>"
     },
     "metadata": {},
     "execution_count": 83
    }
   ],
   "source": [
    "table2 = table2.astype({\"Coca-Cola\": int, \"Competencia\": int, \"Detallista\": int})\n",
    "table2"
   ]
  },
  {
   "cell_type": "code",
   "execution_count": 84,
   "metadata": {},
   "outputs": [
    {
     "output_type": "execute_result",
     "data": {
      "text/plain": [
       "SubSceneType\n",
       "UserName                         object\n",
       "OutletCode                       object\n",
       "UserId                            int64\n",
       "DateId                            int64\n",
       "IsReported                        int64\n",
       "date_format              datetime64[ns]\n",
       "SessionUid                       object\n",
       "Question                         object\n",
       "Response                         object\n",
       "month                             int64\n",
       "day                               int64\n",
       "Enfriador Coca-Cola               int64\n",
       "Enfriador Competencia             int64\n",
       "Enfriador Detallista              int64\n",
       "Coca-Cola                         int32\n",
       "Competencia                       int32\n",
       "Detallista                        int32\n",
       "dtype: object"
      ]
     },
     "metadata": {},
     "execution_count": 84
    }
   ],
   "source": [
    "table2.dtypes"
   ]
  },
  {
   "cell_type": "code",
   "execution_count": 85,
   "metadata": {},
   "outputs": [
    {
     "output_type": "execute_result",
     "data": {
      "text/plain": [
       "SubSceneType\n",
       "UserName                         object\n",
       "OutletCode                       object\n",
       "UserId                            int64\n",
       "DateId                            int64\n",
       "IsReported                        int64\n",
       "date_format              datetime64[ns]\n",
       "SessionUid                       object\n",
       "Question                         object\n",
       "Response                         object\n",
       "month                             int64\n",
       "day                               int64\n",
       "Enfriador Coca-Cola               int64\n",
       "Enfriador Competencia             int64\n",
       "Enfriador Detallista              int64\n",
       "Coca-Cola                         int32\n",
       "Competencia                       int32\n",
       "Detallista                        int32\n",
       "OutletCodeChanged                  bool\n",
       "dtype: object"
      ]
     },
     "metadata": {},
     "execution_count": 85
    }
   ],
   "source": [
    "table2[\"OutletCodeChanged\"] = table2[\"OutletCode\"].shift(1, fill_value=table2[\"OutletCode\"].head(1)) != table2[\"OutletCode\"]\n",
    "table2.dtypes"
   ]
  },
  {
   "cell_type": "code",
   "execution_count": 86,
   "metadata": {},
   "outputs": [
    {
     "output_type": "execute_result",
     "data": {
      "text/plain": [
       "SubSceneType                      UserName OutletCode  UserId    DateId  \\\n",
       "1942          cdcuauhtemoc2@storecheck.com   10001273   53032  20210330   \n",
       "1943          cdcuauhtemoc2@storecheck.com   10001273   53032  20210508   \n",
       "1944          cdcuauhtemoc2@storecheck.com   10001449   53032  20210223   \n",
       "1945          cdcuauhtemoc2@storecheck.com   10001449   53032  20210325   \n",
       "1946          cdcuauhtemoc2@storecheck.com   10001449   53032  20210419   \n",
       "...                                    ...        ...     ...       ...   \n",
       "18268               merida4@storecheck.com       9793   45796  20210212   \n",
       "17886               merida2@storecheck.com       9793   45794  20210313   \n",
       "17887               merida2@storecheck.com       9793   45794  20210413   \n",
       "18269               merida4@storecheck.com       9793   45796  20210511   \n",
       "15670               ilarios@storecheck.com  Dum197449   40663  20210301   \n",
       "\n",
       "SubSceneType  IsReported date_format                            SessionUid  \\\n",
       "1942                   1  2021-03-30  76446d48-8bc8-4a3e-a0a5-e9023e8be8d2   \n",
       "1943                   1  2021-05-08  2ef0081a-21db-44b8-be21-a44107d840aa   \n",
       "1944                   1  2021-02-23  2ba6c950-4ce8-4ab7-af25-7b638a73bcc6   \n",
       "1945                   1  2021-03-25  f43bcc24-003b-4415-89af-133db84abda4   \n",
       "1946                   1  2021-04-19  ddf9a83e-c6fe-4603-ab4c-d1c1e944ec36   \n",
       "...                  ...         ...                                   ...   \n",
       "18268                  1  2021-02-12  ee43b045-532b-4ea3-a4aa-69e9c61525e3   \n",
       "17886                  1  2021-03-13  df731564-cf6e-43cf-89d8-3a6153c7569c   \n",
       "17887                  1  2021-04-13  cb45c547-4c43-4c11-9c68-bf57b16d4bd7   \n",
       "18269                  1  2021-05-11  bb1f8ab2-dbc0-4ad4-b7b5-d78572ea8def   \n",
       "15670                  1  2021-03-01  ba2d6b1a-5e1f-4468-9a60-7486cccd28e5   \n",
       "\n",
       "SubSceneType                                           Question  \\\n",
       "1942             ¿El cliente cuenta con enfriador de Coca-Cola?   \n",
       "1943             ¿El cliente cuenta con enfriador de Coca-Cola?   \n",
       "1944                         ¿Cuenta con comunicación interior?   \n",
       "1945          ¿Existe algún producto que no pertenezca a la ...   \n",
       "1946                             ¿Los manteles contienen marca?   \n",
       "...                                                         ...   \n",
       "18268                        ¿Cuenta con comunicación interior?   \n",
       "17886         ¿El enfriador tiene colocado el sticker de No ...   \n",
       "17887                        ¿Cuenta con comunicación interior?   \n",
       "18269                                    ¿Cuál fue el problema?   \n",
       "15670         ¿El negocio cuenta con materiales de comunicac...   \n",
       "\n",
       "SubSceneType                           Response  month  day  \\\n",
       "1942                                       Yes\u0014      3   30   \n",
       "1943                                       Yes\u0014      5    8   \n",
       "1944                                       Yes\u0014      2   23   \n",
       "1945                                        No\u0014      3   25   \n",
       "1946                                       Yes\u0014      4   19   \n",
       "...                                         ...    ...  ...   \n",
       "18268                                      Yes\u0014      2   12   \n",
       "17886                                       No\u0014      3   13   \n",
       "17887                                      Yes\u0014      4   13   \n",
       "18269         Preguntas duplicadas o faltantes\u0014      5   11   \n",
       "15670                                       No\u0014      3    1   \n",
       "\n",
       "SubSceneType  Enfriador Coca-Cola  Enfriador Competencia  \\\n",
       "1942                            1                      0   \n",
       "1943                            1                      0   \n",
       "1944                            1                      0   \n",
       "1945                            1                      0   \n",
       "1946                            1                      0   \n",
       "...                           ...                    ...   \n",
       "18268                           1                      0   \n",
       "17886                           1                      0   \n",
       "17887                           1                      0   \n",
       "18269                           1                      0   \n",
       "15670                           1                      0   \n",
       "\n",
       "SubSceneType  Enfriador Detallista  Coca-Cola  Competencia  Detallista  \\\n",
       "1942                             0          0            0           0   \n",
       "1943                             0          1            0           0   \n",
       "1944                             0          1            0           0   \n",
       "1945                             0          1            0           0   \n",
       "1946                             0          1            0           0   \n",
       "...                            ...        ...          ...         ...   \n",
       "18268                            0          1            0           0   \n",
       "17886                            0          1            0           0   \n",
       "17887                            0          1            0           0   \n",
       "18269                            0          1            0           0   \n",
       "15670                            0          1            0           0   \n",
       "\n",
       "SubSceneType  OutletCodeChanged  \n",
       "1942                      False  \n",
       "1943                      False  \n",
       "1944                       True  \n",
       "1945                      False  \n",
       "1946                      False  \n",
       "...                         ...  \n",
       "18268                     False  \n",
       "17886                     False  \n",
       "17887                     False  \n",
       "18269                     False  \n",
       "15670                      True  \n",
       "\n",
       "[28739 rows x 18 columns]"
      ],
      "text/html": "<div>\n<style scoped>\n    .dataframe tbody tr th:only-of-type {\n        vertical-align: middle;\n    }\n\n    .dataframe tbody tr th {\n        vertical-align: top;\n    }\n\n    .dataframe thead th {\n        text-align: right;\n    }\n</style>\n<table border=\"1\" class=\"dataframe\">\n  <thead>\n    <tr style=\"text-align: right;\">\n      <th>SubSceneType</th>\n      <th>UserName</th>\n      <th>OutletCode</th>\n      <th>UserId</th>\n      <th>DateId</th>\n      <th>IsReported</th>\n      <th>date_format</th>\n      <th>SessionUid</th>\n      <th>Question</th>\n      <th>Response</th>\n      <th>month</th>\n      <th>day</th>\n      <th>Enfriador Coca-Cola</th>\n      <th>Enfriador Competencia</th>\n      <th>Enfriador Detallista</th>\n      <th>Coca-Cola</th>\n      <th>Competencia</th>\n      <th>Detallista</th>\n      <th>OutletCodeChanged</th>\n    </tr>\n  </thead>\n  <tbody>\n    <tr>\n      <th>1942</th>\n      <td>cdcuauhtemoc2@storecheck.com</td>\n      <td>10001273</td>\n      <td>53032</td>\n      <td>20210330</td>\n      <td>1</td>\n      <td>2021-03-30</td>\n      <td>76446d48-8bc8-4a3e-a0a5-e9023e8be8d2</td>\n      <td>¿El cliente cuenta con enfriador de Coca-Cola?</td>\n      <td>Yes\u0014</td>\n      <td>3</td>\n      <td>30</td>\n      <td>1</td>\n      <td>0</td>\n      <td>0</td>\n      <td>0</td>\n      <td>0</td>\n      <td>0</td>\n      <td>False</td>\n    </tr>\n    <tr>\n      <th>1943</th>\n      <td>cdcuauhtemoc2@storecheck.com</td>\n      <td>10001273</td>\n      <td>53032</td>\n      <td>20210508</td>\n      <td>1</td>\n      <td>2021-05-08</td>\n      <td>2ef0081a-21db-44b8-be21-a44107d840aa</td>\n      <td>¿El cliente cuenta con enfriador de Coca-Cola?</td>\n      <td>Yes\u0014</td>\n      <td>5</td>\n      <td>8</td>\n      <td>1</td>\n      <td>0</td>\n      <td>0</td>\n      <td>1</td>\n      <td>0</td>\n      <td>0</td>\n      <td>False</td>\n    </tr>\n    <tr>\n      <th>1944</th>\n      <td>cdcuauhtemoc2@storecheck.com</td>\n      <td>10001449</td>\n      <td>53032</td>\n      <td>20210223</td>\n      <td>1</td>\n      <td>2021-02-23</td>\n      <td>2ba6c950-4ce8-4ab7-af25-7b638a73bcc6</td>\n      <td>¿Cuenta con comunicación interior?</td>\n      <td>Yes\u0014</td>\n      <td>2</td>\n      <td>23</td>\n      <td>1</td>\n      <td>0</td>\n      <td>0</td>\n      <td>1</td>\n      <td>0</td>\n      <td>0</td>\n      <td>True</td>\n    </tr>\n    <tr>\n      <th>1945</th>\n      <td>cdcuauhtemoc2@storecheck.com</td>\n      <td>10001449</td>\n      <td>53032</td>\n      <td>20210325</td>\n      <td>1</td>\n      <td>2021-03-25</td>\n      <td>f43bcc24-003b-4415-89af-133db84abda4</td>\n      <td>¿Existe algún producto que no pertenezca a la ...</td>\n      <td>No\u0014</td>\n      <td>3</td>\n      <td>25</td>\n      <td>1</td>\n      <td>0</td>\n      <td>0</td>\n      <td>1</td>\n      <td>0</td>\n      <td>0</td>\n      <td>False</td>\n    </tr>\n    <tr>\n      <th>1946</th>\n      <td>cdcuauhtemoc2@storecheck.com</td>\n      <td>10001449</td>\n      <td>53032</td>\n      <td>20210419</td>\n      <td>1</td>\n      <td>2021-04-19</td>\n      <td>ddf9a83e-c6fe-4603-ab4c-d1c1e944ec36</td>\n      <td>¿Los manteles contienen marca?</td>\n      <td>Yes\u0014</td>\n      <td>4</td>\n      <td>19</td>\n      <td>1</td>\n      <td>0</td>\n      <td>0</td>\n      <td>1</td>\n      <td>0</td>\n      <td>0</td>\n      <td>False</td>\n    </tr>\n    <tr>\n      <th>...</th>\n      <td>...</td>\n      <td>...</td>\n      <td>...</td>\n      <td>...</td>\n      <td>...</td>\n      <td>...</td>\n      <td>...</td>\n      <td>...</td>\n      <td>...</td>\n      <td>...</td>\n      <td>...</td>\n      <td>...</td>\n      <td>...</td>\n      <td>...</td>\n      <td>...</td>\n      <td>...</td>\n      <td>...</td>\n      <td>...</td>\n    </tr>\n    <tr>\n      <th>18268</th>\n      <td>merida4@storecheck.com</td>\n      <td>9793</td>\n      <td>45796</td>\n      <td>20210212</td>\n      <td>1</td>\n      <td>2021-02-12</td>\n      <td>ee43b045-532b-4ea3-a4aa-69e9c61525e3</td>\n      <td>¿Cuenta con comunicación interior?</td>\n      <td>Yes\u0014</td>\n      <td>2</td>\n      <td>12</td>\n      <td>1</td>\n      <td>0</td>\n      <td>0</td>\n      <td>1</td>\n      <td>0</td>\n      <td>0</td>\n      <td>False</td>\n    </tr>\n    <tr>\n      <th>17886</th>\n      <td>merida2@storecheck.com</td>\n      <td>9793</td>\n      <td>45794</td>\n      <td>20210313</td>\n      <td>1</td>\n      <td>2021-03-13</td>\n      <td>df731564-cf6e-43cf-89d8-3a6153c7569c</td>\n      <td>¿El enfriador tiene colocado el sticker de No ...</td>\n      <td>No\u0014</td>\n      <td>3</td>\n      <td>13</td>\n      <td>1</td>\n      <td>0</td>\n      <td>0</td>\n      <td>1</td>\n      <td>0</td>\n      <td>0</td>\n      <td>False</td>\n    </tr>\n    <tr>\n      <th>17887</th>\n      <td>merida2@storecheck.com</td>\n      <td>9793</td>\n      <td>45794</td>\n      <td>20210413</td>\n      <td>1</td>\n      <td>2021-04-13</td>\n      <td>cb45c547-4c43-4c11-9c68-bf57b16d4bd7</td>\n      <td>¿Cuenta con comunicación interior?</td>\n      <td>Yes\u0014</td>\n      <td>4</td>\n      <td>13</td>\n      <td>1</td>\n      <td>0</td>\n      <td>0</td>\n      <td>1</td>\n      <td>0</td>\n      <td>0</td>\n      <td>False</td>\n    </tr>\n    <tr>\n      <th>18269</th>\n      <td>merida4@storecheck.com</td>\n      <td>9793</td>\n      <td>45796</td>\n      <td>20210511</td>\n      <td>1</td>\n      <td>2021-05-11</td>\n      <td>bb1f8ab2-dbc0-4ad4-b7b5-d78572ea8def</td>\n      <td>¿Cuál fue el problema?</td>\n      <td>Preguntas duplicadas o faltantes\u0014</td>\n      <td>5</td>\n      <td>11</td>\n      <td>1</td>\n      <td>0</td>\n      <td>0</td>\n      <td>1</td>\n      <td>0</td>\n      <td>0</td>\n      <td>False</td>\n    </tr>\n    <tr>\n      <th>15670</th>\n      <td>ilarios@storecheck.com</td>\n      <td>Dum197449</td>\n      <td>40663</td>\n      <td>20210301</td>\n      <td>1</td>\n      <td>2021-03-01</td>\n      <td>ba2d6b1a-5e1f-4468-9a60-7486cccd28e5</td>\n      <td>¿El negocio cuenta con materiales de comunicac...</td>\n      <td>No\u0014</td>\n      <td>3</td>\n      <td>1</td>\n      <td>1</td>\n      <td>0</td>\n      <td>0</td>\n      <td>1</td>\n      <td>0</td>\n      <td>0</td>\n      <td>True</td>\n    </tr>\n  </tbody>\n</table>\n<p>28739 rows × 18 columns</p>\n</div>"
     },
     "metadata": {},
     "execution_count": 86
    }
   ],
   "source": [
    "table2"
   ]
  },
  {
   "cell_type": "code",
   "execution_count": 87,
   "metadata": {},
   "outputs": [
    {
     "output_type": "execute_result",
     "data": {
      "text/plain": [
       "SubSceneType\n",
       "UserName                         object\n",
       "OutletCode                       object\n",
       "UserId                            int64\n",
       "DateId                            int64\n",
       "IsReported                        int64\n",
       "date_format              datetime64[ns]\n",
       "SessionUid                       object\n",
       "Question                         object\n",
       "Response                         object\n",
       "month                             int64\n",
       "day                               int64\n",
       "Enfriador Coca-Cola               int64\n",
       "Enfriador Competencia             int64\n",
       "Enfriador Detallista              int64\n",
       "Coca-Cola                         int32\n",
       "Competencia                       int32\n",
       "Detallista                        int32\n",
       "OutletCodeChanged                object\n",
       "dtype: object"
      ]
     },
     "metadata": {},
     "execution_count": 87
    }
   ],
   "source": [
    "table2[\"OutletCodeChanged\"] = table2[\"OutletCodeChanged\"].astype(object)\n",
    "table2.dtypes"
   ]
  },
  {
   "cell_type": "code",
   "execution_count": 88,
   "metadata": {},
   "outputs": [
    {
     "output_type": "stream",
     "name": "stdout",
     "text": [
      "1942     1\n1943     0\n1944     0\n1945     0\n1946     0\n        ..\n18268    0\n17886    0\n17887    0\n18269    0\n15670    0\nLength: 28739, dtype: int64\n1942     1\n1943     0\n1944     0\n1945     0\n1946     0\n        ..\n18268    0\n17886    0\n17887    0\n18269    0\n15670    0\nLength: 28739, dtype: int64\n1942     1\n1943     0\n1944     0\n1945     0\n1946     0\n        ..\n18268    0\n17886    0\n17887    0\n18269    0\n15670    0\nLength: 28739, dtype: int64\n1942     1\n1943     0\n1944     0\n1945     0\n1946     0\n        ..\n18268    0\n17886    0\n17887    0\n18269    0\n15670    0\nLength: 28739, dtype: int64\n1942     1\n1943     0\n1944     0\n1945     0\n1946     0\n        ..\n18268    0\n17886    0\n17887    0\n18269    0\n15670    0\nLength: 28739, dtype: int64\n1942     1\n1943     0\n1944     0\n1945     0\n1946     0\n        ..\n18268    0\n17886    0\n17887    0\n18269    0\n15670    0\nLength: 28739, dtype: int64\n1942     1\n1943     0\n1944     0\n1945     0\n1946     0\n        ..\n18268    0\n17886    0\n17887    0\n18269    0\n15670    0\nLength: 28739, dtype: int64\n1942     1\n1943     0\n1944     0\n1945     0\n1946     0\n        ..\n18268    0\n17886    0\n17887    0\n18269    0\n15670    0\nLength: 28739, dtype: int64\n1942     1\n1943     0\n1944     0\n1945     0\n1946     0\n        ..\n18268    0\n17886    0\n17887    0\n18269    0\n15670    0\nLength: 28739, dtype: int64\n1942     1\n1943     0\n1944     0\n1945     0\n1946     0\n        ..\n18268    0\n17886    0\n17887    0\n18269    0\n15670    0\nLength: 28739, dtype: int64\n1942     1\n1943     0\n1944     0\n1945     0\n1946     0\n        ..\n18268    0\n17886    0\n17887    0\n18269    0\n15670    0\nLength: 28739, dtype: int64\n1942     1\n1943     0\n1944     0\n1945     0\n1946     0\n        ..\n18268    0\n17886    0\n17887    0\n18269    0\n15670    0\nLength: 28739, dtype: int64\n1942     1\n1943     0\n1944     0\n1945     0\n1946     0\n        ..\n18268    0\n17886    0\n17887    0\n18269    0\n15670    0\nLength: 28739, dtype: int64\n1942     1\n1943     0\n1944     0\n1945     0\n1946     0\n        ..\n18268    0\n17886    0\n17887    0\n18269    0\n15670    0\nLength: 28739, dtype: int64\n1942     1\n1943     0\n1944     0\n1945     0\n1946     0\n        ..\n18268    0\n17886    0\n17887    0\n18269    0\n15670    0\nLength: 28739, dtype: int64\n1942     1\n1943     0\n1944     0\n1945     0\n1946     0\n        ..\n18268    0\n17886    0\n17887    0\n18269    0\n15670    0\nLength: 28739, dtype: int64\n1942     1\n1943     0\n1944     0\n1945     0\n1946     0\n        ..\n18268    0\n17886    0\n17887    0\n18269    0\n15670    0\nLength: 28739, dtype: int64\n1942     1\n1943     0\n1944     0\n1945     0\n1946     0\n        ..\n18268    0\n17886    0\n17887    0\n18269    0\n15670    0\nLength: 28739, dtype: int64\n"
     ]
    }
   ],
   "source": [
    "for OutletCodeChanged in table2:\n",
    "      s = table2['OutletCodeChanged'].unique()\n",
    "      for i in s:\n",
    "          if i == 'True':\n",
    "              Flag_CC = 'change'\n",
    "              \n",
    "          else: \n",
    "              Flag_CC = table2[\"Enfriador Coca-Cola\"] - table2[\"Coca-Cola\"]\n",
    "\n",
    "              table2['Flag_CC']=Flag_CC\n",
    "              \n",
    "      print(Flag_CC)   "
   ]
  },
  {
   "cell_type": "code",
   "execution_count": 89,
   "metadata": {},
   "outputs": [
    {
     "output_type": "execute_result",
     "data": {
      "text/plain": [
       "SubSceneType\n",
       "UserName                         object\n",
       "OutletCode                       object\n",
       "UserId                            int64\n",
       "DateId                            int64\n",
       "IsReported                        int64\n",
       "date_format              datetime64[ns]\n",
       "SessionUid                       object\n",
       "Question                         object\n",
       "Response                         object\n",
       "month                             int64\n",
       "day                               int64\n",
       "Enfriador Coca-Cola               int64\n",
       "Enfriador Competencia             int64\n",
       "Enfriador Detallista              int64\n",
       "Coca-Cola                         int32\n",
       "Competencia                       int32\n",
       "Detallista                        int32\n",
       "OutletCodeChanged                object\n",
       "Flag_CC                           int64\n",
       "dtype: object"
      ]
     },
     "metadata": {},
     "execution_count": 89
    }
   ],
   "source": [
    "table2.dtypes"
   ]
  },
  {
   "cell_type": "code",
   "execution_count": 90,
   "metadata": {},
   "outputs": [
    {
     "output_type": "stream",
     "name": "stdout",
     "text": [
      "1942     0\n1943     0\n1944     0\n1945     0\n1946     0\n        ..\n18268    0\n17886    0\n17887    0\n18269    0\n15670    0\nLength: 28739, dtype: int64\n1942     0\n1943     0\n1944     0\n1945     0\n1946     0\n        ..\n18268    0\n17886    0\n17887    0\n18269    0\n15670    0\nLength: 28739, dtype: int64\n1942     0\n1943     0\n1944     0\n1945     0\n1946     0\n        ..\n18268    0\n17886    0\n17887    0\n18269    0\n15670    0\nLength: 28739, dtype: int64\n1942     0\n1943     0\n1944     0\n1945     0\n1946     0\n        ..\n18268    0\n17886    0\n17887    0\n18269    0\n15670    0\nLength: 28739, dtype: int64\n1942     0\n1943     0\n1944     0\n1945     0\n1946     0\n        ..\n18268    0\n17886    0\n17887    0\n18269    0\n15670    0\nLength: 28739, dtype: int64\n1942     0\n1943     0\n1944     0\n1945     0\n1946     0\n        ..\n18268    0\n17886    0\n17887    0\n18269    0\n15670    0\nLength: 28739, dtype: int64\n1942     0\n1943     0\n1944     0\n1945     0\n1946     0\n        ..\n18268    0\n17886    0\n17887    0\n18269    0\n15670    0\nLength: 28739, dtype: int64\n1942     0\n1943     0\n1944     0\n1945     0\n1946     0\n        ..\n18268    0\n17886    0\n17887    0\n18269    0\n15670    0\nLength: 28739, dtype: int64\n1942     0\n1943     0\n1944     0\n1945     0\n1946     0\n        ..\n18268    0\n17886    0\n17887    0\n18269    0\n15670    0\nLength: 28739, dtype: int64\n1942     0\n1943     0\n1944     0\n1945     0\n1946     0\n        ..\n18268    0\n17886    0\n17887    0\n18269    0\n15670    0\nLength: 28739, dtype: int64\n1942     0\n1943     0\n1944     0\n1945     0\n1946     0\n        ..\n18268    0\n17886    0\n17887    0\n18269    0\n15670    0\nLength: 28739, dtype: int64\n1942     0\n1943     0\n1944     0\n1945     0\n1946     0\n        ..\n18268    0\n17886    0\n17887    0\n18269    0\n15670    0\nLength: 28739, dtype: int64\n1942     0\n1943     0\n1944     0\n1945     0\n1946     0\n        ..\n18268    0\n17886    0\n17887    0\n18269    0\n15670    0\nLength: 28739, dtype: int64\n1942     0\n1943     0\n1944     0\n1945     0\n1946     0\n        ..\n18268    0\n17886    0\n17887    0\n18269    0\n15670    0\nLength: 28739, dtype: int64\n1942     0\n1943     0\n1944     0\n1945     0\n1946     0\n        ..\n18268    0\n17886    0\n17887    0\n18269    0\n15670    0\nLength: 28739, dtype: int64\n1942     0\n1943     0\n1944     0\n1945     0\n1946     0\n        ..\n18268    0\n17886    0\n17887    0\n18269    0\n15670    0\nLength: 28739, dtype: int64\n1942     0\n1943     0\n1944     0\n1945     0\n1946     0\n        ..\n18268    0\n17886    0\n17887    0\n18269    0\n15670    0\nLength: 28739, dtype: int64\n1942     0\n1943     0\n1944     0\n1945     0\n1946     0\n        ..\n18268    0\n17886    0\n17887    0\n18269    0\n15670    0\nLength: 28739, dtype: int64\n1942     0\n1943     0\n1944     0\n1945     0\n1946     0\n        ..\n18268    0\n17886    0\n17887    0\n18269    0\n15670    0\nLength: 28739, dtype: int64\n"
     ]
    }
   ],
   "source": [
    "for OutletCodeChanged in table2:\n",
    "      s = table2['OutletCodeChanged'].unique()\n",
    "      for i in s:\n",
    "          if i == 'True':\n",
    "              Flag_Comp = 'change'\n",
    "              \n",
    "          else: \n",
    "              Flag_Comp = table2[\"Enfriador Competencia\"] - table2[\"Competencia\"]\n",
    "\n",
    "              table2['Flag_Comp']=Flag_Comp\n",
    "              \n",
    "      print(Flag_Comp)  "
   ]
  },
  {
   "cell_type": "code",
   "execution_count": 91,
   "metadata": {},
   "outputs": [
    {
     "output_type": "execute_result",
     "data": {
      "text/plain": [
       "SubSceneType\n",
       "UserName                         object\n",
       "OutletCode                       object\n",
       "UserId                            int64\n",
       "DateId                            int64\n",
       "IsReported                        int64\n",
       "date_format              datetime64[ns]\n",
       "SessionUid                       object\n",
       "Question                         object\n",
       "Response                         object\n",
       "month                             int64\n",
       "day                               int64\n",
       "Enfriador Coca-Cola               int64\n",
       "Enfriador Competencia             int64\n",
       "Enfriador Detallista              int64\n",
       "Coca-Cola                         int32\n",
       "Competencia                       int32\n",
       "Detallista                        int32\n",
       "OutletCodeChanged                object\n",
       "Flag_CC                           int64\n",
       "Flag_Comp                         int64\n",
       "dtype: object"
      ]
     },
     "metadata": {},
     "execution_count": 91
    }
   ],
   "source": [
    "table2.dtypes"
   ]
  },
  {
   "cell_type": "code",
   "execution_count": 92,
   "metadata": {},
   "outputs": [
    {
     "output_type": "stream",
     "name": "stdout",
     "text": [
      "1942     0\n1943     0\n1944     0\n1945     0\n1946     0\n        ..\n18268    0\n17886    0\n17887    0\n18269    0\n15670    0\nLength: 28739, dtype: int64\n1942     0\n1943     0\n1944     0\n1945     0\n1946     0\n        ..\n18268    0\n17886    0\n17887    0\n18269    0\n15670    0\nLength: 28739, dtype: int64\n1942     0\n1943     0\n1944     0\n1945     0\n1946     0\n        ..\n18268    0\n17886    0\n17887    0\n18269    0\n15670    0\nLength: 28739, dtype: int64\n1942     0\n1943     0\n1944     0\n1945     0\n1946     0\n        ..\n18268    0\n17886    0\n17887    0\n18269    0\n15670    0\nLength: 28739, dtype: int64\n1942     0\n1943     0\n1944     0\n1945     0\n1946     0\n        ..\n18268    0\n17886    0\n17887    0\n18269    0\n15670    0\nLength: 28739, dtype: int64\n1942     0\n1943     0\n1944     0\n1945     0\n1946     0\n        ..\n18268    0\n17886    0\n17887    0\n18269    0\n15670    0\nLength: 28739, dtype: int64\n1942     0\n1943     0\n1944     0\n1945     0\n1946     0\n        ..\n18268    0\n17886    0\n17887    0\n18269    0\n15670    0\nLength: 28739, dtype: int64\n1942     0\n1943     0\n1944     0\n1945     0\n1946     0\n        ..\n18268    0\n17886    0\n17887    0\n18269    0\n15670    0\nLength: 28739, dtype: int64\n1942     0\n1943     0\n1944     0\n1945     0\n1946     0\n        ..\n18268    0\n17886    0\n17887    0\n18269    0\n15670    0\nLength: 28739, dtype: int64\n1942     0\n1943     0\n1944     0\n1945     0\n1946     0\n        ..\n18268    0\n17886    0\n17887    0\n18269    0\n15670    0\nLength: 28739, dtype: int64\n1942     0\n1943     0\n1944     0\n1945     0\n1946     0\n        ..\n18268    0\n17886    0\n17887    0\n18269    0\n15670    0\nLength: 28739, dtype: int64\n1942     0\n1943     0\n1944     0\n1945     0\n1946     0\n        ..\n18268    0\n17886    0\n17887    0\n18269    0\n15670    0\nLength: 28739, dtype: int64\n1942     0\n1943     0\n1944     0\n1945     0\n1946     0\n        ..\n18268    0\n17886    0\n17887    0\n18269    0\n15670    0\nLength: 28739, dtype: int64\n1942     0\n1943     0\n1944     0\n1945     0\n1946     0\n        ..\n18268    0\n17886    0\n17887    0\n18269    0\n15670    0\nLength: 28739, dtype: int64\n1942     0\n1943     0\n1944     0\n1945     0\n1946     0\n        ..\n18268    0\n17886    0\n17887    0\n18269    0\n15670    0\nLength: 28739, dtype: int64\n1942     0\n1943     0\n1944     0\n1945     0\n1946     0\n        ..\n18268    0\n17886    0\n17887    0\n18269    0\n15670    0\nLength: 28739, dtype: int64\n1942     0\n1943     0\n1944     0\n1945     0\n1946     0\n        ..\n18268    0\n17886    0\n17887    0\n18269    0\n15670    0\nLength: 28739, dtype: int64\n1942     0\n1943     0\n1944     0\n1945     0\n1946     0\n        ..\n18268    0\n17886    0\n17887    0\n18269    0\n15670    0\nLength: 28739, dtype: int64\n1942     0\n1943     0\n1944     0\n1945     0\n1946     0\n        ..\n18268    0\n17886    0\n17887    0\n18269    0\n15670    0\nLength: 28739, dtype: int64\n1942     0\n1943     0\n1944     0\n1945     0\n1946     0\n        ..\n18268    0\n17886    0\n17887    0\n18269    0\n15670    0\nLength: 28739, dtype: int64\n"
     ]
    }
   ],
   "source": [
    "for OutletCodeChanged in table2:\n",
    "      s = table2['OutletCodeChanged'].unique()\n",
    "      for i in s:\n",
    "          if i == 'True':\n",
    "              Flag_Det = 'change'\n",
    "              \n",
    "          else: \n",
    "              Flag_Det = table2[\"Enfriador Detallista\"] - table2[\"Detallista\"]\n",
    "\n",
    "              table2['Flag_Det']=Flag_Det\n",
    "              \n",
    "      print(Flag_Det)   "
   ]
  },
  {
   "cell_type": "code",
   "execution_count": 93,
   "metadata": {},
   "outputs": [
    {
     "output_type": "stream",
     "name": "stdout",
     "text": [
      "<class 'pandas.core.frame.DataFrame'>\nInt64Index: 28739 entries, 1942 to 15670\nData columns (total 21 columns):\n #   Column                 Non-Null Count  Dtype         \n---  ------                 --------------  -----         \n 0   UserName               28739 non-null  object        \n 1   OutletCode             28739 non-null  object        \n 2   UserId                 28739 non-null  int64         \n 3   DateId                 28739 non-null  int64         \n 4   IsReported             28739 non-null  int64         \n 5   date_format            28739 non-null  datetime64[ns]\n 6   SessionUid             28739 non-null  object        \n 7   Question               28739 non-null  object        \n 8   Response               28739 non-null  object        \n 9   month                  28739 non-null  int64         \n 10  day                    28739 non-null  int64         \n 11  Enfriador Coca-Cola    28739 non-null  int64         \n 12  Enfriador Competencia  28739 non-null  int64         \n 13  Enfriador Detallista   28739 non-null  int64         \n 14  Coca-Cola              28739 non-null  int32         \n 15  Competencia            28739 non-null  int32         \n 16  Detallista             28739 non-null  int32         \n 17  OutletCodeChanged      28739 non-null  object        \n 18  Flag_CC                28739 non-null  int64         \n 19  Flag_Comp              28739 non-null  int64         \n 20  Flag_Det               28739 non-null  int64         \ndtypes: datetime64[ns](1), int32(3), int64(11), object(6)\nmemory usage: 4.5+ MB\n"
     ]
    }
   ],
   "source": [
    "table2.info()"
   ]
  },
  {
   "cell_type": "code",
   "execution_count": 94,
   "metadata": {},
   "outputs": [
    {
     "output_type": "execute_result",
     "data": {
      "text/plain": [
       "SubSceneType                      UserName  UserId OutletCode    DateId  \\\n",
       "1942          cdcuauhtemoc2@storecheck.com   53032   10001273  20210330   \n",
       "1943          cdcuauhtemoc2@storecheck.com   53032   10001273  20210508   \n",
       "1944          cdcuauhtemoc2@storecheck.com   53032   10001449  20210223   \n",
       "1945          cdcuauhtemoc2@storecheck.com   53032   10001449  20210325   \n",
       "1946          cdcuauhtemoc2@storecheck.com   53032   10001449  20210419   \n",
       "...                                    ...     ...        ...       ...   \n",
       "18268               merida4@storecheck.com   45796       9793  20210212   \n",
       "17886               merida2@storecheck.com   45794       9793  20210313   \n",
       "17887               merida2@storecheck.com   45794       9793  20210413   \n",
       "18269               merida4@storecheck.com   45796       9793  20210511   \n",
       "15670               ilarios@storecheck.com   40663  Dum197449  20210301   \n",
       "\n",
       "SubSceneType  IsReported                            SessionUid  \\\n",
       "1942                   1  76446d48-8bc8-4a3e-a0a5-e9023e8be8d2   \n",
       "1943                   1  2ef0081a-21db-44b8-be21-a44107d840aa   \n",
       "1944                   1  2ba6c950-4ce8-4ab7-af25-7b638a73bcc6   \n",
       "1945                   1  f43bcc24-003b-4415-89af-133db84abda4   \n",
       "1946                   1  ddf9a83e-c6fe-4603-ab4c-d1c1e944ec36   \n",
       "...                  ...                                   ...   \n",
       "18268                  1  ee43b045-532b-4ea3-a4aa-69e9c61525e3   \n",
       "17886                  1  df731564-cf6e-43cf-89d8-3a6153c7569c   \n",
       "17887                  1  cb45c547-4c43-4c11-9c68-bf57b16d4bd7   \n",
       "18269                  1  bb1f8ab2-dbc0-4ad4-b7b5-d78572ea8def   \n",
       "15670                  1  ba2d6b1a-5e1f-4468-9a60-7486cccd28e5   \n",
       "\n",
       "SubSceneType                                           Question  \\\n",
       "1942             ¿El cliente cuenta con enfriador de Coca-Cola?   \n",
       "1943             ¿El cliente cuenta con enfriador de Coca-Cola?   \n",
       "1944                         ¿Cuenta con comunicación interior?   \n",
       "1945          ¿Existe algún producto que no pertenezca a la ...   \n",
       "1946                             ¿Los manteles contienen marca?   \n",
       "...                                                         ...   \n",
       "18268                        ¿Cuenta con comunicación interior?   \n",
       "17886         ¿El enfriador tiene colocado el sticker de No ...   \n",
       "17887                        ¿Cuenta con comunicación interior?   \n",
       "18269                                    ¿Cuál fue el problema?   \n",
       "15670         ¿El negocio cuenta con materiales de comunicac...   \n",
       "\n",
       "SubSceneType                           Response  month  day OutletCodeChanged  \\\n",
       "1942                                       Yes\u0014      3   30             False   \n",
       "1943                                       Yes\u0014      5    8             False   \n",
       "1944                                       Yes\u0014      2   23              True   \n",
       "1945                                        No\u0014      3   25             False   \n",
       "1946                                       Yes\u0014      4   19             False   \n",
       "...                                         ...    ...  ...               ...   \n",
       "18268                                      Yes\u0014      2   12             False   \n",
       "17886                                       No\u0014      3   13             False   \n",
       "17887                                      Yes\u0014      4   13             False   \n",
       "18269         Preguntas duplicadas o faltantes\u0014      5   11             False   \n",
       "15670                                       No\u0014      3    1              True   \n",
       "\n",
       "SubSceneType  Enfriador Coca-Cola  Coca-Cola  Flag_CC  Enfriador Competencia  \\\n",
       "1942                            1          0        1                      0   \n",
       "1943                            1          1        0                      0   \n",
       "1944                            1          1        0                      0   \n",
       "1945                            1          1        0                      0   \n",
       "1946                            1          1        0                      0   \n",
       "...                           ...        ...      ...                    ...   \n",
       "18268                           1          1        0                      0   \n",
       "17886                           1          1        0                      0   \n",
       "17887                           1          1        0                      0   \n",
       "18269                           1          1        0                      0   \n",
       "15670                           1          1        0                      0   \n",
       "\n",
       "SubSceneType  Competencia  Flag_Comp  Enfriador Detallista  Detallista  \\\n",
       "1942                    0          0                     0           0   \n",
       "1943                    0          0                     0           0   \n",
       "1944                    0          0                     0           0   \n",
       "1945                    0          0                     0           0   \n",
       "1946                    0          0                     0           0   \n",
       "...                   ...        ...                   ...         ...   \n",
       "18268                   0          0                     0           0   \n",
       "17886                   0          0                     0           0   \n",
       "17887                   0          0                     0           0   \n",
       "18269                   0          0                     0           0   \n",
       "15670                   0          0                     0           0   \n",
       "\n",
       "SubSceneType  Flag_Det  \n",
       "1942                 0  \n",
       "1943                 0  \n",
       "1944                 0  \n",
       "1945                 0  \n",
       "1946                 0  \n",
       "...                ...  \n",
       "18268                0  \n",
       "17886                0  \n",
       "17887                0  \n",
       "18269                0  \n",
       "15670                0  \n",
       "\n",
       "[28739 rows x 20 columns]"
      ],
      "text/html": "<div>\n<style scoped>\n    .dataframe tbody tr th:only-of-type {\n        vertical-align: middle;\n    }\n\n    .dataframe tbody tr th {\n        vertical-align: top;\n    }\n\n    .dataframe thead th {\n        text-align: right;\n    }\n</style>\n<table border=\"1\" class=\"dataframe\">\n  <thead>\n    <tr style=\"text-align: right;\">\n      <th>SubSceneType</th>\n      <th>UserName</th>\n      <th>UserId</th>\n      <th>OutletCode</th>\n      <th>DateId</th>\n      <th>IsReported</th>\n      <th>SessionUid</th>\n      <th>Question</th>\n      <th>Response</th>\n      <th>month</th>\n      <th>day</th>\n      <th>OutletCodeChanged</th>\n      <th>Enfriador Coca-Cola</th>\n      <th>Coca-Cola</th>\n      <th>Flag_CC</th>\n      <th>Enfriador Competencia</th>\n      <th>Competencia</th>\n      <th>Flag_Comp</th>\n      <th>Enfriador Detallista</th>\n      <th>Detallista</th>\n      <th>Flag_Det</th>\n    </tr>\n  </thead>\n  <tbody>\n    <tr>\n      <th>1942</th>\n      <td>cdcuauhtemoc2@storecheck.com</td>\n      <td>53032</td>\n      <td>10001273</td>\n      <td>20210330</td>\n      <td>1</td>\n      <td>76446d48-8bc8-4a3e-a0a5-e9023e8be8d2</td>\n      <td>¿El cliente cuenta con enfriador de Coca-Cola?</td>\n      <td>Yes\u0014</td>\n      <td>3</td>\n      <td>30</td>\n      <td>False</td>\n      <td>1</td>\n      <td>0</td>\n      <td>1</td>\n      <td>0</td>\n      <td>0</td>\n      <td>0</td>\n      <td>0</td>\n      <td>0</td>\n      <td>0</td>\n    </tr>\n    <tr>\n      <th>1943</th>\n      <td>cdcuauhtemoc2@storecheck.com</td>\n      <td>53032</td>\n      <td>10001273</td>\n      <td>20210508</td>\n      <td>1</td>\n      <td>2ef0081a-21db-44b8-be21-a44107d840aa</td>\n      <td>¿El cliente cuenta con enfriador de Coca-Cola?</td>\n      <td>Yes\u0014</td>\n      <td>5</td>\n      <td>8</td>\n      <td>False</td>\n      <td>1</td>\n      <td>1</td>\n      <td>0</td>\n      <td>0</td>\n      <td>0</td>\n      <td>0</td>\n      <td>0</td>\n      <td>0</td>\n      <td>0</td>\n    </tr>\n    <tr>\n      <th>1944</th>\n      <td>cdcuauhtemoc2@storecheck.com</td>\n      <td>53032</td>\n      <td>10001449</td>\n      <td>20210223</td>\n      <td>1</td>\n      <td>2ba6c950-4ce8-4ab7-af25-7b638a73bcc6</td>\n      <td>¿Cuenta con comunicación interior?</td>\n      <td>Yes\u0014</td>\n      <td>2</td>\n      <td>23</td>\n      <td>True</td>\n      <td>1</td>\n      <td>1</td>\n      <td>0</td>\n      <td>0</td>\n      <td>0</td>\n      <td>0</td>\n      <td>0</td>\n      <td>0</td>\n      <td>0</td>\n    </tr>\n    <tr>\n      <th>1945</th>\n      <td>cdcuauhtemoc2@storecheck.com</td>\n      <td>53032</td>\n      <td>10001449</td>\n      <td>20210325</td>\n      <td>1</td>\n      <td>f43bcc24-003b-4415-89af-133db84abda4</td>\n      <td>¿Existe algún producto que no pertenezca a la ...</td>\n      <td>No\u0014</td>\n      <td>3</td>\n      <td>25</td>\n      <td>False</td>\n      <td>1</td>\n      <td>1</td>\n      <td>0</td>\n      <td>0</td>\n      <td>0</td>\n      <td>0</td>\n      <td>0</td>\n      <td>0</td>\n      <td>0</td>\n    </tr>\n    <tr>\n      <th>1946</th>\n      <td>cdcuauhtemoc2@storecheck.com</td>\n      <td>53032</td>\n      <td>10001449</td>\n      <td>20210419</td>\n      <td>1</td>\n      <td>ddf9a83e-c6fe-4603-ab4c-d1c1e944ec36</td>\n      <td>¿Los manteles contienen marca?</td>\n      <td>Yes\u0014</td>\n      <td>4</td>\n      <td>19</td>\n      <td>False</td>\n      <td>1</td>\n      <td>1</td>\n      <td>0</td>\n      <td>0</td>\n      <td>0</td>\n      <td>0</td>\n      <td>0</td>\n      <td>0</td>\n      <td>0</td>\n    </tr>\n    <tr>\n      <th>...</th>\n      <td>...</td>\n      <td>...</td>\n      <td>...</td>\n      <td>...</td>\n      <td>...</td>\n      <td>...</td>\n      <td>...</td>\n      <td>...</td>\n      <td>...</td>\n      <td>...</td>\n      <td>...</td>\n      <td>...</td>\n      <td>...</td>\n      <td>...</td>\n      <td>...</td>\n      <td>...</td>\n      <td>...</td>\n      <td>...</td>\n      <td>...</td>\n      <td>...</td>\n    </tr>\n    <tr>\n      <th>18268</th>\n      <td>merida4@storecheck.com</td>\n      <td>45796</td>\n      <td>9793</td>\n      <td>20210212</td>\n      <td>1</td>\n      <td>ee43b045-532b-4ea3-a4aa-69e9c61525e3</td>\n      <td>¿Cuenta con comunicación interior?</td>\n      <td>Yes\u0014</td>\n      <td>2</td>\n      <td>12</td>\n      <td>False</td>\n      <td>1</td>\n      <td>1</td>\n      <td>0</td>\n      <td>0</td>\n      <td>0</td>\n      <td>0</td>\n      <td>0</td>\n      <td>0</td>\n      <td>0</td>\n    </tr>\n    <tr>\n      <th>17886</th>\n      <td>merida2@storecheck.com</td>\n      <td>45794</td>\n      <td>9793</td>\n      <td>20210313</td>\n      <td>1</td>\n      <td>df731564-cf6e-43cf-89d8-3a6153c7569c</td>\n      <td>¿El enfriador tiene colocado el sticker de No ...</td>\n      <td>No\u0014</td>\n      <td>3</td>\n      <td>13</td>\n      <td>False</td>\n      <td>1</td>\n      <td>1</td>\n      <td>0</td>\n      <td>0</td>\n      <td>0</td>\n      <td>0</td>\n      <td>0</td>\n      <td>0</td>\n      <td>0</td>\n    </tr>\n    <tr>\n      <th>17887</th>\n      <td>merida2@storecheck.com</td>\n      <td>45794</td>\n      <td>9793</td>\n      <td>20210413</td>\n      <td>1</td>\n      <td>cb45c547-4c43-4c11-9c68-bf57b16d4bd7</td>\n      <td>¿Cuenta con comunicación interior?</td>\n      <td>Yes\u0014</td>\n      <td>4</td>\n      <td>13</td>\n      <td>False</td>\n      <td>1</td>\n      <td>1</td>\n      <td>0</td>\n      <td>0</td>\n      <td>0</td>\n      <td>0</td>\n      <td>0</td>\n      <td>0</td>\n      <td>0</td>\n    </tr>\n    <tr>\n      <th>18269</th>\n      <td>merida4@storecheck.com</td>\n      <td>45796</td>\n      <td>9793</td>\n      <td>20210511</td>\n      <td>1</td>\n      <td>bb1f8ab2-dbc0-4ad4-b7b5-d78572ea8def</td>\n      <td>¿Cuál fue el problema?</td>\n      <td>Preguntas duplicadas o faltantes\u0014</td>\n      <td>5</td>\n      <td>11</td>\n      <td>False</td>\n      <td>1</td>\n      <td>1</td>\n      <td>0</td>\n      <td>0</td>\n      <td>0</td>\n      <td>0</td>\n      <td>0</td>\n      <td>0</td>\n      <td>0</td>\n    </tr>\n    <tr>\n      <th>15670</th>\n      <td>ilarios@storecheck.com</td>\n      <td>40663</td>\n      <td>Dum197449</td>\n      <td>20210301</td>\n      <td>1</td>\n      <td>ba2d6b1a-5e1f-4468-9a60-7486cccd28e5</td>\n      <td>¿El negocio cuenta con materiales de comunicac...</td>\n      <td>No\u0014</td>\n      <td>3</td>\n      <td>1</td>\n      <td>True</td>\n      <td>1</td>\n      <td>1</td>\n      <td>0</td>\n      <td>0</td>\n      <td>0</td>\n      <td>0</td>\n      <td>0</td>\n      <td>0</td>\n      <td>0</td>\n    </tr>\n  </tbody>\n</table>\n<p>28739 rows × 20 columns</p>\n</div>"
     },
     "metadata": {},
     "execution_count": 94
    }
   ],
   "source": [
    "table_final = table2[['UserName','UserId','OutletCode','DateId', 'IsReported', 'SessionUid', 'Question', 'Response', 'month', 'day', 'OutletCodeChanged', 'Enfriador Coca-Cola', 'Coca-Cola', 'Flag_CC', 'Enfriador Competencia', 'Competencia', 'Flag_Comp', 'Enfriador Detallista', 'Detallista', 'Flag_Det']]\n",
    "table_final"
   ]
  },
  {
   "cell_type": "code",
   "execution_count": 95,
   "metadata": {},
   "outputs": [
    {
     "output_type": "stream",
     "name": "stdout",
     "text": [
      "<class 'pandas.core.frame.DataFrame'>\nInt64Index: 28739 entries, 1942 to 15670\nData columns (total 20 columns):\n #   Column                 Non-Null Count  Dtype \n---  ------                 --------------  ----- \n 0   UserName               28739 non-null  object\n 1   UserId                 28739 non-null  int64 \n 2   OutletCode             28739 non-null  object\n 3   DateId                 28739 non-null  int64 \n 4   IsReported             28739 non-null  int64 \n 5   SessionUid             28739 non-null  object\n 6   Question               28739 non-null  object\n 7   Response               28739 non-null  object\n 8   month                  28739 non-null  int64 \n 9   day                    28739 non-null  int64 \n 10  OutletCodeChanged      28739 non-null  object\n 11  Enfriador Coca-Cola    28739 non-null  int64 \n 12  Coca-Cola              28739 non-null  int32 \n 13  Flag_CC                28739 non-null  int64 \n 14  Enfriador Competencia  28739 non-null  int64 \n 15  Competencia            28739 non-null  int32 \n 16  Flag_Comp              28739 non-null  int64 \n 17  Enfriador Detallista   28739 non-null  int64 \n 18  Detallista             28739 non-null  int32 \n 19  Flag_Det               28739 non-null  int64 \ndtypes: int32(3), int64(11), object(6)\nmemory usage: 4.3+ MB\n"
     ]
    }
   ],
   "source": [
    "table_final.info()"
   ]
  },
  {
   "cell_type": "code",
   "execution_count": 96,
   "metadata": {},
   "outputs": [],
   "source": [
    "query = \"\"\" \n",
    "\n",
    "select distinct sl.SessionUId, sl.LocationId from dbo.SessionList sl\n",
    "where YEAR(sl.VisitStartDateTime) = '2021' \n",
    " \n",
    "\n",
    "        \"\"\""
   ]
  },
  {
   "cell_type": "code",
   "execution_count": 97,
   "metadata": {},
   "outputs": [
    {
     "output_type": "execute_result",
     "data": {
      "text/plain": [
       "SessionUid    object\n",
       "LocationId     int64\n",
       "dtype: object"
      ]
     },
     "metadata": {},
     "execution_count": 97
    }
   ],
   "source": [
    "dff = pd.DataFrame(get_query(query))\n",
    "#df = df.sort_values(by=\"VisitStartDateTime\",ascending=False)\n",
    "dff=dff.rename(columns={\"SessionUId\": \"SessionUid\"})\n",
    "dff.dtypes"
   ]
  },
  {
   "cell_type": "code",
   "execution_count": 98,
   "metadata": {},
   "outputs": [
    {
     "output_type": "execute_result",
     "data": {
      "text/plain": [
       "                           UserName  UserId OutletCode    DateId  IsReported  \\\n",
       "0      cdcuauhtemoc2@storecheck.com   53032   10001273  20210330           1   \n",
       "1      cdcuauhtemoc2@storecheck.com   53032   10001273  20210508           1   \n",
       "2      cdcuauhtemoc2@storecheck.com   53032   10001449  20210223           1   \n",
       "3      cdcuauhtemoc2@storecheck.com   53032   10001449  20210325           1   \n",
       "4      cdcuauhtemoc2@storecheck.com   53032   10001449  20210419           1   \n",
       "...                             ...     ...        ...       ...         ...   \n",
       "28734        merida4@storecheck.com   45796       9793  20210212           1   \n",
       "28735        merida2@storecheck.com   45794       9793  20210313           1   \n",
       "28736        merida2@storecheck.com   45794       9793  20210413           1   \n",
       "28737        merida4@storecheck.com   45796       9793  20210511           1   \n",
       "28738        ilarios@storecheck.com   40663  Dum197449  20210301           1   \n",
       "\n",
       "                                 SessionUid  \\\n",
       "0      76446d48-8bc8-4a3e-a0a5-e9023e8be8d2   \n",
       "1      2ef0081a-21db-44b8-be21-a44107d840aa   \n",
       "2      2ba6c950-4ce8-4ab7-af25-7b638a73bcc6   \n",
       "3      f43bcc24-003b-4415-89af-133db84abda4   \n",
       "4      ddf9a83e-c6fe-4603-ab4c-d1c1e944ec36   \n",
       "...                                     ...   \n",
       "28734  ee43b045-532b-4ea3-a4aa-69e9c61525e3   \n",
       "28735  df731564-cf6e-43cf-89d8-3a6153c7569c   \n",
       "28736  cb45c547-4c43-4c11-9c68-bf57b16d4bd7   \n",
       "28737  bb1f8ab2-dbc0-4ad4-b7b5-d78572ea8def   \n",
       "28738  ba2d6b1a-5e1f-4468-9a60-7486cccd28e5   \n",
       "\n",
       "                                                Question  \\\n",
       "0         ¿El cliente cuenta con enfriador de Coca-Cola?   \n",
       "1         ¿El cliente cuenta con enfriador de Coca-Cola?   \n",
       "2                     ¿Cuenta con comunicación interior?   \n",
       "3      ¿Existe algún producto que no pertenezca a la ...   \n",
       "4                         ¿Los manteles contienen marca?   \n",
       "...                                                  ...   \n",
       "28734                 ¿Cuenta con comunicación interior?   \n",
       "28735  ¿El enfriador tiene colocado el sticker de No ...   \n",
       "28736                 ¿Cuenta con comunicación interior?   \n",
       "28737                             ¿Cuál fue el problema?   \n",
       "28738  ¿El negocio cuenta con materiales de comunicac...   \n",
       "\n",
       "                                Response  month  day  ... Enfriador Coca-Cola  \\\n",
       "0                                   Yes\u0014      3   30  ...                   1   \n",
       "1                                   Yes\u0014      5    8  ...                   1   \n",
       "2                                   Yes\u0014      2   23  ...                   1   \n",
       "3                                    No\u0014      3   25  ...                   1   \n",
       "4                                   Yes\u0014      4   19  ...                   1   \n",
       "...                                  ...    ...  ...  ...                 ...   \n",
       "28734                               Yes\u0014      2   12  ...                   1   \n",
       "28735                                No\u0014      3   13  ...                   1   \n",
       "28736                               Yes\u0014      4   13  ...                   1   \n",
       "28737  Preguntas duplicadas o faltantes\u0014      5   11  ...                   1   \n",
       "28738                                No\u0014      3    1  ...                   1   \n",
       "\n",
       "       Coca-Cola  Flag_CC  Enfriador Competencia  Competencia  Flag_Comp  \\\n",
       "0              0        1                      0            0          0   \n",
       "1              1        0                      0            0          0   \n",
       "2              1        0                      0            0          0   \n",
       "3              1        0                      0            0          0   \n",
       "4              1        0                      0            0          0   \n",
       "...          ...      ...                    ...          ...        ...   \n",
       "28734          1        0                      0            0          0   \n",
       "28735          1        0                      0            0          0   \n",
       "28736          1        0                      0            0          0   \n",
       "28737          1        0                      0            0          0   \n",
       "28738          1        0                      0            0          0   \n",
       "\n",
       "       Enfriador Detallista  Detallista  Flag_Det  LocationId  \n",
       "0                         0           0         0     9080605  \n",
       "1                         0           0         0     9080605  \n",
       "2                         0           0         0     6576428  \n",
       "3                         0           0         0     6576428  \n",
       "4                         0           0         0     6576428  \n",
       "...                     ...         ...       ...         ...  \n",
       "28734                     0           0         0     6475795  \n",
       "28735                     0           0         0     6475795  \n",
       "28736                     0           0         0     6475795  \n",
       "28737                     0           0         0     6475795  \n",
       "28738                     0           0         0     6905326  \n",
       "\n",
       "[28739 rows x 21 columns]"
      ],
      "text/html": "<div>\n<style scoped>\n    .dataframe tbody tr th:only-of-type {\n        vertical-align: middle;\n    }\n\n    .dataframe tbody tr th {\n        vertical-align: top;\n    }\n\n    .dataframe thead th {\n        text-align: right;\n    }\n</style>\n<table border=\"1\" class=\"dataframe\">\n  <thead>\n    <tr style=\"text-align: right;\">\n      <th></th>\n      <th>UserName</th>\n      <th>UserId</th>\n      <th>OutletCode</th>\n      <th>DateId</th>\n      <th>IsReported</th>\n      <th>SessionUid</th>\n      <th>Question</th>\n      <th>Response</th>\n      <th>month</th>\n      <th>day</th>\n      <th>...</th>\n      <th>Enfriador Coca-Cola</th>\n      <th>Coca-Cola</th>\n      <th>Flag_CC</th>\n      <th>Enfriador Competencia</th>\n      <th>Competencia</th>\n      <th>Flag_Comp</th>\n      <th>Enfriador Detallista</th>\n      <th>Detallista</th>\n      <th>Flag_Det</th>\n      <th>LocationId</th>\n    </tr>\n  </thead>\n  <tbody>\n    <tr>\n      <th>0</th>\n      <td>cdcuauhtemoc2@storecheck.com</td>\n      <td>53032</td>\n      <td>10001273</td>\n      <td>20210330</td>\n      <td>1</td>\n      <td>76446d48-8bc8-4a3e-a0a5-e9023e8be8d2</td>\n      <td>¿El cliente cuenta con enfriador de Coca-Cola?</td>\n      <td>Yes\u0014</td>\n      <td>3</td>\n      <td>30</td>\n      <td>...</td>\n      <td>1</td>\n      <td>0</td>\n      <td>1</td>\n      <td>0</td>\n      <td>0</td>\n      <td>0</td>\n      <td>0</td>\n      <td>0</td>\n      <td>0</td>\n      <td>9080605</td>\n    </tr>\n    <tr>\n      <th>1</th>\n      <td>cdcuauhtemoc2@storecheck.com</td>\n      <td>53032</td>\n      <td>10001273</td>\n      <td>20210508</td>\n      <td>1</td>\n      <td>2ef0081a-21db-44b8-be21-a44107d840aa</td>\n      <td>¿El cliente cuenta con enfriador de Coca-Cola?</td>\n      <td>Yes\u0014</td>\n      <td>5</td>\n      <td>8</td>\n      <td>...</td>\n      <td>1</td>\n      <td>1</td>\n      <td>0</td>\n      <td>0</td>\n      <td>0</td>\n      <td>0</td>\n      <td>0</td>\n      <td>0</td>\n      <td>0</td>\n      <td>9080605</td>\n    </tr>\n    <tr>\n      <th>2</th>\n      <td>cdcuauhtemoc2@storecheck.com</td>\n      <td>53032</td>\n      <td>10001449</td>\n      <td>20210223</td>\n      <td>1</td>\n      <td>2ba6c950-4ce8-4ab7-af25-7b638a73bcc6</td>\n      <td>¿Cuenta con comunicación interior?</td>\n      <td>Yes\u0014</td>\n      <td>2</td>\n      <td>23</td>\n      <td>...</td>\n      <td>1</td>\n      <td>1</td>\n      <td>0</td>\n      <td>0</td>\n      <td>0</td>\n      <td>0</td>\n      <td>0</td>\n      <td>0</td>\n      <td>0</td>\n      <td>6576428</td>\n    </tr>\n    <tr>\n      <th>3</th>\n      <td>cdcuauhtemoc2@storecheck.com</td>\n      <td>53032</td>\n      <td>10001449</td>\n      <td>20210325</td>\n      <td>1</td>\n      <td>f43bcc24-003b-4415-89af-133db84abda4</td>\n      <td>¿Existe algún producto que no pertenezca a la ...</td>\n      <td>No\u0014</td>\n      <td>3</td>\n      <td>25</td>\n      <td>...</td>\n      <td>1</td>\n      <td>1</td>\n      <td>0</td>\n      <td>0</td>\n      <td>0</td>\n      <td>0</td>\n      <td>0</td>\n      <td>0</td>\n      <td>0</td>\n      <td>6576428</td>\n    </tr>\n    <tr>\n      <th>4</th>\n      <td>cdcuauhtemoc2@storecheck.com</td>\n      <td>53032</td>\n      <td>10001449</td>\n      <td>20210419</td>\n      <td>1</td>\n      <td>ddf9a83e-c6fe-4603-ab4c-d1c1e944ec36</td>\n      <td>¿Los manteles contienen marca?</td>\n      <td>Yes\u0014</td>\n      <td>4</td>\n      <td>19</td>\n      <td>...</td>\n      <td>1</td>\n      <td>1</td>\n      <td>0</td>\n      <td>0</td>\n      <td>0</td>\n      <td>0</td>\n      <td>0</td>\n      <td>0</td>\n      <td>0</td>\n      <td>6576428</td>\n    </tr>\n    <tr>\n      <th>...</th>\n      <td>...</td>\n      <td>...</td>\n      <td>...</td>\n      <td>...</td>\n      <td>...</td>\n      <td>...</td>\n      <td>...</td>\n      <td>...</td>\n      <td>...</td>\n      <td>...</td>\n      <td>...</td>\n      <td>...</td>\n      <td>...</td>\n      <td>...</td>\n      <td>...</td>\n      <td>...</td>\n      <td>...</td>\n      <td>...</td>\n      <td>...</td>\n      <td>...</td>\n      <td>...</td>\n    </tr>\n    <tr>\n      <th>28734</th>\n      <td>merida4@storecheck.com</td>\n      <td>45796</td>\n      <td>9793</td>\n      <td>20210212</td>\n      <td>1</td>\n      <td>ee43b045-532b-4ea3-a4aa-69e9c61525e3</td>\n      <td>¿Cuenta con comunicación interior?</td>\n      <td>Yes\u0014</td>\n      <td>2</td>\n      <td>12</td>\n      <td>...</td>\n      <td>1</td>\n      <td>1</td>\n      <td>0</td>\n      <td>0</td>\n      <td>0</td>\n      <td>0</td>\n      <td>0</td>\n      <td>0</td>\n      <td>0</td>\n      <td>6475795</td>\n    </tr>\n    <tr>\n      <th>28735</th>\n      <td>merida2@storecheck.com</td>\n      <td>45794</td>\n      <td>9793</td>\n      <td>20210313</td>\n      <td>1</td>\n      <td>df731564-cf6e-43cf-89d8-3a6153c7569c</td>\n      <td>¿El enfriador tiene colocado el sticker de No ...</td>\n      <td>No\u0014</td>\n      <td>3</td>\n      <td>13</td>\n      <td>...</td>\n      <td>1</td>\n      <td>1</td>\n      <td>0</td>\n      <td>0</td>\n      <td>0</td>\n      <td>0</td>\n      <td>0</td>\n      <td>0</td>\n      <td>0</td>\n      <td>6475795</td>\n    </tr>\n    <tr>\n      <th>28736</th>\n      <td>merida2@storecheck.com</td>\n      <td>45794</td>\n      <td>9793</td>\n      <td>20210413</td>\n      <td>1</td>\n      <td>cb45c547-4c43-4c11-9c68-bf57b16d4bd7</td>\n      <td>¿Cuenta con comunicación interior?</td>\n      <td>Yes\u0014</td>\n      <td>4</td>\n      <td>13</td>\n      <td>...</td>\n      <td>1</td>\n      <td>1</td>\n      <td>0</td>\n      <td>0</td>\n      <td>0</td>\n      <td>0</td>\n      <td>0</td>\n      <td>0</td>\n      <td>0</td>\n      <td>6475795</td>\n    </tr>\n    <tr>\n      <th>28737</th>\n      <td>merida4@storecheck.com</td>\n      <td>45796</td>\n      <td>9793</td>\n      <td>20210511</td>\n      <td>1</td>\n      <td>bb1f8ab2-dbc0-4ad4-b7b5-d78572ea8def</td>\n      <td>¿Cuál fue el problema?</td>\n      <td>Preguntas duplicadas o faltantes\u0014</td>\n      <td>5</td>\n      <td>11</td>\n      <td>...</td>\n      <td>1</td>\n      <td>1</td>\n      <td>0</td>\n      <td>0</td>\n      <td>0</td>\n      <td>0</td>\n      <td>0</td>\n      <td>0</td>\n      <td>0</td>\n      <td>6475795</td>\n    </tr>\n    <tr>\n      <th>28738</th>\n      <td>ilarios@storecheck.com</td>\n      <td>40663</td>\n      <td>Dum197449</td>\n      <td>20210301</td>\n      <td>1</td>\n      <td>ba2d6b1a-5e1f-4468-9a60-7486cccd28e5</td>\n      <td>¿El negocio cuenta con materiales de comunicac...</td>\n      <td>No\u0014</td>\n      <td>3</td>\n      <td>1</td>\n      <td>...</td>\n      <td>1</td>\n      <td>1</td>\n      <td>0</td>\n      <td>0</td>\n      <td>0</td>\n      <td>0</td>\n      <td>0</td>\n      <td>0</td>\n      <td>0</td>\n      <td>6905326</td>\n    </tr>\n  </tbody>\n</table>\n<p>28739 rows × 21 columns</p>\n</div>"
     },
     "metadata": {},
     "execution_count": 98
    }
   ],
   "source": [
    "Ifi_historico = pd.merge(table_final, dff, on='SessionUid', how='inner')\n",
    "Ifi_historico"
   ]
  },
  {
   "cell_type": "code",
   "execution_count": 99,
   "metadata": {},
   "outputs": [
    {
     "output_type": "stream",
     "name": "stdout",
     "text": [
      "<class 'pandas.core.frame.DataFrame'>\nInt64Index: 28739 entries, 0 to 28738\nData columns (total 21 columns):\n #   Column                 Non-Null Count  Dtype \n---  ------                 --------------  ----- \n 0   UserName               28739 non-null  object\n 1   UserId                 28739 non-null  int64 \n 2   OutletCode             28739 non-null  object\n 3   DateId                 28739 non-null  int64 \n 4   IsReported             28739 non-null  int64 \n 5   SessionUid             28739 non-null  object\n 6   Question               28739 non-null  object\n 7   Response               28739 non-null  object\n 8   month                  28739 non-null  int64 \n 9   day                    28739 non-null  int64 \n 10  OutletCodeChanged      28739 non-null  object\n 11  Enfriador Coca-Cola    28739 non-null  int64 \n 12  Coca-Cola              28739 non-null  int32 \n 13  Flag_CC                28739 non-null  int64 \n 14  Enfriador Competencia  28739 non-null  int64 \n 15  Competencia            28739 non-null  int32 \n 16  Flag_Comp              28739 non-null  int64 \n 17  Enfriador Detallista   28739 non-null  int64 \n 18  Detallista             28739 non-null  int32 \n 19  Flag_Det               28739 non-null  int64 \n 20  LocationId             28739 non-null  int64 \ndtypes: int32(3), int64(12), object(6)\nmemory usage: 5.7+ MB\n"
     ]
    }
   ],
   "source": [
    "Ifi_historico.info()\n"
   ]
  },
  {
   "cell_type": "code",
   "execution_count": 100,
   "metadata": {},
   "outputs": [],
   "source": [
    "Ifi_historico=Ifi_historico[['UserName', 'UserId', 'OutletCode', 'LocationId', 'DateId', 'IsReported','SessionUid', 'Question', 'Response', 'month', 'day', 'OutletCodeChanged', 'Enfriador Coca-Cola', 'Flag_CC', 'Enfriador Competencia', 'Flag_Comp', 'Enfriador Detallista', 'Flag_Det']]"
   ]
  },
  {
   "cell_type": "code",
   "execution_count": 102,
   "metadata": {},
   "outputs": [
    {
     "output_type": "stream",
     "name": "stdout",
     "text": [
      "<class 'pandas.core.frame.DataFrame'>\nInt64Index: 28739 entries, 0 to 28738\nData columns (total 18 columns):\n #   Column                 Non-Null Count  Dtype \n---  ------                 --------------  ----- \n 0   UserName               28739 non-null  object\n 1   UserId                 28739 non-null  int64 \n 2   OutletCode             28739 non-null  object\n 3   LocationId             28739 non-null  int64 \n 4   DateId                 28739 non-null  int64 \n 5   IsReported             28739 non-null  int64 \n 6   SessionUid             28739 non-null  object\n 7   Question               28739 non-null  object\n 8   Response               28739 non-null  object\n 9   month                  28739 non-null  int64 \n 10  day                    28739 non-null  int64 \n 11  OutletCodeChanged      28739 non-null  object\n 12  Enfriador Coca-Cola    28739 non-null  int64 \n 13  Flag_CC                28739 non-null  int64 \n 14  Enfriador Competencia  28739 non-null  int64 \n 15  Flag_Comp              28739 non-null  int64 \n 16  Enfriador Detallista   28739 non-null  int64 \n 17  Flag_Det               28739 non-null  int64 \ndtypes: int64(12), object(6)\nmemory usage: 5.4+ MB\n"
     ]
    }
   ],
   "source": [
    "Ifi_historico.info()"
   ]
  },
  {
   "cell_type": "code",
   "execution_count": 103,
   "metadata": {},
   "outputs": [],
   "source": [
    "import pandas as pd \n",
    "import pyodbc\n",
    "import sqlalchemy\n",
    "import datetime as dt \n",
    "import numpy as np\n",
    "\n",
    "#Se definen las conexiones\n",
    "\n",
    "def get_engine():\n",
    "    connection_string = \"mssql+pyodbc://{0}@{2}:{1}@{2}.database.windows.net:{4}/{3}?driver=ODBC+Driver+17+for+SQL+Server\".format(\n",
    "                        'jrivas',\n",
    "                        '8khHAM=B=q$ZGr6N',\n",
    "                        'koice',\n",
    "                        'ko_ice',\n",
    "                        1433)\n",
    "    res = sqlalchemy.engine.create_engine(connection_string, connect_args={'autocommit': True})\n",
    "    return res\n",
    "\n",
    "\n",
    "def get_query(query):\n",
    "    engine = get_engine()\n",
    "    res = pd.read_sql(query, con=engine)\n",
    "    return res"
   ]
  },
  {
   "cell_type": "code",
   "execution_count": 104,
   "metadata": {},
   "outputs": [],
   "source": [
    "engine = get_engine()\n",
    "Ifi_historico.to_sql('Enfriadores_op', con=engine, schema='reportes', if_exists='append', index=False)"
   ]
  },
  {
   "cell_type": "code",
   "execution_count": null,
   "metadata": {},
   "outputs": [],
   "source": []
  },
  {
   "cell_type": "code",
   "execution_count": null,
   "metadata": {},
   "outputs": [],
   "source": []
  }
 ]
}
