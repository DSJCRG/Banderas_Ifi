{
 "metadata": {
  "language_info": {
   "codemirror_mode": {
    "name": "ipython",
    "version": 3
   },
   "file_extension": ".py",
   "mimetype": "text/x-python",
   "name": "python",
   "nbconvert_exporter": "python",
   "pygments_lexer": "ipython3",
   "version": "3.8.5"
  },
  "orig_nbformat": 2,
  "kernelspec": {
   "name": "python385jvsc74a57bd0c5e48f84046969b800ff52f6d80523bcd1ca3fb1a99f1449e4197bf6c73dc096",
   "display_name": "Python 3.8.5 64-bit ('base': conda)"
  }
 },
 "nbformat": 4,
 "nbformat_minor": 2,
 "cells": [
  {
   "cell_type": "code",
   "execution_count": 131,
   "metadata": {},
   "outputs": [],
   "source": [
    "import pandas as pd \n",
    "import pyodbc\n",
    "import sqlalchemy\n",
    "import datetime as dt \n",
    "import numpy as np\n",
    "\n",
    "\n",
    "#Se definen las conexiones\n",
    "\n",
    "def get_engine():\n",
    "    connection_string = \"mssql+pyodbc://{0}@{2}:{1}@{2}.database.windows.net:{4}/{3}?driver=ODBC+Driver+17+for+SQL+Server\".format(\n",
    "                        'ko_ice_reader',\n",
    "                        'XXXXXXX',\n",
    "                        'koice',\n",
    "                        'ko_ice',\n",
    "                        1433)\n",
    "    res = sqlalchemy.engine.create_engine(connection_string, connect_args={'autocommit': True})\n",
    "    return res\n",
    "    \n",
    "def get_query(query):\n",
    "    engine = get_engine()\n",
    "    res = pd.read_sql(query, con=engine)\n",
    "    return res"
   ]
  },
  {
   "cell_type": "code",
   "execution_count": 132,
   "metadata": {},
   "outputs": [],
   "source": [
    "query = \"\"\" \n",
    "\n",
    "select distinct tt.store_id, tt.user_id, tt.date_id, tt.establishment_type, tt.establishment_size, tt.first_position_points, tt.first_position_objetives, tt.first_position_cooler_coca, tt.first_position_complishment, tt.is_reported, tt.ice_points, tt.LocationId, YEAR(srl.VisitStartDateTime) as year, MONTH(srl.VisitStartDateTime) as month, DAY(VisitStartDateTime) as day, sl.Question, sl.Response, srl.* \n",
    "from dbo.SceneReportList srl \n",
    "join dbo.SurveyList sl on sl.SessionUid = srl.SessionUId\n",
    "join dbo.a_tt_10_CMP_r_traditional_data_01 tt on tt.SessionUid = srl.SessionUid\n",
    "where YEAR(srl.VisitStartDateTime) = '2021' and srl.LocationClusterName = 'Traditional' and srl.UserRole = 'Auditor' and sl.Question = 'Tipo Enfriador Detallista' and YEAR(CONVERT(varchar, date_id, 103))='2021' and srl.Scene = 'Enfriador' and srl.SubSceneType in ('Enfriador Coca-Cola', 'Enfriador Detallista')\n",
    "\n",
    "\"\"\""
   ]
  },
  {
   "cell_type": "code",
   "execution_count": 133,
   "metadata": {},
   "outputs": [
    {
     "output_type": "execute_result",
     "data": {
      "text/plain": [
       "         store_id  user_id   date_id establishment_type establishment_size  \\\n",
       "0       100000195    47713  20210312        NO ENREJADO             GRANDE   \n",
       "1       100000504    45848  20210529           ENREJADO            MEDIANO   \n",
       "2        10001249    53032  20210222        NO ENREJADO             GRANDE   \n",
       "3        10001249    53032  20210419        NO ENREJADO             GRANDE   \n",
       "4       100000208    45848  20210228           ENREJADO             GRANDE   \n",
       "...           ...      ...       ...                ...                ...   \n",
       "175362    9019719    56580  20210618        NO ENREJADO            MEDIANO   \n",
       "175363      90249    45790  20210206        NO ENREJADO             GRANDE   \n",
       "175364      90741    45790  20210113        NO ENREJADO             GRANDE   \n",
       "175365      99750    45795  20210104           ENREJADO            MEDIANO   \n",
       "175366      99750    45796  20210316           ENREJADO              CHICO   \n",
       "\n",
       "        first_position_points  first_position_objetives  \\\n",
       "0                         5.0                       5.0   \n",
       "1                         5.0                       5.0   \n",
       "2                         5.0                       5.0   \n",
       "3                         5.0                       5.0   \n",
       "4                         5.0                       5.0   \n",
       "...                       ...                       ...   \n",
       "175362                    5.0                       5.0   \n",
       "175363                    5.0                       5.0   \n",
       "175364                    5.0                       5.0   \n",
       "175365                    5.0                       5.0   \n",
       "175366                    5.0                       5.0   \n",
       "\n",
       "        first_position_cooler_coca  first_position_complishment  is_reported  \\\n",
       "0                              1.0                          1.0            1   \n",
       "1                              1.0                          1.0            0   \n",
       "2                              1.0                          1.0            1   \n",
       "3                              0.0                          1.0            1   \n",
       "4                              1.0                          1.0            1   \n",
       "...                            ...                          ...          ...   \n",
       "175362                         1.0                          1.0            1   \n",
       "175363                         1.0                          1.0            1   \n",
       "175364                         1.0                          1.0            1   \n",
       "175365                         1.0                          1.0            1   \n",
       "175366                         1.0                          1.0            1   \n",
       "\n",
       "        ...  SurveyCancelCallReason  IsQAEnvironment  SalesOfficeCode  \\\n",
       "0       ...                                     None          Texcoco   \n",
       "1       ...                                     None          Texcoco   \n",
       "2       ...                                     None       Cuauhtémoc   \n",
       "3       ...                                     None       Cuauhtémoc   \n",
       "4       ...                                     None          Texcoco   \n",
       "...     ...                     ...              ...              ...   \n",
       "175362  ...                                     None  9000260_NOGALES   \n",
       "175363  ...                                     None     Quintana Roo   \n",
       "175364  ...                                     None     Quintana Roo   \n",
       "175365  ...                                     None          Yucatán   \n",
       "175366  ...                                     None          Yucatán   \n",
       "\n",
       "        SalesOfficeName                                        IdVisita  \\\n",
       "0               Texcoco                                            None   \n",
       "1               Texcoco        100000504cdmx24@storecheck.com2021-05-29   \n",
       "2            Cuauhtémoc  10001249cdcuauhtemoc2@storecheck.com2021-02-22   \n",
       "3            Cuauhtémoc  10001249cdcuauhtemoc2@storecheck.com2021-04-19   \n",
       "4               Texcoco                                            None   \n",
       "...                 ...                                             ...   \n",
       "175362          Nogales        9019719nogales3@storecheck.com2021-06-18   \n",
       "175363     Quintana Roo                                            None   \n",
       "175364     Quintana Roo                                            None   \n",
       "175365          Yucatán                                            None   \n",
       "175366          Yucatán                                            None   \n",
       "\n",
       "       SalesGroupCode    SalesGroupName              TradeGroupCode  \\\n",
       "0              MR0025           Texcoco                    ABARROTE   \n",
       "1              MR0025           Texcoco                    ABARROTE   \n",
       "2            Jefe CUU  Cef - Cuauhtémoc                   ABARROTES   \n",
       "3            Jefe CUU  Cef - Cuauhtémoc                   ABARROTES   \n",
       "4              MR0025           Texcoco                    ABARROTE   \n",
       "...               ...               ...                         ...   \n",
       "175362    9000260_901           NOGALES  MISCELANEAS Y ESTANQUILLOS   \n",
       "175363     9000222-86      Cancún Norte    MISCELÁNEA / ESTANQUILLO   \n",
       "175364     9000222-87  Playa del Carmen                    ABARROTE   \n",
       "175365     9000222-30           Oriente    MISCELÁNEA / ESTANQUILLO   \n",
       "175366     9000222-30           Oriente    MISCELÁNEA / ESTANQUILLO   \n",
       "\n",
       "                    TradeGroupName ParentSceneUid  \n",
       "0                         ABARROTE                 \n",
       "1                         ABARROTE                 \n",
       "2                        ABARROTES                 \n",
       "3                        ABARROTES                 \n",
       "4                         ABARROTE                 \n",
       "...                            ...            ...  \n",
       "175362  MISCELANEAS Y ESTANQUILLOS                 \n",
       "175363    MISCELÁNEA / ESTANQUILLO                 \n",
       "175364                    ABARROTE                 \n",
       "175365    MISCELÁNEA / ESTANQUILLO                 \n",
       "175366    MISCELÁNEA / ESTANQUILLO                 \n",
       "\n",
       "[175367 rows x 55 columns]"
      ],
      "text/html": "<div>\n<style scoped>\n    .dataframe tbody tr th:only-of-type {\n        vertical-align: middle;\n    }\n\n    .dataframe tbody tr th {\n        vertical-align: top;\n    }\n\n    .dataframe thead th {\n        text-align: right;\n    }\n</style>\n<table border=\"1\" class=\"dataframe\">\n  <thead>\n    <tr style=\"text-align: right;\">\n      <th></th>\n      <th>store_id</th>\n      <th>user_id</th>\n      <th>date_id</th>\n      <th>establishment_type</th>\n      <th>establishment_size</th>\n      <th>first_position_points</th>\n      <th>first_position_objetives</th>\n      <th>first_position_cooler_coca</th>\n      <th>first_position_complishment</th>\n      <th>is_reported</th>\n      <th>...</th>\n      <th>SurveyCancelCallReason</th>\n      <th>IsQAEnvironment</th>\n      <th>SalesOfficeCode</th>\n      <th>SalesOfficeName</th>\n      <th>IdVisita</th>\n      <th>SalesGroupCode</th>\n      <th>SalesGroupName</th>\n      <th>TradeGroupCode</th>\n      <th>TradeGroupName</th>\n      <th>ParentSceneUid</th>\n    </tr>\n  </thead>\n  <tbody>\n    <tr>\n      <th>0</th>\n      <td>100000195</td>\n      <td>47713</td>\n      <td>20210312</td>\n      <td>NO ENREJADO</td>\n      <td>GRANDE</td>\n      <td>5.0</td>\n      <td>5.0</td>\n      <td>1.0</td>\n      <td>1.0</td>\n      <td>1</td>\n      <td>...</td>\n      <td></td>\n      <td>None</td>\n      <td>Texcoco</td>\n      <td>Texcoco</td>\n      <td>None</td>\n      <td>MR0025</td>\n      <td>Texcoco</td>\n      <td>ABARROTE</td>\n      <td>ABARROTE</td>\n      <td></td>\n    </tr>\n    <tr>\n      <th>1</th>\n      <td>100000504</td>\n      <td>45848</td>\n      <td>20210529</td>\n      <td>ENREJADO</td>\n      <td>MEDIANO</td>\n      <td>5.0</td>\n      <td>5.0</td>\n      <td>1.0</td>\n      <td>1.0</td>\n      <td>0</td>\n      <td>...</td>\n      <td></td>\n      <td>None</td>\n      <td>Texcoco</td>\n      <td>Texcoco</td>\n      <td>100000504cdmx24@storecheck.com2021-05-29</td>\n      <td>MR0025</td>\n      <td>Texcoco</td>\n      <td>ABARROTE</td>\n      <td>ABARROTE</td>\n      <td></td>\n    </tr>\n    <tr>\n      <th>2</th>\n      <td>10001249</td>\n      <td>53032</td>\n      <td>20210222</td>\n      <td>NO ENREJADO</td>\n      <td>GRANDE</td>\n      <td>5.0</td>\n      <td>5.0</td>\n      <td>1.0</td>\n      <td>1.0</td>\n      <td>1</td>\n      <td>...</td>\n      <td></td>\n      <td>None</td>\n      <td>Cuauhtémoc</td>\n      <td>Cuauhtémoc</td>\n      <td>10001249cdcuauhtemoc2@storecheck.com2021-02-22</td>\n      <td>Jefe CUU</td>\n      <td>Cef - Cuauhtémoc</td>\n      <td>ABARROTES</td>\n      <td>ABARROTES</td>\n      <td></td>\n    </tr>\n    <tr>\n      <th>3</th>\n      <td>10001249</td>\n      <td>53032</td>\n      <td>20210419</td>\n      <td>NO ENREJADO</td>\n      <td>GRANDE</td>\n      <td>5.0</td>\n      <td>5.0</td>\n      <td>0.0</td>\n      <td>1.0</td>\n      <td>1</td>\n      <td>...</td>\n      <td></td>\n      <td>None</td>\n      <td>Cuauhtémoc</td>\n      <td>Cuauhtémoc</td>\n      <td>10001249cdcuauhtemoc2@storecheck.com2021-04-19</td>\n      <td>Jefe CUU</td>\n      <td>Cef - Cuauhtémoc</td>\n      <td>ABARROTES</td>\n      <td>ABARROTES</td>\n      <td></td>\n    </tr>\n    <tr>\n      <th>4</th>\n      <td>100000208</td>\n      <td>45848</td>\n      <td>20210228</td>\n      <td>ENREJADO</td>\n      <td>GRANDE</td>\n      <td>5.0</td>\n      <td>5.0</td>\n      <td>1.0</td>\n      <td>1.0</td>\n      <td>1</td>\n      <td>...</td>\n      <td></td>\n      <td>None</td>\n      <td>Texcoco</td>\n      <td>Texcoco</td>\n      <td>None</td>\n      <td>MR0025</td>\n      <td>Texcoco</td>\n      <td>ABARROTE</td>\n      <td>ABARROTE</td>\n      <td></td>\n    </tr>\n    <tr>\n      <th>...</th>\n      <td>...</td>\n      <td>...</td>\n      <td>...</td>\n      <td>...</td>\n      <td>...</td>\n      <td>...</td>\n      <td>...</td>\n      <td>...</td>\n      <td>...</td>\n      <td>...</td>\n      <td>...</td>\n      <td>...</td>\n      <td>...</td>\n      <td>...</td>\n      <td>...</td>\n      <td>...</td>\n      <td>...</td>\n      <td>...</td>\n      <td>...</td>\n      <td>...</td>\n      <td>...</td>\n    </tr>\n    <tr>\n      <th>175362</th>\n      <td>9019719</td>\n      <td>56580</td>\n      <td>20210618</td>\n      <td>NO ENREJADO</td>\n      <td>MEDIANO</td>\n      <td>5.0</td>\n      <td>5.0</td>\n      <td>1.0</td>\n      <td>1.0</td>\n      <td>1</td>\n      <td>...</td>\n      <td></td>\n      <td>None</td>\n      <td>9000260_NOGALES</td>\n      <td>Nogales</td>\n      <td>9019719nogales3@storecheck.com2021-06-18</td>\n      <td>9000260_901</td>\n      <td>NOGALES</td>\n      <td>MISCELANEAS Y ESTANQUILLOS</td>\n      <td>MISCELANEAS Y ESTANQUILLOS</td>\n      <td></td>\n    </tr>\n    <tr>\n      <th>175363</th>\n      <td>90249</td>\n      <td>45790</td>\n      <td>20210206</td>\n      <td>NO ENREJADO</td>\n      <td>GRANDE</td>\n      <td>5.0</td>\n      <td>5.0</td>\n      <td>1.0</td>\n      <td>1.0</td>\n      <td>1</td>\n      <td>...</td>\n      <td></td>\n      <td>None</td>\n      <td>Quintana Roo</td>\n      <td>Quintana Roo</td>\n      <td>None</td>\n      <td>9000222-86</td>\n      <td>Cancún Norte</td>\n      <td>MISCELÁNEA / ESTANQUILLO</td>\n      <td>MISCELÁNEA / ESTANQUILLO</td>\n      <td></td>\n    </tr>\n    <tr>\n      <th>175364</th>\n      <td>90741</td>\n      <td>45790</td>\n      <td>20210113</td>\n      <td>NO ENREJADO</td>\n      <td>GRANDE</td>\n      <td>5.0</td>\n      <td>5.0</td>\n      <td>1.0</td>\n      <td>1.0</td>\n      <td>1</td>\n      <td>...</td>\n      <td></td>\n      <td>None</td>\n      <td>Quintana Roo</td>\n      <td>Quintana Roo</td>\n      <td>None</td>\n      <td>9000222-87</td>\n      <td>Playa del Carmen</td>\n      <td>ABARROTE</td>\n      <td>ABARROTE</td>\n      <td></td>\n    </tr>\n    <tr>\n      <th>175365</th>\n      <td>99750</td>\n      <td>45795</td>\n      <td>20210104</td>\n      <td>ENREJADO</td>\n      <td>MEDIANO</td>\n      <td>5.0</td>\n      <td>5.0</td>\n      <td>1.0</td>\n      <td>1.0</td>\n      <td>1</td>\n      <td>...</td>\n      <td></td>\n      <td>None</td>\n      <td>Yucatán</td>\n      <td>Yucatán</td>\n      <td>None</td>\n      <td>9000222-30</td>\n      <td>Oriente</td>\n      <td>MISCELÁNEA / ESTANQUILLO</td>\n      <td>MISCELÁNEA / ESTANQUILLO</td>\n      <td></td>\n    </tr>\n    <tr>\n      <th>175366</th>\n      <td>99750</td>\n      <td>45796</td>\n      <td>20210316</td>\n      <td>ENREJADO</td>\n      <td>CHICO</td>\n      <td>5.0</td>\n      <td>5.0</td>\n      <td>1.0</td>\n      <td>1.0</td>\n      <td>1</td>\n      <td>...</td>\n      <td></td>\n      <td>None</td>\n      <td>Yucatán</td>\n      <td>Yucatán</td>\n      <td>None</td>\n      <td>9000222-30</td>\n      <td>Oriente</td>\n      <td>MISCELÁNEA / ESTANQUILLO</td>\n      <td>MISCELÁNEA / ESTANQUILLO</td>\n      <td></td>\n    </tr>\n  </tbody>\n</table>\n<p>175367 rows × 55 columns</p>\n</div>"
     },
     "metadata": {},
     "execution_count": 133
    }
   ],
   "source": [
    "df = pd.DataFrame(get_query(query))\n",
    "#df = df.sort_values(by=\"VisitStartDateTime\",ascending=False)\n",
    "df"
   ]
  },
  {
   "cell_type": "code",
   "execution_count": 134,
   "metadata": {},
   "outputs": [
    {
     "output_type": "stream",
     "name": "stdout",
     "text": [
      "<class 'pandas.core.frame.DataFrame'>\nRangeIndex: 175367 entries, 0 to 175366\nData columns (total 55 columns):\n #   Column                        Non-Null Count   Dtype         \n---  ------                        --------------   -----         \n 0   store_id                      175367 non-null  object        \n 1   user_id                       175367 non-null  int64         \n 2   date_id                       175367 non-null  int64         \n 3   establishment_type            175367 non-null  object        \n 4   establishment_size            175367 non-null  object        \n 5   first_position_points         175367 non-null  float64       \n 6   first_position_objetives      175367 non-null  float64       \n 7   first_position_cooler_coca    175367 non-null  float64       \n 8   first_position_complishment   175367 non-null  float64       \n 9   is_reported                   175367 non-null  int64         \n 10  ice_points                    175367 non-null  float64       \n 11  LocationId                    175367 non-null  int64         \n 12  year                          175367 non-null  int64         \n 13  month                         175367 non-null  int64         \n 14  day                           175367 non-null  int64         \n 15  Question                      175367 non-null  object        \n 16  Response                      175367 non-null  object        \n 17  AssetPurityId                 175367 non-null  int64         \n 18  UserName                      175367 non-null  object        \n 19  OutletCode                    175367 non-null  object        \n 20  Outlet                        175367 non-null  object        \n 21  ImageCaptureTime              175367 non-null  datetime64[ns]\n 22  SubSceneType                  175367 non-null  object        \n 23  Scene                         175367 non-null  object        \n 24  Status                        175367 non-null  object        \n 25  SubStatus                     174428 non-null  object        \n 26  ClientCode                    175367 non-null  object        \n 27  SubClient                     175367 non-null  object        \n 28  State                         174884 non-null  object        \n 29  Country                       175367 non-null  object        \n 30  ImageCount                    175367 non-null  int64         \n 31  SessionUid                    175367 non-null  object        \n 32  SceneUId                      175367 non-null  object        \n 33  SceneId                       175367 non-null  object        \n 34  PhotoUrl                      175367 non-null  object        \n 35  VisitStartDate                175367 non-null  object        \n 36  VisitStartDateTime            175367 non-null  datetime64[ns]\n 37  VisitEndDateTime              175367 non-null  datetime64[ns]\n 38  LocationId                    175367 non-null  int64         \n 39  PrimaryEmail                  174306 non-null  object        \n 40  UserRole                      175367 non-null  object        \n 41  LocationClusterName           175367 non-null  object        \n 42  LocationLocalSubTradeChannel  175289 non-null  object        \n 43  LocationSegmentName           175367 non-null  object        \n 44  VisitStatus                   175367 non-null  object        \n 45  SurveyCancelCallReason        174306 non-null  object        \n 46  IsQAEnvironment               0 non-null       object        \n 47  SalesOfficeCode               175367 non-null  object        \n 48  SalesOfficeName               175367 non-null  object        \n 49  IdVisita                      123221 non-null  object        \n 50  SalesGroupCode                175367 non-null  object        \n 51  SalesGroupName                175367 non-null  object        \n 52  TradeGroupCode                175367 non-null  object        \n 53  TradeGroupName                175367 non-null  object        \n 54  ParentSceneUid                174306 non-null  object        \ndtypes: datetime64[ns](3), float64(5), int64(10), object(37)\nmemory usage: 73.6+ MB\n"
     ]
    }
   ],
   "source": [
    "df.info()"
   ]
  },
  {
   "cell_type": "code",
   "execution_count": 135,
   "metadata": {},
   "outputs": [
    {
     "output_type": "stream",
     "name": "stdout",
     "text": [
      "<class 'pandas.core.frame.DataFrame'>\nRangeIndex: 175367 entries, 0 to 175366\nData columns (total 56 columns):\n #   Column                        Non-Null Count   Dtype         \n---  ------                        --------------   -----         \n 0   store_id                      175367 non-null  object        \n 1   user_id                       175367 non-null  int64         \n 2   date_id                       175367 non-null  int64         \n 3   establishment_type            175367 non-null  object        \n 4   establishment_size            175367 non-null  object        \n 5   first_position_points         175367 non-null  float64       \n 6   first_position_objetives      175367 non-null  float64       \n 7   first_position_cooler_coca    175367 non-null  float64       \n 8   first_position_complishment   175367 non-null  float64       \n 9   is_reported                   175367 non-null  int64         \n 10  ice_points                    175367 non-null  float64       \n 11  LocationId                    175367 non-null  int64         \n 12  year                          175367 non-null  int64         \n 13  month                         175367 non-null  int64         \n 14  day                           175367 non-null  int64         \n 15  Question                      175367 non-null  object        \n 16  Response                      175367 non-null  object        \n 17  AssetPurityId                 175367 non-null  int64         \n 18  UserName                      175367 non-null  object        \n 19  OutletCode                    175367 non-null  object        \n 20  Outlet                        175367 non-null  object        \n 21  ImageCaptureTime              175367 non-null  datetime64[ns]\n 22  SubSceneType                  175367 non-null  object        \n 23  Scene                         175367 non-null  object        \n 24  Status                        175367 non-null  object        \n 25  SubStatus                     174428 non-null  object        \n 26  ClientCode                    175367 non-null  object        \n 27  SubClient                     175367 non-null  object        \n 28  State                         174884 non-null  object        \n 29  Country                       175367 non-null  object        \n 30  ImageCount                    175367 non-null  int64         \n 31  SessionUid                    175367 non-null  object        \n 32  SceneUId                      175367 non-null  object        \n 33  SceneId                       175367 non-null  object        \n 34  PhotoUrl                      175367 non-null  object        \n 35  VisitStartDate                175367 non-null  object        \n 36  VisitStartDateTime            175367 non-null  datetime64[ns]\n 37  VisitEndDateTime              175367 non-null  datetime64[ns]\n 38  LocationId                    175367 non-null  int64         \n 39  PrimaryEmail                  174306 non-null  object        \n 40  UserRole                      175367 non-null  object        \n 41  LocationClusterName           175367 non-null  object        \n 42  LocationLocalSubTradeChannel  175289 non-null  object        \n 43  LocationSegmentName           175367 non-null  object        \n 44  VisitStatus                   175367 non-null  object        \n 45  SurveyCancelCallReason        174306 non-null  object        \n 46  IsQAEnvironment               0 non-null       object        \n 47  SalesOfficeCode               175367 non-null  object        \n 48  SalesOfficeName               175367 non-null  object        \n 49  IdVisita                      123221 non-null  object        \n 50  SalesGroupCode                175367 non-null  object        \n 51  SalesGroupName                175367 non-null  object        \n 52  TradeGroupCode                175367 non-null  object        \n 53  TradeGroupName                175367 non-null  object        \n 54  ParentSceneUid                174306 non-null  object        \n 55  date_format                   175367 non-null  datetime64[ns]\ndtypes: datetime64[ns](4), float64(5), int64(10), object(37)\nmemory usage: 74.9+ MB\n"
     ]
    }
   ],
   "source": [
    "df['date_format']=pd.to_datetime(df[['year','month','day']])\n",
    "df.info()"
   ]
  },
  {
   "cell_type": "code",
   "execution_count": 136,
   "metadata": {},
   "outputs": [
    {
     "output_type": "execute_result",
     "data": {
      "text/plain": [
       "125335"
      ]
     },
     "metadata": {},
     "execution_count": 136
    }
   ],
   "source": [
    "df.duplicated(subset='SessionUid', keep='first').sum()"
   ]
  },
  {
   "cell_type": "code",
   "execution_count": 137,
   "metadata": {},
   "outputs": [
    {
     "output_type": "stream",
     "name": "stdout",
     "text": [
      "<class 'pandas.core.frame.DataFrame'>\nInt64Index: 50032 entries, 0 to 175361\nData columns (total 56 columns):\n #   Column                        Non-Null Count  Dtype         \n---  ------                        --------------  -----         \n 0   store_id                      50032 non-null  object        \n 1   user_id                       50032 non-null  int64         \n 2   date_id                       50032 non-null  int64         \n 3   establishment_type            50032 non-null  object        \n 4   establishment_size            50032 non-null  object        \n 5   first_position_points         50032 non-null  float64       \n 6   first_position_objetives      50032 non-null  float64       \n 7   first_position_cooler_coca    50032 non-null  float64       \n 8   first_position_complishment   50032 non-null  float64       \n 9   is_reported                   50032 non-null  int64         \n 10  ice_points                    50032 non-null  float64       \n 11  LocationId                    50032 non-null  int64         \n 12  year                          50032 non-null  int64         \n 13  month                         50032 non-null  int64         \n 14  day                           50032 non-null  int64         \n 15  Question                      50032 non-null  object        \n 16  Response                      50032 non-null  object        \n 17  AssetPurityId                 50032 non-null  int64         \n 18  UserName                      50032 non-null  object        \n 19  OutletCode                    50032 non-null  object        \n 20  Outlet                        50032 non-null  object        \n 21  ImageCaptureTime              50032 non-null  datetime64[ns]\n 22  SubSceneType                  50032 non-null  object        \n 23  Scene                         50032 non-null  object        \n 24  Status                        50032 non-null  object        \n 25  SubStatus                     49782 non-null  object        \n 26  ClientCode                    50032 non-null  object        \n 27  SubClient                     50032 non-null  object        \n 28  State                         49907 non-null  object        \n 29  Country                       50032 non-null  object        \n 30  ImageCount                    50032 non-null  int64         \n 31  SessionUid                    50032 non-null  object        \n 32  SceneUId                      50032 non-null  object        \n 33  SceneId                       50032 non-null  object        \n 34  PhotoUrl                      50032 non-null  object        \n 35  VisitStartDate                50032 non-null  object        \n 36  VisitStartDateTime            50032 non-null  datetime64[ns]\n 37  VisitEndDateTime              50032 non-null  datetime64[ns]\n 38  LocationId                    50032 non-null  int64         \n 39  PrimaryEmail                  49748 non-null  object        \n 40  UserRole                      50032 non-null  object        \n 41  LocationClusterName           50032 non-null  object        \n 42  LocationLocalSubTradeChannel  50001 non-null  object        \n 43  LocationSegmentName           50032 non-null  object        \n 44  VisitStatus                   50032 non-null  object        \n 45  SurveyCancelCallReason        49748 non-null  object        \n 46  IsQAEnvironment               0 non-null      object        \n 47  SalesOfficeCode               50032 non-null  object        \n 48  SalesOfficeName               50032 non-null  object        \n 49  IdVisita                      32142 non-null  object        \n 50  SalesGroupCode                50032 non-null  object        \n 51  SalesGroupName                50032 non-null  object        \n 52  TradeGroupCode                50032 non-null  object        \n 53  TradeGroupName                50032 non-null  object        \n 54  ParentSceneUid                49748 non-null  object        \n 55  date_format                   50032 non-null  datetime64[ns]\ndtypes: datetime64[ns](4), float64(5), int64(10), object(37)\nmemory usage: 21.8+ MB\n"
     ]
    }
   ],
   "source": [
    "df=df.drop_duplicates(subset=['SessionUid'])\n",
    "df.info()"
   ]
  },
  {
   "cell_type": "code",
   "execution_count": 25,
   "metadata": {},
   "outputs": [],
   "source": [
    "#df_cc=df.loc[df['SubSceneType'] == 'Enfriador Detallista']\n",
    "#df_cc.info()"
   ]
  },
  {
   "cell_type": "code",
   "execution_count": 138,
   "metadata": {},
   "outputs": [
    {
     "output_type": "stream",
     "name": "stderr",
     "text": [
      "<ipython-input-138-acda2fdef5bb>:1: SettingWithCopyWarning: \n",
      "A value is trying to be set on a copy of a slice from a DataFrame.\n",
      "Try using .loc[row_indexer,col_indexer] = value instead\n",
      "\n",
      "See the caveats in the documentation: https://pandas.pydata.org/pandas-docs/stable/user_guide/indexing.html#returning-a-view-versus-a-copy\n",
      "  df['first_position_cooler_coca'] = df['first_position_cooler_coca'].astype(int)\n",
      "<ipython-input-138-acda2fdef5bb>:2: SettingWithCopyWarning: \n",
      "A value is trying to be set on a copy of a slice from a DataFrame.\n",
      "Try using .loc[row_indexer,col_indexer] = value instead\n",
      "\n",
      "See the caveats in the documentation: https://pandas.pydata.org/pandas-docs/stable/user_guide/indexing.html#returning-a-view-versus-a-copy\n",
      "  df['first_position_complishment'] = df['first_position_complishment'].astype(int)\n",
      "<class 'pandas.core.frame.DataFrame'>\n",
      "Int64Index: 50032 entries, 0 to 175361\n",
      "Data columns (total 56 columns):\n",
      " #   Column                        Non-Null Count  Dtype         \n",
      "---  ------                        --------------  -----         \n",
      " 0   store_id                      50032 non-null  object        \n",
      " 1   user_id                       50032 non-null  int64         \n",
      " 2   date_id                       50032 non-null  int64         \n",
      " 3   establishment_type            50032 non-null  object        \n",
      " 4   establishment_size            50032 non-null  object        \n",
      " 5   first_position_points         50032 non-null  float64       \n",
      " 6   first_position_objetives      50032 non-null  float64       \n",
      " 7   first_position_cooler_coca    50032 non-null  int32         \n",
      " 8   first_position_complishment   50032 non-null  int32         \n",
      " 9   is_reported                   50032 non-null  int64         \n",
      " 10  ice_points                    50032 non-null  float64       \n",
      " 11  LocationId                    50032 non-null  int64         \n",
      " 12  year                          50032 non-null  int64         \n",
      " 13  month                         50032 non-null  int64         \n",
      " 14  day                           50032 non-null  int64         \n",
      " 15  Question                      50032 non-null  object        \n",
      " 16  Response                      50032 non-null  object        \n",
      " 17  AssetPurityId                 50032 non-null  int64         \n",
      " 18  UserName                      50032 non-null  object        \n",
      " 19  OutletCode                    50032 non-null  object        \n",
      " 20  Outlet                        50032 non-null  object        \n",
      " 21  ImageCaptureTime              50032 non-null  datetime64[ns]\n",
      " 22  SubSceneType                  50032 non-null  object        \n",
      " 23  Scene                         50032 non-null  object        \n",
      " 24  Status                        50032 non-null  object        \n",
      " 25  SubStatus                     49782 non-null  object        \n",
      " 26  ClientCode                    50032 non-null  object        \n",
      " 27  SubClient                     50032 non-null  object        \n",
      " 28  State                         49907 non-null  object        \n",
      " 29  Country                       50032 non-null  object        \n",
      " 30  ImageCount                    50032 non-null  int64         \n",
      " 31  SessionUid                    50032 non-null  object        \n",
      " 32  SceneUId                      50032 non-null  object        \n",
      " 33  SceneId                       50032 non-null  object        \n",
      " 34  PhotoUrl                      50032 non-null  object        \n",
      " 35  VisitStartDate                50032 non-null  object        \n",
      " 36  VisitStartDateTime            50032 non-null  datetime64[ns]\n",
      " 37  VisitEndDateTime              50032 non-null  datetime64[ns]\n",
      " 38  LocationId                    50032 non-null  int64         \n",
      " 39  PrimaryEmail                  49748 non-null  object        \n",
      " 40  UserRole                      50032 non-null  object        \n",
      " 41  LocationClusterName           50032 non-null  object        \n",
      " 42  LocationLocalSubTradeChannel  50001 non-null  object        \n",
      " 43  LocationSegmentName           50032 non-null  object        \n",
      " 44  VisitStatus                   50032 non-null  object        \n",
      " 45  SurveyCancelCallReason        49748 non-null  object        \n",
      " 46  IsQAEnvironment               0 non-null      object        \n",
      " 47  SalesOfficeCode               50032 non-null  object        \n",
      " 48  SalesOfficeName               50032 non-null  object        \n",
      " 49  IdVisita                      32142 non-null  object        \n",
      " 50  SalesGroupCode                50032 non-null  object        \n",
      " 51  SalesGroupName                50032 non-null  object        \n",
      " 52  TradeGroupCode                50032 non-null  object        \n",
      " 53  TradeGroupName                50032 non-null  object        \n",
      " 54  ParentSceneUid                49748 non-null  object        \n",
      " 55  date_format                   50032 non-null  datetime64[ns]\n",
      "dtypes: datetime64[ns](4), float64(3), int32(2), int64(10), object(37)\n",
      "memory usage: 21.4+ MB\n"
     ]
    }
   ],
   "source": [
    "df['first_position_cooler_coca'] = df['first_position_cooler_coca'].astype(int)\n",
    "df['first_position_complishment'] = df['first_position_complishment'].astype(int)\n",
    "df.info()"
   ]
  },
  {
   "cell_type": "code",
   "execution_count": 139,
   "metadata": {},
   "outputs": [
    {
     "output_type": "stream",
     "name": "stdout",
     "text": [
      "<class 'pandas.core.frame.DataFrame'>\nInt64Index: 50032 entries, 0 to 175361\nData columns (total 55 columns):\n #   Column                        Non-Null Count  Dtype         \n---  ------                        --------------  -----         \n 0   store_id                      50032 non-null  object        \n 1   user_id                       50032 non-null  int64         \n 2   date_id                       50032 non-null  int64         \n 3   establishment_type            50032 non-null  object        \n 4   establishment_size            50032 non-null  object        \n 5   first_position_points         50032 non-null  float64       \n 6   first_position_objetives      50032 non-null  float64       \n 7   first_position_cooler_coca    50032 non-null  int32         \n 8   first_position_complishment   50032 non-null  int32         \n 9   is_reported                   50032 non-null  int64         \n 10  ice_points                    50032 non-null  float64       \n 11  LocationId                    50032 non-null  int64         \n 12  year                          50032 non-null  int64         \n 13  month                         50032 non-null  int64         \n 14  day                           50032 non-null  int64         \n 15  Question                      50032 non-null  object        \n 16  Response                      50032 non-null  object        \n 17  AssetPurityId                 50032 non-null  int64         \n 18  UserName                      50032 non-null  object        \n 19  OutletCode                    50032 non-null  object        \n 20  Outlet                        50032 non-null  object        \n 21  ImageCaptureTime              50032 non-null  datetime64[ns]\n 22  SubSceneType                  50032 non-null  object        \n 23  Scene                         50032 non-null  object        \n 24  Status                        50032 non-null  object        \n 25  SubStatus                     49782 non-null  object        \n 26  ClientCode                    50032 non-null  object        \n 27  SubClient                     50032 non-null  object        \n 28  State                         49907 non-null  object        \n 29  Country                       50032 non-null  object        \n 30  ImageCount                    50032 non-null  int64         \n 31  SessionUid                    50032 non-null  object        \n 32  SceneUId                      50032 non-null  object        \n 33  SceneId                       50032 non-null  object        \n 34  PhotoUrl                      50032 non-null  object        \n 35  VisitStartDate                50032 non-null  object        \n 36  VisitStartDateTime            50032 non-null  datetime64[ns]\n 37  VisitEndDateTime              50032 non-null  datetime64[ns]\n 38  LocationId                    50032 non-null  int64         \n 39  PrimaryEmail                  49748 non-null  object        \n 40  UserRole                      50032 non-null  object        \n 41  LocationClusterName           50032 non-null  object        \n 42  LocationLocalSubTradeChannel  50001 non-null  object        \n 43  LocationSegmentName           50032 non-null  object        \n 44  VisitStatus                   50032 non-null  object        \n 45  SurveyCancelCallReason        49748 non-null  object        \n 46  SalesOfficeCode               50032 non-null  object        \n 47  SalesOfficeName               50032 non-null  object        \n 48  IdVisita                      32142 non-null  object        \n 49  SalesGroupCode                50032 non-null  object        \n 50  SalesGroupName                50032 non-null  object        \n 51  TradeGroupCode                50032 non-null  object        \n 52  TradeGroupName                50032 non-null  object        \n 53  ParentSceneUid                49748 non-null  object        \n 54  date_format                   50032 non-null  datetime64[ns]\ndtypes: datetime64[ns](4), float64(3), int32(2), int64(10), object(36)\nmemory usage: 21.0+ MB\n"
     ]
    }
   ],
   "source": [
    "df=df.drop(columns=['IsQAEnvironment'])\n",
    "df.info()"
   ]
  },
  {
   "cell_type": "code",
   "execution_count": 144,
   "metadata": {},
   "outputs": [
    {
     "output_type": "execute_result",
     "data": {
      "text/plain": [
       "                                                                                                                                                                         first_position_complishment  \\\n",
       "SubSceneType                                                                                                                                                                     Enfriador Coca-Cola   \n",
       "UserName                OutletCode user_id date_id  is_reported date_format month day Question                  Response            SessionUid                                                         \n",
       "acambaro@storecheck.com 1601006979 45806   20210119 1           2021-01-19  1     19  Tipo Enfriador Detallista Vitrina\u0014            3f5f3a80-dff7-4c99-adee-c63d40b0bc48                           1   \n",
       "                        1601007959 45806   20210119 1           2021-01-19  1     19  Tipo Enfriador Detallista Vitrina\u0014            26580785-1a49-4a1f-b976-ce46c4975293                           1   \n",
       "                        1601011944 45806   20210121 1           2021-01-21  1     21  Tipo Enfriador Detallista Vitrina\u0014            6e95d49d-1298-44c1-a677-943a5bd231b7                           0   \n",
       "                                           20210223 1           2021-02-23  2     23  Tipo Enfriador Detallista Vitrina\u0014            2cd5f926-0e77-42ce-847f-475e74315e68                           0   \n",
       "                                           20210325 1           2021-03-25  3     25  Tipo Enfriador Detallista Vitrina\u0014            003ac733-f475-4b08-bd66-741e3e33bc1a                           0   \n",
       "...                                                                                                                                                                                              ...   \n",
       "zamora@storecheck.com   620150075  45818   20210604 1           2021-06-04  6     4   Tipo Enfriador Detallista Enfriador Vertical\u0014 5fe143f1-1613-43ee-8514-d7e66a48a0c3                           1   \n",
       "                        620161330  45818   20210219 1           2021-02-19  2     19  Tipo Enfriador Detallista Enfriador Vertical\u0014 225d786c-a7de-4a13-a116-9e8f62fe7925                           1   \n",
       "                                           20210319 1           2021-03-19  3     19  Tipo Enfriador Detallista Enfriador Vertical\u0014 35ea8575-e115-42eb-82a3-01edd0308a79                           1   \n",
       "                                           20210513 1           2021-05-13  5     13  Tipo Enfriador Detallista Enfriador Vertical\u0014 a29b1b45-d4d3-4add-b890-daaaaabb42f4                           1   \n",
       "                                           20210609 1           2021-06-09  6     9   Tipo Enfriador Detallista Enfriador Vertical\u0014 ad151b20-d39b-4fb8-a217-421e97536e9a                           1   \n",
       "\n",
       "                                                                                                                                                                                               \n",
       "SubSceneType                                                                                                                                                             Enfriador Detallista  \n",
       "UserName                OutletCode user_id date_id  is_reported date_format month day Question                  Response            SessionUid                                                 \n",
       "acambaro@storecheck.com 1601006979 45806   20210119 1           2021-01-19  1     19  Tipo Enfriador Detallista Vitrina\u0014            3f5f3a80-dff7-4c99-adee-c63d40b0bc48                    0  \n",
       "                        1601007959 45806   20210119 1           2021-01-19  1     19  Tipo Enfriador Detallista Vitrina\u0014            26580785-1a49-4a1f-b976-ce46c4975293                    0  \n",
       "                        1601011944 45806   20210121 1           2021-01-21  1     21  Tipo Enfriador Detallista Vitrina\u0014            6e95d49d-1298-44c1-a677-943a5bd231b7                    1  \n",
       "                                           20210223 1           2021-02-23  2     23  Tipo Enfriador Detallista Vitrina\u0014            2cd5f926-0e77-42ce-847f-475e74315e68                    1  \n",
       "                                           20210325 1           2021-03-25  3     25  Tipo Enfriador Detallista Vitrina\u0014            003ac733-f475-4b08-bd66-741e3e33bc1a                    1  \n",
       "...                                                                                                                                                                                       ...  \n",
       "zamora@storecheck.com   620150075  45818   20210604 1           2021-06-04  6     4   Tipo Enfriador Detallista Enfriador Vertical\u0014 5fe143f1-1613-43ee-8514-d7e66a48a0c3                    0  \n",
       "                        620161330  45818   20210219 1           2021-02-19  2     19  Tipo Enfriador Detallista Enfriador Vertical\u0014 225d786c-a7de-4a13-a116-9e8f62fe7925                    0  \n",
       "                                           20210319 1           2021-03-19  3     19  Tipo Enfriador Detallista Enfriador Vertical\u0014 35ea8575-e115-42eb-82a3-01edd0308a79                    0  \n",
       "                                           20210513 1           2021-05-13  5     13  Tipo Enfriador Detallista Enfriador Vertical\u0014 a29b1b45-d4d3-4add-b890-daaaaabb42f4                    0  \n",
       "                                           20210609 1           2021-06-09  6     9   Tipo Enfriador Detallista Enfriador Vertical\u0014 ad151b20-d39b-4fb8-a217-421e97536e9a                    0  \n",
       "\n",
       "[50032 rows x 2 columns]"
      ],
      "text/html": "<div>\n<style scoped>\n    .dataframe tbody tr th:only-of-type {\n        vertical-align: middle;\n    }\n\n    .dataframe tbody tr th {\n        vertical-align: top;\n    }\n\n    .dataframe thead tr th {\n        text-align: left;\n    }\n\n    .dataframe thead tr:last-of-type th {\n        text-align: right;\n    }\n</style>\n<table border=\"1\" class=\"dataframe\">\n  <thead>\n    <tr>\n      <th></th>\n      <th></th>\n      <th></th>\n      <th></th>\n      <th></th>\n      <th></th>\n      <th></th>\n      <th></th>\n      <th></th>\n      <th></th>\n      <th></th>\n      <th colspan=\"2\" halign=\"left\">first_position_complishment</th>\n    </tr>\n    <tr>\n      <th></th>\n      <th></th>\n      <th></th>\n      <th></th>\n      <th></th>\n      <th></th>\n      <th></th>\n      <th></th>\n      <th></th>\n      <th></th>\n      <th>SubSceneType</th>\n      <th>Enfriador Coca-Cola</th>\n      <th>Enfriador Detallista</th>\n    </tr>\n    <tr>\n      <th>UserName</th>\n      <th>OutletCode</th>\n      <th>user_id</th>\n      <th>date_id</th>\n      <th>is_reported</th>\n      <th>date_format</th>\n      <th>month</th>\n      <th>day</th>\n      <th>Question</th>\n      <th>Response</th>\n      <th>SessionUid</th>\n      <th></th>\n      <th></th>\n    </tr>\n  </thead>\n  <tbody>\n    <tr>\n      <th rowspan=\"5\" valign=\"top\">acambaro@storecheck.com</th>\n      <th>1601006979</th>\n      <th>45806</th>\n      <th>20210119</th>\n      <th>1</th>\n      <th>2021-01-19</th>\n      <th>1</th>\n      <th>19</th>\n      <th>Tipo Enfriador Detallista</th>\n      <th>Vitrina\u0014</th>\n      <th>3f5f3a80-dff7-4c99-adee-c63d40b0bc48</th>\n      <td>1</td>\n      <td>0</td>\n    </tr>\n    <tr>\n      <th>1601007959</th>\n      <th>45806</th>\n      <th>20210119</th>\n      <th>1</th>\n      <th>2021-01-19</th>\n      <th>1</th>\n      <th>19</th>\n      <th>Tipo Enfriador Detallista</th>\n      <th>Vitrina\u0014</th>\n      <th>26580785-1a49-4a1f-b976-ce46c4975293</th>\n      <td>1</td>\n      <td>0</td>\n    </tr>\n    <tr>\n      <th rowspan=\"3\" valign=\"top\">1601011944</th>\n      <th rowspan=\"3\" valign=\"top\">45806</th>\n      <th>20210121</th>\n      <th>1</th>\n      <th>2021-01-21</th>\n      <th>1</th>\n      <th>21</th>\n      <th>Tipo Enfriador Detallista</th>\n      <th>Vitrina\u0014</th>\n      <th>6e95d49d-1298-44c1-a677-943a5bd231b7</th>\n      <td>0</td>\n      <td>1</td>\n    </tr>\n    <tr>\n      <th>20210223</th>\n      <th>1</th>\n      <th>2021-02-23</th>\n      <th>2</th>\n      <th>23</th>\n      <th>Tipo Enfriador Detallista</th>\n      <th>Vitrina\u0014</th>\n      <th>2cd5f926-0e77-42ce-847f-475e74315e68</th>\n      <td>0</td>\n      <td>1</td>\n    </tr>\n    <tr>\n      <th>20210325</th>\n      <th>1</th>\n      <th>2021-03-25</th>\n      <th>3</th>\n      <th>25</th>\n      <th>Tipo Enfriador Detallista</th>\n      <th>Vitrina\u0014</th>\n      <th>003ac733-f475-4b08-bd66-741e3e33bc1a</th>\n      <td>0</td>\n      <td>1</td>\n    </tr>\n    <tr>\n      <th>...</th>\n      <th>...</th>\n      <th>...</th>\n      <th>...</th>\n      <th>...</th>\n      <th>...</th>\n      <th>...</th>\n      <th>...</th>\n      <th>...</th>\n      <th>...</th>\n      <th>...</th>\n      <td>...</td>\n      <td>...</td>\n    </tr>\n    <tr>\n      <th rowspan=\"5\" valign=\"top\">zamora@storecheck.com</th>\n      <th>620150075</th>\n      <th>45818</th>\n      <th>20210604</th>\n      <th>1</th>\n      <th>2021-06-04</th>\n      <th>6</th>\n      <th>4</th>\n      <th>Tipo Enfriador Detallista</th>\n      <th>Enfriador Vertical\u0014</th>\n      <th>5fe143f1-1613-43ee-8514-d7e66a48a0c3</th>\n      <td>1</td>\n      <td>0</td>\n    </tr>\n    <tr>\n      <th rowspan=\"4\" valign=\"top\">620161330</th>\n      <th rowspan=\"4\" valign=\"top\">45818</th>\n      <th>20210219</th>\n      <th>1</th>\n      <th>2021-02-19</th>\n      <th>2</th>\n      <th>19</th>\n      <th>Tipo Enfriador Detallista</th>\n      <th>Enfriador Vertical\u0014</th>\n      <th>225d786c-a7de-4a13-a116-9e8f62fe7925</th>\n      <td>1</td>\n      <td>0</td>\n    </tr>\n    <tr>\n      <th>20210319</th>\n      <th>1</th>\n      <th>2021-03-19</th>\n      <th>3</th>\n      <th>19</th>\n      <th>Tipo Enfriador Detallista</th>\n      <th>Enfriador Vertical\u0014</th>\n      <th>35ea8575-e115-42eb-82a3-01edd0308a79</th>\n      <td>1</td>\n      <td>0</td>\n    </tr>\n    <tr>\n      <th>20210513</th>\n      <th>1</th>\n      <th>2021-05-13</th>\n      <th>5</th>\n      <th>13</th>\n      <th>Tipo Enfriador Detallista</th>\n      <th>Enfriador Vertical\u0014</th>\n      <th>a29b1b45-d4d3-4add-b890-daaaaabb42f4</th>\n      <td>1</td>\n      <td>0</td>\n    </tr>\n    <tr>\n      <th>20210609</th>\n      <th>1</th>\n      <th>2021-06-09</th>\n      <th>6</th>\n      <th>9</th>\n      <th>Tipo Enfriador Detallista</th>\n      <th>Enfriador Vertical\u0014</th>\n      <th>ad151b20-d39b-4fb8-a217-421e97536e9a</th>\n      <td>1</td>\n      <td>0</td>\n    </tr>\n  </tbody>\n</table>\n<p>50032 rows × 2 columns</p>\n</div>"
     },
     "metadata": {},
     "execution_count": 144
    }
   ],
   "source": [
    "table = pd.pivot_table(df, values=['first_position_complishment'], index=['UserName', 'OutletCode', 'user_id', 'date_id', 'is_reported', 'date_format', 'month', 'day', 'Question', 'Response', 'SessionUid'], columns=['SubSceneType'], aggfunc={'first_position_complishment':len},\n",
    "                     fill_value=0)\n",
    "table=pd.DataFrame(table)\n",
    "table"
   ]
  },
  {
   "cell_type": "code",
   "execution_count": 145,
   "metadata": {},
   "outputs": [
    {
     "output_type": "execute_result",
     "data": {
      "text/plain": [
       "                             UserName  OutletCode user_id   date_id  \\\n",
       "SubSceneType                                                          \n",
       "0             acambaro@storecheck.com  1601006979   45806  20210119   \n",
       "1             acambaro@storecheck.com  1601007959   45806  20210119   \n",
       "2             acambaro@storecheck.com  1601011944   45806  20210121   \n",
       "3             acambaro@storecheck.com  1601011944   45806  20210223   \n",
       "4             acambaro@storecheck.com  1601011944   45806  20210325   \n",
       "...                               ...         ...     ...       ...   \n",
       "50027           zamora@storecheck.com   620150075   45818  20210604   \n",
       "50028           zamora@storecheck.com   620161330   45818  20210219   \n",
       "50029           zamora@storecheck.com   620161330   45818  20210319   \n",
       "50030           zamora@storecheck.com   620161330   45818  20210513   \n",
       "50031           zamora@storecheck.com   620161330   45818  20210609   \n",
       "\n",
       "             is_reported date_format month day                   Question  \\\n",
       "SubSceneType                                                                \n",
       "0                      1  2021-01-19     1  19  Tipo Enfriador Detallista   \n",
       "1                      1  2021-01-19     1  19  Tipo Enfriador Detallista   \n",
       "2                      1  2021-01-21     1  21  Tipo Enfriador Detallista   \n",
       "3                      1  2021-02-23     2  23  Tipo Enfriador Detallista   \n",
       "4                      1  2021-03-25     3  25  Tipo Enfriador Detallista   \n",
       "...                  ...         ...   ...  ..                        ...   \n",
       "50027                  1  2021-06-04     6   4  Tipo Enfriador Detallista   \n",
       "50028                  1  2021-02-19     2  19  Tipo Enfriador Detallista   \n",
       "50029                  1  2021-03-19     3  19  Tipo Enfriador Detallista   \n",
       "50030                  1  2021-05-13     5  13  Tipo Enfriador Detallista   \n",
       "50031                  1  2021-06-09     6   9  Tipo Enfriador Detallista   \n",
       "\n",
       "                         Response                            SessionUid  \\\n",
       "SubSceneType                                                              \n",
       "0                        Vitrina\u0014  3f5f3a80-dff7-4c99-adee-c63d40b0bc48   \n",
       "1                        Vitrina\u0014  26580785-1a49-4a1f-b976-ce46c4975293   \n",
       "2                        Vitrina\u0014  6e95d49d-1298-44c1-a677-943a5bd231b7   \n",
       "3                        Vitrina\u0014  2cd5f926-0e77-42ce-847f-475e74315e68   \n",
       "4                        Vitrina\u0014  003ac733-f475-4b08-bd66-741e3e33bc1a   \n",
       "...                           ...                                   ...   \n",
       "50027         Enfriador Vertical\u0014  5fe143f1-1613-43ee-8514-d7e66a48a0c3   \n",
       "50028         Enfriador Vertical\u0014  225d786c-a7de-4a13-a116-9e8f62fe7925   \n",
       "50029         Enfriador Vertical\u0014  35ea8575-e115-42eb-82a3-01edd0308a79   \n",
       "50030         Enfriador Vertical\u0014  a29b1b45-d4d3-4add-b890-daaaaabb42f4   \n",
       "50031         Enfriador Vertical\u0014  ad151b20-d39b-4fb8-a217-421e97536e9a   \n",
       "\n",
       "             first_position_complishment                       \n",
       "SubSceneType         Enfriador Coca-Cola Enfriador Detallista  \n",
       "0                                      1                    0  \n",
       "1                                      1                    0  \n",
       "2                                      0                    1  \n",
       "3                                      0                    1  \n",
       "4                                      0                    1  \n",
       "...                                  ...                  ...  \n",
       "50027                                  1                    0  \n",
       "50028                                  1                    0  \n",
       "50029                                  1                    0  \n",
       "50030                                  1                    0  \n",
       "50031                                  1                    0  \n",
       "\n",
       "[50032 rows x 13 columns]"
      ],
      "text/html": "<div>\n<style scoped>\n    .dataframe tbody tr th:only-of-type {\n        vertical-align: middle;\n    }\n\n    .dataframe tbody tr th {\n        vertical-align: top;\n    }\n\n    .dataframe thead tr th {\n        text-align: left;\n    }\n</style>\n<table border=\"1\" class=\"dataframe\">\n  <thead>\n    <tr>\n      <th></th>\n      <th>UserName</th>\n      <th>OutletCode</th>\n      <th>user_id</th>\n      <th>date_id</th>\n      <th>is_reported</th>\n      <th>date_format</th>\n      <th>month</th>\n      <th>day</th>\n      <th>Question</th>\n      <th>Response</th>\n      <th>SessionUid</th>\n      <th colspan=\"2\" halign=\"left\">first_position_complishment</th>\n    </tr>\n    <tr>\n      <th>SubSceneType</th>\n      <th></th>\n      <th></th>\n      <th></th>\n      <th></th>\n      <th></th>\n      <th></th>\n      <th></th>\n      <th></th>\n      <th></th>\n      <th></th>\n      <th></th>\n      <th>Enfriador Coca-Cola</th>\n      <th>Enfriador Detallista</th>\n    </tr>\n  </thead>\n  <tbody>\n    <tr>\n      <th>0</th>\n      <td>acambaro@storecheck.com</td>\n      <td>1601006979</td>\n      <td>45806</td>\n      <td>20210119</td>\n      <td>1</td>\n      <td>2021-01-19</td>\n      <td>1</td>\n      <td>19</td>\n      <td>Tipo Enfriador Detallista</td>\n      <td>Vitrina\u0014</td>\n      <td>3f5f3a80-dff7-4c99-adee-c63d40b0bc48</td>\n      <td>1</td>\n      <td>0</td>\n    </tr>\n    <tr>\n      <th>1</th>\n      <td>acambaro@storecheck.com</td>\n      <td>1601007959</td>\n      <td>45806</td>\n      <td>20210119</td>\n      <td>1</td>\n      <td>2021-01-19</td>\n      <td>1</td>\n      <td>19</td>\n      <td>Tipo Enfriador Detallista</td>\n      <td>Vitrina\u0014</td>\n      <td>26580785-1a49-4a1f-b976-ce46c4975293</td>\n      <td>1</td>\n      <td>0</td>\n    </tr>\n    <tr>\n      <th>2</th>\n      <td>acambaro@storecheck.com</td>\n      <td>1601011944</td>\n      <td>45806</td>\n      <td>20210121</td>\n      <td>1</td>\n      <td>2021-01-21</td>\n      <td>1</td>\n      <td>21</td>\n      <td>Tipo Enfriador Detallista</td>\n      <td>Vitrina\u0014</td>\n      <td>6e95d49d-1298-44c1-a677-943a5bd231b7</td>\n      <td>0</td>\n      <td>1</td>\n    </tr>\n    <tr>\n      <th>3</th>\n      <td>acambaro@storecheck.com</td>\n      <td>1601011944</td>\n      <td>45806</td>\n      <td>20210223</td>\n      <td>1</td>\n      <td>2021-02-23</td>\n      <td>2</td>\n      <td>23</td>\n      <td>Tipo Enfriador Detallista</td>\n      <td>Vitrina\u0014</td>\n      <td>2cd5f926-0e77-42ce-847f-475e74315e68</td>\n      <td>0</td>\n      <td>1</td>\n    </tr>\n    <tr>\n      <th>4</th>\n      <td>acambaro@storecheck.com</td>\n      <td>1601011944</td>\n      <td>45806</td>\n      <td>20210325</td>\n      <td>1</td>\n      <td>2021-03-25</td>\n      <td>3</td>\n      <td>25</td>\n      <td>Tipo Enfriador Detallista</td>\n      <td>Vitrina\u0014</td>\n      <td>003ac733-f475-4b08-bd66-741e3e33bc1a</td>\n      <td>0</td>\n      <td>1</td>\n    </tr>\n    <tr>\n      <th>...</th>\n      <td>...</td>\n      <td>...</td>\n      <td>...</td>\n      <td>...</td>\n      <td>...</td>\n      <td>...</td>\n      <td>...</td>\n      <td>...</td>\n      <td>...</td>\n      <td>...</td>\n      <td>...</td>\n      <td>...</td>\n      <td>...</td>\n    </tr>\n    <tr>\n      <th>50027</th>\n      <td>zamora@storecheck.com</td>\n      <td>620150075</td>\n      <td>45818</td>\n      <td>20210604</td>\n      <td>1</td>\n      <td>2021-06-04</td>\n      <td>6</td>\n      <td>4</td>\n      <td>Tipo Enfriador Detallista</td>\n      <td>Enfriador Vertical\u0014</td>\n      <td>5fe143f1-1613-43ee-8514-d7e66a48a0c3</td>\n      <td>1</td>\n      <td>0</td>\n    </tr>\n    <tr>\n      <th>50028</th>\n      <td>zamora@storecheck.com</td>\n      <td>620161330</td>\n      <td>45818</td>\n      <td>20210219</td>\n      <td>1</td>\n      <td>2021-02-19</td>\n      <td>2</td>\n      <td>19</td>\n      <td>Tipo Enfriador Detallista</td>\n      <td>Enfriador Vertical\u0014</td>\n      <td>225d786c-a7de-4a13-a116-9e8f62fe7925</td>\n      <td>1</td>\n      <td>0</td>\n    </tr>\n    <tr>\n      <th>50029</th>\n      <td>zamora@storecheck.com</td>\n      <td>620161330</td>\n      <td>45818</td>\n      <td>20210319</td>\n      <td>1</td>\n      <td>2021-03-19</td>\n      <td>3</td>\n      <td>19</td>\n      <td>Tipo Enfriador Detallista</td>\n      <td>Enfriador Vertical\u0014</td>\n      <td>35ea8575-e115-42eb-82a3-01edd0308a79</td>\n      <td>1</td>\n      <td>0</td>\n    </tr>\n    <tr>\n      <th>50030</th>\n      <td>zamora@storecheck.com</td>\n      <td>620161330</td>\n      <td>45818</td>\n      <td>20210513</td>\n      <td>1</td>\n      <td>2021-05-13</td>\n      <td>5</td>\n      <td>13</td>\n      <td>Tipo Enfriador Detallista</td>\n      <td>Enfriador Vertical\u0014</td>\n      <td>a29b1b45-d4d3-4add-b890-daaaaabb42f4</td>\n      <td>1</td>\n      <td>0</td>\n    </tr>\n    <tr>\n      <th>50031</th>\n      <td>zamora@storecheck.com</td>\n      <td>620161330</td>\n      <td>45818</td>\n      <td>20210609</td>\n      <td>1</td>\n      <td>2021-06-09</td>\n      <td>6</td>\n      <td>9</td>\n      <td>Tipo Enfriador Detallista</td>\n      <td>Enfriador Vertical\u0014</td>\n      <td>ad151b20-d39b-4fb8-a217-421e97536e9a</td>\n      <td>1</td>\n      <td>0</td>\n    </tr>\n  </tbody>\n</table>\n<p>50032 rows × 13 columns</p>\n</div>"
     },
     "metadata": {},
     "execution_count": 145
    }
   ],
   "source": [
    "table = table.reset_index()\n",
    "table"
   ]
  },
  {
   "cell_type": "code",
   "execution_count": 146,
   "metadata": {},
   "outputs": [
    {
     "output_type": "execute_result",
     "data": {
      "text/plain": [
       "                             SubSceneType        \n",
       "UserName                                                     object\n",
       "OutletCode                                                   object\n",
       "user_id                                                       int64\n",
       "date_id                                                       int64\n",
       "is_reported                                                   int64\n",
       "date_format                                          datetime64[ns]\n",
       "month                                                         int64\n",
       "day                                                           int64\n",
       "Question                                                     object\n",
       "Response                                                     object\n",
       "SessionUid                                                   object\n",
       "first_position_complishment  Enfriador Coca-Cola              int64\n",
       "                             Enfriador Detallista             int64\n",
       "dtype: object"
      ]
     },
     "metadata": {},
     "execution_count": 146
    }
   ],
   "source": [
    "table.dtypes\n"
   ]
  },
  {
   "cell_type": "code",
   "execution_count": 147,
   "metadata": {},
   "outputs": [
    {
     "output_type": "execute_result",
     "data": {
      "text/plain": [
       "                             UserName  OutletCode user_id   date_id  \\\n",
       "SubSceneType                                                          \n",
       "0             acambaro@storecheck.com  1601006979   45806  20210119   \n",
       "1             acambaro@storecheck.com  1601007959   45806  20210119   \n",
       "2             acambaro@storecheck.com  1601011944   45806  20210121   \n",
       "3             acambaro@storecheck.com  1601011944   45806  20210223   \n",
       "4             acambaro@storecheck.com  1601011944   45806  20210325   \n",
       "...                               ...         ...     ...       ...   \n",
       "50027           zamora@storecheck.com   620150075   45818  20210604   \n",
       "50028           zamora@storecheck.com   620161330   45818  20210219   \n",
       "50029           zamora@storecheck.com   620161330   45818  20210319   \n",
       "50030           zamora@storecheck.com   620161330   45818  20210513   \n",
       "50031           zamora@storecheck.com   620161330   45818  20210609   \n",
       "\n",
       "             is_reported date_format month day                   Question  \\\n",
       "SubSceneType                                                                \n",
       "0                      1  2021-01-19     1  19  Tipo Enfriador Detallista   \n",
       "1                      1  2021-01-19     1  19  Tipo Enfriador Detallista   \n",
       "2                      1  2021-01-21     1  21  Tipo Enfriador Detallista   \n",
       "3                      1  2021-02-23     2  23  Tipo Enfriador Detallista   \n",
       "4                      1  2021-03-25     3  25  Tipo Enfriador Detallista   \n",
       "...                  ...         ...   ...  ..                        ...   \n",
       "50027                  1  2021-06-04     6   4  Tipo Enfriador Detallista   \n",
       "50028                  1  2021-02-19     2  19  Tipo Enfriador Detallista   \n",
       "50029                  1  2021-03-19     3  19  Tipo Enfriador Detallista   \n",
       "50030                  1  2021-05-13     5  13  Tipo Enfriador Detallista   \n",
       "50031                  1  2021-06-09     6   9  Tipo Enfriador Detallista   \n",
       "\n",
       "                         Response                            SessionUid  \\\n",
       "SubSceneType                                                              \n",
       "0                        Vitrina\u0014  3f5f3a80-dff7-4c99-adee-c63d40b0bc48   \n",
       "1                        Vitrina\u0014  26580785-1a49-4a1f-b976-ce46c4975293   \n",
       "2                        Vitrina\u0014  6e95d49d-1298-44c1-a677-943a5bd231b7   \n",
       "3                        Vitrina\u0014  2cd5f926-0e77-42ce-847f-475e74315e68   \n",
       "4                        Vitrina\u0014  003ac733-f475-4b08-bd66-741e3e33bc1a   \n",
       "...                           ...                                   ...   \n",
       "50027         Enfriador Vertical\u0014  5fe143f1-1613-43ee-8514-d7e66a48a0c3   \n",
       "50028         Enfriador Vertical\u0014  225d786c-a7de-4a13-a116-9e8f62fe7925   \n",
       "50029         Enfriador Vertical\u0014  35ea8575-e115-42eb-82a3-01edd0308a79   \n",
       "50030         Enfriador Vertical\u0014  a29b1b45-d4d3-4add-b890-daaaaabb42f4   \n",
       "50031         Enfriador Vertical\u0014  ad151b20-d39b-4fb8-a217-421e97536e9a   \n",
       "\n",
       "             first_position_complishment                       \n",
       "SubSceneType         Enfriador Coca-Cola Enfriador Detallista  \n",
       "0                                      1                    0  \n",
       "1                                      1                    0  \n",
       "2                                      0                    1  \n",
       "3                                      0                    1  \n",
       "4                                      0                    1  \n",
       "...                                  ...                  ...  \n",
       "50027                                  1                    0  \n",
       "50028                                  1                    0  \n",
       "50029                                  1                    0  \n",
       "50030                                  1                    0  \n",
       "50031                                  1                    0  \n",
       "\n",
       "[50032 rows x 13 columns]"
      ],
      "text/html": "<div>\n<style scoped>\n    .dataframe tbody tr th:only-of-type {\n        vertical-align: middle;\n    }\n\n    .dataframe tbody tr th {\n        vertical-align: top;\n    }\n\n    .dataframe thead tr th {\n        text-align: left;\n    }\n</style>\n<table border=\"1\" class=\"dataframe\">\n  <thead>\n    <tr>\n      <th></th>\n      <th>UserName</th>\n      <th>OutletCode</th>\n      <th>user_id</th>\n      <th>date_id</th>\n      <th>is_reported</th>\n      <th>date_format</th>\n      <th>month</th>\n      <th>day</th>\n      <th>Question</th>\n      <th>Response</th>\n      <th>SessionUid</th>\n      <th colspan=\"2\" halign=\"left\">first_position_complishment</th>\n    </tr>\n    <tr>\n      <th>SubSceneType</th>\n      <th></th>\n      <th></th>\n      <th></th>\n      <th></th>\n      <th></th>\n      <th></th>\n      <th></th>\n      <th></th>\n      <th></th>\n      <th></th>\n      <th></th>\n      <th>Enfriador Coca-Cola</th>\n      <th>Enfriador Detallista</th>\n    </tr>\n  </thead>\n  <tbody>\n    <tr>\n      <th>0</th>\n      <td>acambaro@storecheck.com</td>\n      <td>1601006979</td>\n      <td>45806</td>\n      <td>20210119</td>\n      <td>1</td>\n      <td>2021-01-19</td>\n      <td>1</td>\n      <td>19</td>\n      <td>Tipo Enfriador Detallista</td>\n      <td>Vitrina\u0014</td>\n      <td>3f5f3a80-dff7-4c99-adee-c63d40b0bc48</td>\n      <td>1</td>\n      <td>0</td>\n    </tr>\n    <tr>\n      <th>1</th>\n      <td>acambaro@storecheck.com</td>\n      <td>1601007959</td>\n      <td>45806</td>\n      <td>20210119</td>\n      <td>1</td>\n      <td>2021-01-19</td>\n      <td>1</td>\n      <td>19</td>\n      <td>Tipo Enfriador Detallista</td>\n      <td>Vitrina\u0014</td>\n      <td>26580785-1a49-4a1f-b976-ce46c4975293</td>\n      <td>1</td>\n      <td>0</td>\n    </tr>\n    <tr>\n      <th>2</th>\n      <td>acambaro@storecheck.com</td>\n      <td>1601011944</td>\n      <td>45806</td>\n      <td>20210121</td>\n      <td>1</td>\n      <td>2021-01-21</td>\n      <td>1</td>\n      <td>21</td>\n      <td>Tipo Enfriador Detallista</td>\n      <td>Vitrina\u0014</td>\n      <td>6e95d49d-1298-44c1-a677-943a5bd231b7</td>\n      <td>0</td>\n      <td>1</td>\n    </tr>\n    <tr>\n      <th>3</th>\n      <td>acambaro@storecheck.com</td>\n      <td>1601011944</td>\n      <td>45806</td>\n      <td>20210223</td>\n      <td>1</td>\n      <td>2021-02-23</td>\n      <td>2</td>\n      <td>23</td>\n      <td>Tipo Enfriador Detallista</td>\n      <td>Vitrina\u0014</td>\n      <td>2cd5f926-0e77-42ce-847f-475e74315e68</td>\n      <td>0</td>\n      <td>1</td>\n    </tr>\n    <tr>\n      <th>4</th>\n      <td>acambaro@storecheck.com</td>\n      <td>1601011944</td>\n      <td>45806</td>\n      <td>20210325</td>\n      <td>1</td>\n      <td>2021-03-25</td>\n      <td>3</td>\n      <td>25</td>\n      <td>Tipo Enfriador Detallista</td>\n      <td>Vitrina\u0014</td>\n      <td>003ac733-f475-4b08-bd66-741e3e33bc1a</td>\n      <td>0</td>\n      <td>1</td>\n    </tr>\n    <tr>\n      <th>...</th>\n      <td>...</td>\n      <td>...</td>\n      <td>...</td>\n      <td>...</td>\n      <td>...</td>\n      <td>...</td>\n      <td>...</td>\n      <td>...</td>\n      <td>...</td>\n      <td>...</td>\n      <td>...</td>\n      <td>...</td>\n      <td>...</td>\n    </tr>\n    <tr>\n      <th>50027</th>\n      <td>zamora@storecheck.com</td>\n      <td>620150075</td>\n      <td>45818</td>\n      <td>20210604</td>\n      <td>1</td>\n      <td>2021-06-04</td>\n      <td>6</td>\n      <td>4</td>\n      <td>Tipo Enfriador Detallista</td>\n      <td>Enfriador Vertical\u0014</td>\n      <td>5fe143f1-1613-43ee-8514-d7e66a48a0c3</td>\n      <td>1</td>\n      <td>0</td>\n    </tr>\n    <tr>\n      <th>50028</th>\n      <td>zamora@storecheck.com</td>\n      <td>620161330</td>\n      <td>45818</td>\n      <td>20210219</td>\n      <td>1</td>\n      <td>2021-02-19</td>\n      <td>2</td>\n      <td>19</td>\n      <td>Tipo Enfriador Detallista</td>\n      <td>Enfriador Vertical\u0014</td>\n      <td>225d786c-a7de-4a13-a116-9e8f62fe7925</td>\n      <td>1</td>\n      <td>0</td>\n    </tr>\n    <tr>\n      <th>50029</th>\n      <td>zamora@storecheck.com</td>\n      <td>620161330</td>\n      <td>45818</td>\n      <td>20210319</td>\n      <td>1</td>\n      <td>2021-03-19</td>\n      <td>3</td>\n      <td>19</td>\n      <td>Tipo Enfriador Detallista</td>\n      <td>Enfriador Vertical\u0014</td>\n      <td>35ea8575-e115-42eb-82a3-01edd0308a79</td>\n      <td>1</td>\n      <td>0</td>\n    </tr>\n    <tr>\n      <th>50030</th>\n      <td>zamora@storecheck.com</td>\n      <td>620161330</td>\n      <td>45818</td>\n      <td>20210513</td>\n      <td>1</td>\n      <td>2021-05-13</td>\n      <td>5</td>\n      <td>13</td>\n      <td>Tipo Enfriador Detallista</td>\n      <td>Enfriador Vertical\u0014</td>\n      <td>a29b1b45-d4d3-4add-b890-daaaaabb42f4</td>\n      <td>1</td>\n      <td>0</td>\n    </tr>\n    <tr>\n      <th>50031</th>\n      <td>zamora@storecheck.com</td>\n      <td>620161330</td>\n      <td>45818</td>\n      <td>20210609</td>\n      <td>1</td>\n      <td>2021-06-09</td>\n      <td>6</td>\n      <td>9</td>\n      <td>Tipo Enfriador Detallista</td>\n      <td>Enfriador Vertical\u0014</td>\n      <td>ad151b20-d39b-4fb8-a217-421e97536e9a</td>\n      <td>1</td>\n      <td>0</td>\n    </tr>\n  </tbody>\n</table>\n<p>50032 rows × 13 columns</p>\n</div>"
     },
     "metadata": {},
     "execution_count": 147
    }
   ],
   "source": [
    "df1 = pd.DataFrame(data=table)\n",
    "df1"
   ]
  },
  {
   "cell_type": "code",
   "execution_count": 149,
   "metadata": {},
   "outputs": [
    {
     "output_type": "execute_result",
     "data": {
      "text/plain": [
       "array([['acambaro@storecheck.com', '1601006979', 45806, ...,\n",
       "        '3f5f3a80-dff7-4c99-adee-c63d40b0bc48', 1, 0],\n",
       "       ['acambaro@storecheck.com', '1601007959', 45806, ...,\n",
       "        '26580785-1a49-4a1f-b976-ce46c4975293', 1, 0],\n",
       "       ['acambaro@storecheck.com', '1601011944', 45806, ...,\n",
       "        '6e95d49d-1298-44c1-a677-943a5bd231b7', 0, 1],\n",
       "       ...,\n",
       "       ['zamora@storecheck.com', '620161330', 45818, ...,\n",
       "        '35ea8575-e115-42eb-82a3-01edd0308a79', 1, 0],\n",
       "       ['zamora@storecheck.com', '620161330', 45818, ...,\n",
       "        'a29b1b45-d4d3-4add-b890-daaaaabb42f4', 1, 0],\n",
       "       ['zamora@storecheck.com', '620161330', 45818, ...,\n",
       "        'ad151b20-d39b-4fb8-a217-421e97536e9a', 1, 0]], dtype=object)"
      ]
     },
     "metadata": {},
     "execution_count": 149
    }
   ],
   "source": [
    "array_df=df1.values\n",
    "array_df"
   ]
  },
  {
   "cell_type": "code",
   "execution_count": 151,
   "metadata": {},
   "outputs": [
    {
     "output_type": "execute_result",
     "data": {
      "text/plain": [
       "                  UserName  OutletCode user_id   date_id is_reported  \\\n",
       "0  acambaro@storecheck.com  1601006979   45806  20210119           1   \n",
       "1  acambaro@storecheck.com  1601007959   45806  20210119           1   \n",
       "2  acambaro@storecheck.com  1601011944   45806  20210121           1   \n",
       "3  acambaro@storecheck.com  1601011944   45806  20210223           1   \n",
       "4  acambaro@storecheck.com  1601011944   45806  20210325           1   \n",
       "\n",
       "  date_format month day                   Question  Response  \\\n",
       "0  2021-01-19     1  19  Tipo Enfriador Detallista  Vitrina\u0014   \n",
       "1  2021-01-19     1  19  Tipo Enfriador Detallista  Vitrina\u0014   \n",
       "2  2021-01-21     1  21  Tipo Enfriador Detallista  Vitrina\u0014   \n",
       "3  2021-02-23     2  23  Tipo Enfriador Detallista  Vitrina\u0014   \n",
       "4  2021-03-25     3  25  Tipo Enfriador Detallista  Vitrina\u0014   \n",
       "\n",
       "                             SessionUid Enfriador Coca-Cola  \\\n",
       "0  3f5f3a80-dff7-4c99-adee-c63d40b0bc48                   1   \n",
       "1  26580785-1a49-4a1f-b976-ce46c4975293                   1   \n",
       "2  6e95d49d-1298-44c1-a677-943a5bd231b7                   0   \n",
       "3  2cd5f926-0e77-42ce-847f-475e74315e68                   0   \n",
       "4  003ac733-f475-4b08-bd66-741e3e33bc1a                   0   \n",
       "\n",
       "  Enfriador Detallista  \n",
       "0                    0  \n",
       "1                    0  \n",
       "2                    1  \n",
       "3                    1  \n",
       "4                    1  "
      ],
      "text/html": "<div>\n<style scoped>\n    .dataframe tbody tr th:only-of-type {\n        vertical-align: middle;\n    }\n\n    .dataframe tbody tr th {\n        vertical-align: top;\n    }\n\n    .dataframe thead th {\n        text-align: right;\n    }\n</style>\n<table border=\"1\" class=\"dataframe\">\n  <thead>\n    <tr style=\"text-align: right;\">\n      <th></th>\n      <th>UserName</th>\n      <th>OutletCode</th>\n      <th>user_id</th>\n      <th>date_id</th>\n      <th>is_reported</th>\n      <th>date_format</th>\n      <th>month</th>\n      <th>day</th>\n      <th>Question</th>\n      <th>Response</th>\n      <th>SessionUid</th>\n      <th>Enfriador Coca-Cola</th>\n      <th>Enfriador Detallista</th>\n    </tr>\n  </thead>\n  <tbody>\n    <tr>\n      <th>0</th>\n      <td>acambaro@storecheck.com</td>\n      <td>1601006979</td>\n      <td>45806</td>\n      <td>20210119</td>\n      <td>1</td>\n      <td>2021-01-19</td>\n      <td>1</td>\n      <td>19</td>\n      <td>Tipo Enfriador Detallista</td>\n      <td>Vitrina\u0014</td>\n      <td>3f5f3a80-dff7-4c99-adee-c63d40b0bc48</td>\n      <td>1</td>\n      <td>0</td>\n    </tr>\n    <tr>\n      <th>1</th>\n      <td>acambaro@storecheck.com</td>\n      <td>1601007959</td>\n      <td>45806</td>\n      <td>20210119</td>\n      <td>1</td>\n      <td>2021-01-19</td>\n      <td>1</td>\n      <td>19</td>\n      <td>Tipo Enfriador Detallista</td>\n      <td>Vitrina\u0014</td>\n      <td>26580785-1a49-4a1f-b976-ce46c4975293</td>\n      <td>1</td>\n      <td>0</td>\n    </tr>\n    <tr>\n      <th>2</th>\n      <td>acambaro@storecheck.com</td>\n      <td>1601011944</td>\n      <td>45806</td>\n      <td>20210121</td>\n      <td>1</td>\n      <td>2021-01-21</td>\n      <td>1</td>\n      <td>21</td>\n      <td>Tipo Enfriador Detallista</td>\n      <td>Vitrina\u0014</td>\n      <td>6e95d49d-1298-44c1-a677-943a5bd231b7</td>\n      <td>0</td>\n      <td>1</td>\n    </tr>\n    <tr>\n      <th>3</th>\n      <td>acambaro@storecheck.com</td>\n      <td>1601011944</td>\n      <td>45806</td>\n      <td>20210223</td>\n      <td>1</td>\n      <td>2021-02-23</td>\n      <td>2</td>\n      <td>23</td>\n      <td>Tipo Enfriador Detallista</td>\n      <td>Vitrina\u0014</td>\n      <td>2cd5f926-0e77-42ce-847f-475e74315e68</td>\n      <td>0</td>\n      <td>1</td>\n    </tr>\n    <tr>\n      <th>4</th>\n      <td>acambaro@storecheck.com</td>\n      <td>1601011944</td>\n      <td>45806</td>\n      <td>20210325</td>\n      <td>1</td>\n      <td>2021-03-25</td>\n      <td>3</td>\n      <td>25</td>\n      <td>Tipo Enfriador Detallista</td>\n      <td>Vitrina\u0014</td>\n      <td>003ac733-f475-4b08-bd66-741e3e33bc1a</td>\n      <td>0</td>\n      <td>1</td>\n    </tr>\n  </tbody>\n</table>\n</div>"
     },
     "metadata": {},
     "execution_count": 151
    }
   ],
   "source": [
    "df2 = pd.DataFrame(array_df, \n",
    "             columns=['UserName', 'OutletCode', 'user_id', 'date_id', 'is_reported', 'date_format', 'month', 'day', 'Question', 'Response', 'SessionUid', 'Enfriador Coca-Cola', 'Enfriador Detallista'])\n",
    "df2.head()"
   ]
  },
  {
   "cell_type": "code",
   "execution_count": 154,
   "metadata": {},
   "outputs": [
    {
     "output_type": "stream",
     "name": "stderr",
     "text": [
      "<ipython-input-154-0ebd22b5abac>:1: FutureWarning: Indexing with multiple keys (implicitly converted to a tuple of keys) will be deprecated, use a list instead.\n  ifi=df2.groupby(['UserName', 'OutletCode', 'user_id', 'date_id', 'is_reported', 'date_format', 'SessionUid', 'Question', 'Response', 'month', 'day'])['Enfriador Coca-Cola', 'Enfriador Detallista'].sum()\n"
     ]
    },
    {
     "output_type": "execute_result",
     "data": {
      "text/plain": [
       "                                                                                                                                                                          Enfriador Coca-Cola  \\\n",
       "UserName                OutletCode user_id date_id  is_reported date_format SessionUid                           Question                  Response            month day                        \n",
       "acambaro@storecheck.com 1601006979 45806   20210119 1           2021-01-19  3f5f3a80-dff7-4c99-adee-c63d40b0bc48 Tipo Enfriador Detallista Vitrina\u0014            1     19                     1   \n",
       "                        1601007959 45806   20210119 1           2021-01-19  26580785-1a49-4a1f-b976-ce46c4975293 Tipo Enfriador Detallista Vitrina\u0014            1     19                     1   \n",
       "                        1601011944 45806   20210121 1           2021-01-21  6e95d49d-1298-44c1-a677-943a5bd231b7 Tipo Enfriador Detallista Vitrina\u0014            1     21                     0   \n",
       "                                           20210223 1           2021-02-23  2cd5f926-0e77-42ce-847f-475e74315e68 Tipo Enfriador Detallista Vitrina\u0014            2     23                     0   \n",
       "                                           20210325 1           2021-03-25  003ac733-f475-4b08-bd66-741e3e33bc1a Tipo Enfriador Detallista Vitrina\u0014            3     25                     0   \n",
       "...                                                                                                                                                                                       ...   \n",
       "zamora@storecheck.com   620150075  45818   20210604 1           2021-06-04  5fe143f1-1613-43ee-8514-d7e66a48a0c3 Tipo Enfriador Detallista Enfriador Vertical\u0014 6     4                      1   \n",
       "                        620161330  45818   20210219 1           2021-02-19  225d786c-a7de-4a13-a116-9e8f62fe7925 Tipo Enfriador Detallista Enfriador Vertical\u0014 2     19                     1   \n",
       "                                           20210319 1           2021-03-19  35ea8575-e115-42eb-82a3-01edd0308a79 Tipo Enfriador Detallista Enfriador Vertical\u0014 3     19                     1   \n",
       "                                           20210513 1           2021-05-13  a29b1b45-d4d3-4add-b890-daaaaabb42f4 Tipo Enfriador Detallista Enfriador Vertical\u0014 5     13                     1   \n",
       "                                           20210609 1           2021-06-09  ad151b20-d39b-4fb8-a217-421e97536e9a Tipo Enfriador Detallista Enfriador Vertical\u0014 6     9                      1   \n",
       "\n",
       "                                                                                                                                                                          Enfriador Detallista  \n",
       "UserName                OutletCode user_id date_id  is_reported date_format SessionUid                           Question                  Response            month day                        \n",
       "acambaro@storecheck.com 1601006979 45806   20210119 1           2021-01-19  3f5f3a80-dff7-4c99-adee-c63d40b0bc48 Tipo Enfriador Detallista Vitrina\u0014            1     19                      0  \n",
       "                        1601007959 45806   20210119 1           2021-01-19  26580785-1a49-4a1f-b976-ce46c4975293 Tipo Enfriador Detallista Vitrina\u0014            1     19                      0  \n",
       "                        1601011944 45806   20210121 1           2021-01-21  6e95d49d-1298-44c1-a677-943a5bd231b7 Tipo Enfriador Detallista Vitrina\u0014            1     21                      1  \n",
       "                                           20210223 1           2021-02-23  2cd5f926-0e77-42ce-847f-475e74315e68 Tipo Enfriador Detallista Vitrina\u0014            2     23                      1  \n",
       "                                           20210325 1           2021-03-25  003ac733-f475-4b08-bd66-741e3e33bc1a Tipo Enfriador Detallista Vitrina\u0014            3     25                      1  \n",
       "...                                                                                                                                                                                        ...  \n",
       "zamora@storecheck.com   620150075  45818   20210604 1           2021-06-04  5fe143f1-1613-43ee-8514-d7e66a48a0c3 Tipo Enfriador Detallista Enfriador Vertical\u0014 6     4                       0  \n",
       "                        620161330  45818   20210219 1           2021-02-19  225d786c-a7de-4a13-a116-9e8f62fe7925 Tipo Enfriador Detallista Enfriador Vertical\u0014 2     19                      0  \n",
       "                                           20210319 1           2021-03-19  35ea8575-e115-42eb-82a3-01edd0308a79 Tipo Enfriador Detallista Enfriador Vertical\u0014 3     19                      0  \n",
       "                                           20210513 1           2021-05-13  a29b1b45-d4d3-4add-b890-daaaaabb42f4 Tipo Enfriador Detallista Enfriador Vertical\u0014 5     13                      0  \n",
       "                                           20210609 1           2021-06-09  ad151b20-d39b-4fb8-a217-421e97536e9a Tipo Enfriador Detallista Enfriador Vertical\u0014 6     9                       0  \n",
       "\n",
       "[50032 rows x 2 columns]"
      ],
      "text/html": "<div>\n<style scoped>\n    .dataframe tbody tr th:only-of-type {\n        vertical-align: middle;\n    }\n\n    .dataframe tbody tr th {\n        vertical-align: top;\n    }\n\n    .dataframe thead th {\n        text-align: right;\n    }\n</style>\n<table border=\"1\" class=\"dataframe\">\n  <thead>\n    <tr style=\"text-align: right;\">\n      <th></th>\n      <th></th>\n      <th></th>\n      <th></th>\n      <th></th>\n      <th></th>\n      <th></th>\n      <th></th>\n      <th></th>\n      <th></th>\n      <th></th>\n      <th>Enfriador Coca-Cola</th>\n      <th>Enfriador Detallista</th>\n    </tr>\n    <tr>\n      <th>UserName</th>\n      <th>OutletCode</th>\n      <th>user_id</th>\n      <th>date_id</th>\n      <th>is_reported</th>\n      <th>date_format</th>\n      <th>SessionUid</th>\n      <th>Question</th>\n      <th>Response</th>\n      <th>month</th>\n      <th>day</th>\n      <th></th>\n      <th></th>\n    </tr>\n  </thead>\n  <tbody>\n    <tr>\n      <th rowspan=\"5\" valign=\"top\">acambaro@storecheck.com</th>\n      <th>1601006979</th>\n      <th>45806</th>\n      <th>20210119</th>\n      <th>1</th>\n      <th>2021-01-19</th>\n      <th>3f5f3a80-dff7-4c99-adee-c63d40b0bc48</th>\n      <th>Tipo Enfriador Detallista</th>\n      <th>Vitrina\u0014</th>\n      <th>1</th>\n      <th>19</th>\n      <td>1</td>\n      <td>0</td>\n    </tr>\n    <tr>\n      <th>1601007959</th>\n      <th>45806</th>\n      <th>20210119</th>\n      <th>1</th>\n      <th>2021-01-19</th>\n      <th>26580785-1a49-4a1f-b976-ce46c4975293</th>\n      <th>Tipo Enfriador Detallista</th>\n      <th>Vitrina\u0014</th>\n      <th>1</th>\n      <th>19</th>\n      <td>1</td>\n      <td>0</td>\n    </tr>\n    <tr>\n      <th rowspan=\"3\" valign=\"top\">1601011944</th>\n      <th rowspan=\"3\" valign=\"top\">45806</th>\n      <th>20210121</th>\n      <th>1</th>\n      <th>2021-01-21</th>\n      <th>6e95d49d-1298-44c1-a677-943a5bd231b7</th>\n      <th>Tipo Enfriador Detallista</th>\n      <th>Vitrina\u0014</th>\n      <th>1</th>\n      <th>21</th>\n      <td>0</td>\n      <td>1</td>\n    </tr>\n    <tr>\n      <th>20210223</th>\n      <th>1</th>\n      <th>2021-02-23</th>\n      <th>2cd5f926-0e77-42ce-847f-475e74315e68</th>\n      <th>Tipo Enfriador Detallista</th>\n      <th>Vitrina\u0014</th>\n      <th>2</th>\n      <th>23</th>\n      <td>0</td>\n      <td>1</td>\n    </tr>\n    <tr>\n      <th>20210325</th>\n      <th>1</th>\n      <th>2021-03-25</th>\n      <th>003ac733-f475-4b08-bd66-741e3e33bc1a</th>\n      <th>Tipo Enfriador Detallista</th>\n      <th>Vitrina\u0014</th>\n      <th>3</th>\n      <th>25</th>\n      <td>0</td>\n      <td>1</td>\n    </tr>\n    <tr>\n      <th>...</th>\n      <th>...</th>\n      <th>...</th>\n      <th>...</th>\n      <th>...</th>\n      <th>...</th>\n      <th>...</th>\n      <th>...</th>\n      <th>...</th>\n      <th>...</th>\n      <th>...</th>\n      <td>...</td>\n      <td>...</td>\n    </tr>\n    <tr>\n      <th rowspan=\"5\" valign=\"top\">zamora@storecheck.com</th>\n      <th>620150075</th>\n      <th>45818</th>\n      <th>20210604</th>\n      <th>1</th>\n      <th>2021-06-04</th>\n      <th>5fe143f1-1613-43ee-8514-d7e66a48a0c3</th>\n      <th>Tipo Enfriador Detallista</th>\n      <th>Enfriador Vertical\u0014</th>\n      <th>6</th>\n      <th>4</th>\n      <td>1</td>\n      <td>0</td>\n    </tr>\n    <tr>\n      <th rowspan=\"4\" valign=\"top\">620161330</th>\n      <th rowspan=\"4\" valign=\"top\">45818</th>\n      <th>20210219</th>\n      <th>1</th>\n      <th>2021-02-19</th>\n      <th>225d786c-a7de-4a13-a116-9e8f62fe7925</th>\n      <th>Tipo Enfriador Detallista</th>\n      <th>Enfriador Vertical\u0014</th>\n      <th>2</th>\n      <th>19</th>\n      <td>1</td>\n      <td>0</td>\n    </tr>\n    <tr>\n      <th>20210319</th>\n      <th>1</th>\n      <th>2021-03-19</th>\n      <th>35ea8575-e115-42eb-82a3-01edd0308a79</th>\n      <th>Tipo Enfriador Detallista</th>\n      <th>Enfriador Vertical\u0014</th>\n      <th>3</th>\n      <th>19</th>\n      <td>1</td>\n      <td>0</td>\n    </tr>\n    <tr>\n      <th>20210513</th>\n      <th>1</th>\n      <th>2021-05-13</th>\n      <th>a29b1b45-d4d3-4add-b890-daaaaabb42f4</th>\n      <th>Tipo Enfriador Detallista</th>\n      <th>Enfriador Vertical\u0014</th>\n      <th>5</th>\n      <th>13</th>\n      <td>1</td>\n      <td>0</td>\n    </tr>\n    <tr>\n      <th>20210609</th>\n      <th>1</th>\n      <th>2021-06-09</th>\n      <th>ad151b20-d39b-4fb8-a217-421e97536e9a</th>\n      <th>Tipo Enfriador Detallista</th>\n      <th>Enfriador Vertical\u0014</th>\n      <th>6</th>\n      <th>9</th>\n      <td>1</td>\n      <td>0</td>\n    </tr>\n  </tbody>\n</table>\n<p>50032 rows × 2 columns</p>\n</div>"
     },
     "metadata": {},
     "execution_count": 154
    }
   ],
   "source": [
    "ifi=df2.groupby(['UserName', 'OutletCode', 'user_id', 'date_id', 'is_reported', 'date_format', 'SessionUid', 'Question', 'Response', 'month', 'day'])['Enfriador Coca-Cola', 'Enfriador Detallista'].sum()\n",
    "\n",
    "ifi"
   ]
  },
  {
   "cell_type": "code",
   "execution_count": 155,
   "metadata": {},
   "outputs": [
    {
     "output_type": "execute_result",
     "data": {
      "text/plain": [
       "                      UserName  OutletCode  user_id   date_id  is_reported  \\\n",
       "0      acambaro@storecheck.com  1601006979    45806  20210119            1   \n",
       "1      acambaro@storecheck.com  1601007959    45806  20210119            1   \n",
       "2      acambaro@storecheck.com  1601011944    45806  20210121            1   \n",
       "3      acambaro@storecheck.com  1601011944    45806  20210223            1   \n",
       "4      acambaro@storecheck.com  1601011944    45806  20210325            1   \n",
       "...                        ...         ...      ...       ...          ...   \n",
       "50027    zamora@storecheck.com   620150075    45818  20210604            1   \n",
       "50028    zamora@storecheck.com   620161330    45818  20210219            1   \n",
       "50029    zamora@storecheck.com   620161330    45818  20210319            1   \n",
       "50030    zamora@storecheck.com   620161330    45818  20210513            1   \n",
       "50031    zamora@storecheck.com   620161330    45818  20210609            1   \n",
       "\n",
       "      date_format                            SessionUid  \\\n",
       "0      2021-01-19  3f5f3a80-dff7-4c99-adee-c63d40b0bc48   \n",
       "1      2021-01-19  26580785-1a49-4a1f-b976-ce46c4975293   \n",
       "2      2021-01-21  6e95d49d-1298-44c1-a677-943a5bd231b7   \n",
       "3      2021-02-23  2cd5f926-0e77-42ce-847f-475e74315e68   \n",
       "4      2021-03-25  003ac733-f475-4b08-bd66-741e3e33bc1a   \n",
       "...           ...                                   ...   \n",
       "50027  2021-06-04  5fe143f1-1613-43ee-8514-d7e66a48a0c3   \n",
       "50028  2021-02-19  225d786c-a7de-4a13-a116-9e8f62fe7925   \n",
       "50029  2021-03-19  35ea8575-e115-42eb-82a3-01edd0308a79   \n",
       "50030  2021-05-13  a29b1b45-d4d3-4add-b890-daaaaabb42f4   \n",
       "50031  2021-06-09  ad151b20-d39b-4fb8-a217-421e97536e9a   \n",
       "\n",
       "                        Question             Response  month  day  \\\n",
       "0      Tipo Enfriador Detallista             Vitrina\u0014      1   19   \n",
       "1      Tipo Enfriador Detallista             Vitrina\u0014      1   19   \n",
       "2      Tipo Enfriador Detallista             Vitrina\u0014      1   21   \n",
       "3      Tipo Enfriador Detallista             Vitrina\u0014      2   23   \n",
       "4      Tipo Enfriador Detallista             Vitrina\u0014      3   25   \n",
       "...                          ...                  ...    ...  ...   \n",
       "50027  Tipo Enfriador Detallista  Enfriador Vertical\u0014      6    4   \n",
       "50028  Tipo Enfriador Detallista  Enfriador Vertical\u0014      2   19   \n",
       "50029  Tipo Enfriador Detallista  Enfriador Vertical\u0014      3   19   \n",
       "50030  Tipo Enfriador Detallista  Enfriador Vertical\u0014      5   13   \n",
       "50031  Tipo Enfriador Detallista  Enfriador Vertical\u0014      6    9   \n",
       "\n",
       "       Enfriador Coca-Cola  Enfriador Detallista  \n",
       "0                        1                     0  \n",
       "1                        1                     0  \n",
       "2                        0                     1  \n",
       "3                        0                     1  \n",
       "4                        0                     1  \n",
       "...                    ...                   ...  \n",
       "50027                    1                     0  \n",
       "50028                    1                     0  \n",
       "50029                    1                     0  \n",
       "50030                    1                     0  \n",
       "50031                    1                     0  \n",
       "\n",
       "[50032 rows x 13 columns]"
      ],
      "text/html": "<div>\n<style scoped>\n    .dataframe tbody tr th:only-of-type {\n        vertical-align: middle;\n    }\n\n    .dataframe tbody tr th {\n        vertical-align: top;\n    }\n\n    .dataframe thead th {\n        text-align: right;\n    }\n</style>\n<table border=\"1\" class=\"dataframe\">\n  <thead>\n    <tr style=\"text-align: right;\">\n      <th></th>\n      <th>UserName</th>\n      <th>OutletCode</th>\n      <th>user_id</th>\n      <th>date_id</th>\n      <th>is_reported</th>\n      <th>date_format</th>\n      <th>SessionUid</th>\n      <th>Question</th>\n      <th>Response</th>\n      <th>month</th>\n      <th>day</th>\n      <th>Enfriador Coca-Cola</th>\n      <th>Enfriador Detallista</th>\n    </tr>\n  </thead>\n  <tbody>\n    <tr>\n      <th>0</th>\n      <td>acambaro@storecheck.com</td>\n      <td>1601006979</td>\n      <td>45806</td>\n      <td>20210119</td>\n      <td>1</td>\n      <td>2021-01-19</td>\n      <td>3f5f3a80-dff7-4c99-adee-c63d40b0bc48</td>\n      <td>Tipo Enfriador Detallista</td>\n      <td>Vitrina\u0014</td>\n      <td>1</td>\n      <td>19</td>\n      <td>1</td>\n      <td>0</td>\n    </tr>\n    <tr>\n      <th>1</th>\n      <td>acambaro@storecheck.com</td>\n      <td>1601007959</td>\n      <td>45806</td>\n      <td>20210119</td>\n      <td>1</td>\n      <td>2021-01-19</td>\n      <td>26580785-1a49-4a1f-b976-ce46c4975293</td>\n      <td>Tipo Enfriador Detallista</td>\n      <td>Vitrina\u0014</td>\n      <td>1</td>\n      <td>19</td>\n      <td>1</td>\n      <td>0</td>\n    </tr>\n    <tr>\n      <th>2</th>\n      <td>acambaro@storecheck.com</td>\n      <td>1601011944</td>\n      <td>45806</td>\n      <td>20210121</td>\n      <td>1</td>\n      <td>2021-01-21</td>\n      <td>6e95d49d-1298-44c1-a677-943a5bd231b7</td>\n      <td>Tipo Enfriador Detallista</td>\n      <td>Vitrina\u0014</td>\n      <td>1</td>\n      <td>21</td>\n      <td>0</td>\n      <td>1</td>\n    </tr>\n    <tr>\n      <th>3</th>\n      <td>acambaro@storecheck.com</td>\n      <td>1601011944</td>\n      <td>45806</td>\n      <td>20210223</td>\n      <td>1</td>\n      <td>2021-02-23</td>\n      <td>2cd5f926-0e77-42ce-847f-475e74315e68</td>\n      <td>Tipo Enfriador Detallista</td>\n      <td>Vitrina\u0014</td>\n      <td>2</td>\n      <td>23</td>\n      <td>0</td>\n      <td>1</td>\n    </tr>\n    <tr>\n      <th>4</th>\n      <td>acambaro@storecheck.com</td>\n      <td>1601011944</td>\n      <td>45806</td>\n      <td>20210325</td>\n      <td>1</td>\n      <td>2021-03-25</td>\n      <td>003ac733-f475-4b08-bd66-741e3e33bc1a</td>\n      <td>Tipo Enfriador Detallista</td>\n      <td>Vitrina\u0014</td>\n      <td>3</td>\n      <td>25</td>\n      <td>0</td>\n      <td>1</td>\n    </tr>\n    <tr>\n      <th>...</th>\n      <td>...</td>\n      <td>...</td>\n      <td>...</td>\n      <td>...</td>\n      <td>...</td>\n      <td>...</td>\n      <td>...</td>\n      <td>...</td>\n      <td>...</td>\n      <td>...</td>\n      <td>...</td>\n      <td>...</td>\n      <td>...</td>\n    </tr>\n    <tr>\n      <th>50027</th>\n      <td>zamora@storecheck.com</td>\n      <td>620150075</td>\n      <td>45818</td>\n      <td>20210604</td>\n      <td>1</td>\n      <td>2021-06-04</td>\n      <td>5fe143f1-1613-43ee-8514-d7e66a48a0c3</td>\n      <td>Tipo Enfriador Detallista</td>\n      <td>Enfriador Vertical\u0014</td>\n      <td>6</td>\n      <td>4</td>\n      <td>1</td>\n      <td>0</td>\n    </tr>\n    <tr>\n      <th>50028</th>\n      <td>zamora@storecheck.com</td>\n      <td>620161330</td>\n      <td>45818</td>\n      <td>20210219</td>\n      <td>1</td>\n      <td>2021-02-19</td>\n      <td>225d786c-a7de-4a13-a116-9e8f62fe7925</td>\n      <td>Tipo Enfriador Detallista</td>\n      <td>Enfriador Vertical\u0014</td>\n      <td>2</td>\n      <td>19</td>\n      <td>1</td>\n      <td>0</td>\n    </tr>\n    <tr>\n      <th>50029</th>\n      <td>zamora@storecheck.com</td>\n      <td>620161330</td>\n      <td>45818</td>\n      <td>20210319</td>\n      <td>1</td>\n      <td>2021-03-19</td>\n      <td>35ea8575-e115-42eb-82a3-01edd0308a79</td>\n      <td>Tipo Enfriador Detallista</td>\n      <td>Enfriador Vertical\u0014</td>\n      <td>3</td>\n      <td>19</td>\n      <td>1</td>\n      <td>0</td>\n    </tr>\n    <tr>\n      <th>50030</th>\n      <td>zamora@storecheck.com</td>\n      <td>620161330</td>\n      <td>45818</td>\n      <td>20210513</td>\n      <td>1</td>\n      <td>2021-05-13</td>\n      <td>a29b1b45-d4d3-4add-b890-daaaaabb42f4</td>\n      <td>Tipo Enfriador Detallista</td>\n      <td>Enfriador Vertical\u0014</td>\n      <td>5</td>\n      <td>13</td>\n      <td>1</td>\n      <td>0</td>\n    </tr>\n    <tr>\n      <th>50031</th>\n      <td>zamora@storecheck.com</td>\n      <td>620161330</td>\n      <td>45818</td>\n      <td>20210609</td>\n      <td>1</td>\n      <td>2021-06-09</td>\n      <td>ad151b20-d39b-4fb8-a217-421e97536e9a</td>\n      <td>Tipo Enfriador Detallista</td>\n      <td>Enfriador Vertical\u0014</td>\n      <td>6</td>\n      <td>9</td>\n      <td>1</td>\n      <td>0</td>\n    </tr>\n  </tbody>\n</table>\n<p>50032 rows × 13 columns</p>\n</div>"
     },
     "metadata": {},
     "execution_count": 155
    }
   ],
   "source": [
    "table2 = ifi.reset_index()\n",
    "table2"
   ]
  },
  {
   "cell_type": "code",
   "execution_count": 156,
   "metadata": {},
   "outputs": [
    {
     "output_type": "stream",
     "name": "stdout",
     "text": [
      "<class 'pandas.core.frame.DataFrame'>\nRangeIndex: 50032 entries, 0 to 50031\nData columns (total 13 columns):\n #   Column                Non-Null Count  Dtype         \n---  ------                --------------  -----         \n 0   UserName              50032 non-null  object        \n 1   OutletCode            50032 non-null  object        \n 2   user_id               50032 non-null  int64         \n 3   date_id               50032 non-null  int64         \n 4   is_reported           50032 non-null  int64         \n 5   date_format           50032 non-null  datetime64[ns]\n 6   SessionUid            50032 non-null  object        \n 7   Question              50032 non-null  object        \n 8   Response              50032 non-null  object        \n 9   month                 50032 non-null  int64         \n 10  day                   50032 non-null  int64         \n 11  Enfriador Coca-Cola   50032 non-null  int64         \n 12  Enfriador Detallista  50032 non-null  int64         \ndtypes: datetime64[ns](1), int64(7), object(5)\nmemory usage: 5.0+ MB\n"
     ]
    }
   ],
   "source": [
    "table2.info()"
   ]
  },
  {
   "cell_type": "code",
   "execution_count": 157,
   "metadata": {},
   "outputs": [],
   "source": [
    "table2=table2.sort_values(['OutletCode', 'date_format'])"
   ]
  },
  {
   "cell_type": "code",
   "execution_count": 158,
   "metadata": {},
   "outputs": [
    {
     "output_type": "execute_result",
     "data": {
      "text/plain": [
       "UserName                        object\n",
       "OutletCode                      object\n",
       "user_id                          int64\n",
       "date_id                          int64\n",
       "is_reported                      int64\n",
       "date_format             datetime64[ns]\n",
       "SessionUid                      object\n",
       "Question                        object\n",
       "Response                        object\n",
       "month                            int64\n",
       "day                              int64\n",
       "Enfriador Coca-Cola              int64\n",
       "Enfriador Detallista             int64\n",
       "Coca-Cola                      float64\n",
       "Detallista                     float64\n",
       "dtype: object"
      ]
     },
     "metadata": {},
     "execution_count": 158
    }
   ],
   "source": [
    "table2[\"Coca-Cola\"] = table2[\"Enfriador Coca-Cola\"].shift(1)\n",
    "table2[\"Detallista\"] = table2[\"Enfriador Detallista\"].shift(1)\n",
    "table2.dtypes"
   ]
  },
  {
   "cell_type": "code",
   "execution_count": 159,
   "metadata": {},
   "outputs": [
    {
     "output_type": "execute_result",
     "data": {
      "text/plain": [
       "                     UserName OutletCode  user_id   date_id  is_reported  \\\n",
       "12814   cdmx26@storecheck.com  100000195    47713  20210312            1   \n",
       "11499   cdmx24@storecheck.com  100000208    45848  20210228            1   \n",
       "12815   cdmx26@storecheck.com  100000208    47713  20210312            1   \n",
       "5008    cdmx13@storecheck.com  100000283    45836  20210326            1   \n",
       "11500   cdmx24@storecheck.com  100000390    45848  20210611            1   \n",
       "...                       ...        ...      ...       ...          ...   \n",
       "36256  merida4@storecheck.com      99361    45796  20210122            1   \n",
       "36257  merida4@storecheck.com      99361    45796  20210412            1   \n",
       "35654  merida3@storecheck.com      99750    45795  20210104            1   \n",
       "36258  merida4@storecheck.com      99750    45796  20210208            1   \n",
       "36259  merida4@storecheck.com      99750    45796  20210316            1   \n",
       "\n",
       "      date_format                            SessionUid  \\\n",
       "12814  2021-03-12  78f994cc-4a41-46ab-b0bb-8b11323aac57   \n",
       "11499  2021-02-28  1ef2922f-4c61-47ab-a065-e94bc750a97b   \n",
       "12815  2021-03-12  1061c10c-0134-4c44-ac84-ba4ae39b248e   \n",
       "5008   2021-03-26  dabf8dd8-3a0c-4456-b4ae-0cce7fcadb62   \n",
       "11500  2021-06-11  d0b07c3d-e1d8-4674-828f-d5628c9a6c00   \n",
       "...           ...                                   ...   \n",
       "36256  2021-01-22  d9689f04-47bc-4ca1-9748-6d168b1ab902   \n",
       "36257  2021-04-12  fe842bae-8ee8-49fb-b2c1-1c05d5fe7a53   \n",
       "35654  2021-01-04  9537a728-a264-4603-92d8-64e754403dc0   \n",
       "36258  2021-02-08  01ddcc9b-0294-4658-b0f5-4d004035e31c   \n",
       "36259  2021-03-16  20be04be-07fb-465c-8085-d98f53cff4ed   \n",
       "\n",
       "                        Question             Response  month  day  \\\n",
       "12814  Tipo Enfriador Detallista             Vitrina\u0014      3   12   \n",
       "11499  Tipo Enfriador Detallista             Vitrina\u0014      2   28   \n",
       "12815  Tipo Enfriador Detallista             Vitrina\u0014      3   12   \n",
       "5008   Tipo Enfriador Detallista             Vitrina\u0014      3   26   \n",
       "11500  Tipo Enfriador Detallista             Vitrina\u0014      6   11   \n",
       "...                          ...                  ...    ...  ...   \n",
       "36256  Tipo Enfriador Detallista  Enfriador Vertical\u0014      1   22   \n",
       "36257  Tipo Enfriador Detallista  Enfriador Vertical\u0014      4   12   \n",
       "35654  Tipo Enfriador Detallista         Cámara Fría\u0014      1    4   \n",
       "36258  Tipo Enfriador Detallista  Enfriador Vertical\u0014      2    8   \n",
       "36259  Tipo Enfriador Detallista  Enfriador Vertical\u0014      3   16   \n",
       "\n",
       "       Enfriador Coca-Cola  Enfriador Detallista  Coca-Cola  Detallista  \n",
       "12814                    1                     0        0.0         0.0  \n",
       "11499                    1                     0        1.0         0.0  \n",
       "12815                    0                     1        1.0         0.0  \n",
       "5008                     0                     1        0.0         1.0  \n",
       "11500                    0                     1        0.0         1.0  \n",
       "...                    ...                   ...        ...         ...  \n",
       "36256                    1                     0        0.0         1.0  \n",
       "36257                    0                     1        1.0         0.0  \n",
       "35654                    0                     1        0.0         1.0  \n",
       "36258                    0                     1        0.0         1.0  \n",
       "36259                    0                     1        0.0         1.0  \n",
       "\n",
       "[50032 rows x 15 columns]"
      ],
      "text/html": "<div>\n<style scoped>\n    .dataframe tbody tr th:only-of-type {\n        vertical-align: middle;\n    }\n\n    .dataframe tbody tr th {\n        vertical-align: top;\n    }\n\n    .dataframe thead th {\n        text-align: right;\n    }\n</style>\n<table border=\"1\" class=\"dataframe\">\n  <thead>\n    <tr style=\"text-align: right;\">\n      <th></th>\n      <th>UserName</th>\n      <th>OutletCode</th>\n      <th>user_id</th>\n      <th>date_id</th>\n      <th>is_reported</th>\n      <th>date_format</th>\n      <th>SessionUid</th>\n      <th>Question</th>\n      <th>Response</th>\n      <th>month</th>\n      <th>day</th>\n      <th>Enfriador Coca-Cola</th>\n      <th>Enfriador Detallista</th>\n      <th>Coca-Cola</th>\n      <th>Detallista</th>\n    </tr>\n  </thead>\n  <tbody>\n    <tr>\n      <th>12814</th>\n      <td>cdmx26@storecheck.com</td>\n      <td>100000195</td>\n      <td>47713</td>\n      <td>20210312</td>\n      <td>1</td>\n      <td>2021-03-12</td>\n      <td>78f994cc-4a41-46ab-b0bb-8b11323aac57</td>\n      <td>Tipo Enfriador Detallista</td>\n      <td>Vitrina\u0014</td>\n      <td>3</td>\n      <td>12</td>\n      <td>1</td>\n      <td>0</td>\n      <td>0.0</td>\n      <td>0.0</td>\n    </tr>\n    <tr>\n      <th>11499</th>\n      <td>cdmx24@storecheck.com</td>\n      <td>100000208</td>\n      <td>45848</td>\n      <td>20210228</td>\n      <td>1</td>\n      <td>2021-02-28</td>\n      <td>1ef2922f-4c61-47ab-a065-e94bc750a97b</td>\n      <td>Tipo Enfriador Detallista</td>\n      <td>Vitrina\u0014</td>\n      <td>2</td>\n      <td>28</td>\n      <td>1</td>\n      <td>0</td>\n      <td>1.0</td>\n      <td>0.0</td>\n    </tr>\n    <tr>\n      <th>12815</th>\n      <td>cdmx26@storecheck.com</td>\n      <td>100000208</td>\n      <td>47713</td>\n      <td>20210312</td>\n      <td>1</td>\n      <td>2021-03-12</td>\n      <td>1061c10c-0134-4c44-ac84-ba4ae39b248e</td>\n      <td>Tipo Enfriador Detallista</td>\n      <td>Vitrina\u0014</td>\n      <td>3</td>\n      <td>12</td>\n      <td>0</td>\n      <td>1</td>\n      <td>1.0</td>\n      <td>0.0</td>\n    </tr>\n    <tr>\n      <th>5008</th>\n      <td>cdmx13@storecheck.com</td>\n      <td>100000283</td>\n      <td>45836</td>\n      <td>20210326</td>\n      <td>1</td>\n      <td>2021-03-26</td>\n      <td>dabf8dd8-3a0c-4456-b4ae-0cce7fcadb62</td>\n      <td>Tipo Enfriador Detallista</td>\n      <td>Vitrina\u0014</td>\n      <td>3</td>\n      <td>26</td>\n      <td>0</td>\n      <td>1</td>\n      <td>0.0</td>\n      <td>1.0</td>\n    </tr>\n    <tr>\n      <th>11500</th>\n      <td>cdmx24@storecheck.com</td>\n      <td>100000390</td>\n      <td>45848</td>\n      <td>20210611</td>\n      <td>1</td>\n      <td>2021-06-11</td>\n      <td>d0b07c3d-e1d8-4674-828f-d5628c9a6c00</td>\n      <td>Tipo Enfriador Detallista</td>\n      <td>Vitrina\u0014</td>\n      <td>6</td>\n      <td>11</td>\n      <td>0</td>\n      <td>1</td>\n      <td>0.0</td>\n      <td>1.0</td>\n    </tr>\n    <tr>\n      <th>...</th>\n      <td>...</td>\n      <td>...</td>\n      <td>...</td>\n      <td>...</td>\n      <td>...</td>\n      <td>...</td>\n      <td>...</td>\n      <td>...</td>\n      <td>...</td>\n      <td>...</td>\n      <td>...</td>\n      <td>...</td>\n      <td>...</td>\n      <td>...</td>\n      <td>...</td>\n    </tr>\n    <tr>\n      <th>36256</th>\n      <td>merida4@storecheck.com</td>\n      <td>99361</td>\n      <td>45796</td>\n      <td>20210122</td>\n      <td>1</td>\n      <td>2021-01-22</td>\n      <td>d9689f04-47bc-4ca1-9748-6d168b1ab902</td>\n      <td>Tipo Enfriador Detallista</td>\n      <td>Enfriador Vertical\u0014</td>\n      <td>1</td>\n      <td>22</td>\n      <td>1</td>\n      <td>0</td>\n      <td>0.0</td>\n      <td>1.0</td>\n    </tr>\n    <tr>\n      <th>36257</th>\n      <td>merida4@storecheck.com</td>\n      <td>99361</td>\n      <td>45796</td>\n      <td>20210412</td>\n      <td>1</td>\n      <td>2021-04-12</td>\n      <td>fe842bae-8ee8-49fb-b2c1-1c05d5fe7a53</td>\n      <td>Tipo Enfriador Detallista</td>\n      <td>Enfriador Vertical\u0014</td>\n      <td>4</td>\n      <td>12</td>\n      <td>0</td>\n      <td>1</td>\n      <td>1.0</td>\n      <td>0.0</td>\n    </tr>\n    <tr>\n      <th>35654</th>\n      <td>merida3@storecheck.com</td>\n      <td>99750</td>\n      <td>45795</td>\n      <td>20210104</td>\n      <td>1</td>\n      <td>2021-01-04</td>\n      <td>9537a728-a264-4603-92d8-64e754403dc0</td>\n      <td>Tipo Enfriador Detallista</td>\n      <td>Cámara Fría\u0014</td>\n      <td>1</td>\n      <td>4</td>\n      <td>0</td>\n      <td>1</td>\n      <td>0.0</td>\n      <td>1.0</td>\n    </tr>\n    <tr>\n      <th>36258</th>\n      <td>merida4@storecheck.com</td>\n      <td>99750</td>\n      <td>45796</td>\n      <td>20210208</td>\n      <td>1</td>\n      <td>2021-02-08</td>\n      <td>01ddcc9b-0294-4658-b0f5-4d004035e31c</td>\n      <td>Tipo Enfriador Detallista</td>\n      <td>Enfriador Vertical\u0014</td>\n      <td>2</td>\n      <td>8</td>\n      <td>0</td>\n      <td>1</td>\n      <td>0.0</td>\n      <td>1.0</td>\n    </tr>\n    <tr>\n      <th>36259</th>\n      <td>merida4@storecheck.com</td>\n      <td>99750</td>\n      <td>45796</td>\n      <td>20210316</td>\n      <td>1</td>\n      <td>2021-03-16</td>\n      <td>20be04be-07fb-465c-8085-d98f53cff4ed</td>\n      <td>Tipo Enfriador Detallista</td>\n      <td>Enfriador Vertical\u0014</td>\n      <td>3</td>\n      <td>16</td>\n      <td>0</td>\n      <td>1</td>\n      <td>0.0</td>\n      <td>1.0</td>\n    </tr>\n  </tbody>\n</table>\n<p>50032 rows × 15 columns</p>\n</div>"
     },
     "metadata": {},
     "execution_count": 159
    }
   ],
   "source": [
    "table2 = table2.fillna(0)\n",
    "table2"
   ]
  },
  {
   "cell_type": "code",
   "execution_count": 161,
   "metadata": {},
   "outputs": [
    {
     "output_type": "execute_result",
     "data": {
      "text/plain": [
       "                     UserName OutletCode  user_id   date_id  is_reported  \\\n",
       "12814   cdmx26@storecheck.com  100000195    47713  20210312            1   \n",
       "11499   cdmx24@storecheck.com  100000208    45848  20210228            1   \n",
       "12815   cdmx26@storecheck.com  100000208    47713  20210312            1   \n",
       "5008    cdmx13@storecheck.com  100000283    45836  20210326            1   \n",
       "11500   cdmx24@storecheck.com  100000390    45848  20210611            1   \n",
       "...                       ...        ...      ...       ...          ...   \n",
       "36256  merida4@storecheck.com      99361    45796  20210122            1   \n",
       "36257  merida4@storecheck.com      99361    45796  20210412            1   \n",
       "35654  merida3@storecheck.com      99750    45795  20210104            1   \n",
       "36258  merida4@storecheck.com      99750    45796  20210208            1   \n",
       "36259  merida4@storecheck.com      99750    45796  20210316            1   \n",
       "\n",
       "      date_format                            SessionUid  \\\n",
       "12814  2021-03-12  78f994cc-4a41-46ab-b0bb-8b11323aac57   \n",
       "11499  2021-02-28  1ef2922f-4c61-47ab-a065-e94bc750a97b   \n",
       "12815  2021-03-12  1061c10c-0134-4c44-ac84-ba4ae39b248e   \n",
       "5008   2021-03-26  dabf8dd8-3a0c-4456-b4ae-0cce7fcadb62   \n",
       "11500  2021-06-11  d0b07c3d-e1d8-4674-828f-d5628c9a6c00   \n",
       "...           ...                                   ...   \n",
       "36256  2021-01-22  d9689f04-47bc-4ca1-9748-6d168b1ab902   \n",
       "36257  2021-04-12  fe842bae-8ee8-49fb-b2c1-1c05d5fe7a53   \n",
       "35654  2021-01-04  9537a728-a264-4603-92d8-64e754403dc0   \n",
       "36258  2021-02-08  01ddcc9b-0294-4658-b0f5-4d004035e31c   \n",
       "36259  2021-03-16  20be04be-07fb-465c-8085-d98f53cff4ed   \n",
       "\n",
       "                        Question             Response  month  day  \\\n",
       "12814  Tipo Enfriador Detallista             Vitrina\u0014      3   12   \n",
       "11499  Tipo Enfriador Detallista             Vitrina\u0014      2   28   \n",
       "12815  Tipo Enfriador Detallista             Vitrina\u0014      3   12   \n",
       "5008   Tipo Enfriador Detallista             Vitrina\u0014      3   26   \n",
       "11500  Tipo Enfriador Detallista             Vitrina\u0014      6   11   \n",
       "...                          ...                  ...    ...  ...   \n",
       "36256  Tipo Enfriador Detallista  Enfriador Vertical\u0014      1   22   \n",
       "36257  Tipo Enfriador Detallista  Enfriador Vertical\u0014      4   12   \n",
       "35654  Tipo Enfriador Detallista         Cámara Fría\u0014      1    4   \n",
       "36258  Tipo Enfriador Detallista  Enfriador Vertical\u0014      2    8   \n",
       "36259  Tipo Enfriador Detallista  Enfriador Vertical\u0014      3   16   \n",
       "\n",
       "       Enfriador Coca-Cola  Enfriador Detallista  Coca-Cola  Detallista  \n",
       "12814                    1                     0          0           0  \n",
       "11499                    1                     0          1           0  \n",
       "12815                    0                     1          1           0  \n",
       "5008                     0                     1          0           1  \n",
       "11500                    0                     1          0           1  \n",
       "...                    ...                   ...        ...         ...  \n",
       "36256                    1                     0          0           1  \n",
       "36257                    0                     1          1           0  \n",
       "35654                    0                     1          0           1  \n",
       "36258                    0                     1          0           1  \n",
       "36259                    0                     1          0           1  \n",
       "\n",
       "[50032 rows x 15 columns]"
      ],
      "text/html": "<div>\n<style scoped>\n    .dataframe tbody tr th:only-of-type {\n        vertical-align: middle;\n    }\n\n    .dataframe tbody tr th {\n        vertical-align: top;\n    }\n\n    .dataframe thead th {\n        text-align: right;\n    }\n</style>\n<table border=\"1\" class=\"dataframe\">\n  <thead>\n    <tr style=\"text-align: right;\">\n      <th></th>\n      <th>UserName</th>\n      <th>OutletCode</th>\n      <th>user_id</th>\n      <th>date_id</th>\n      <th>is_reported</th>\n      <th>date_format</th>\n      <th>SessionUid</th>\n      <th>Question</th>\n      <th>Response</th>\n      <th>month</th>\n      <th>day</th>\n      <th>Enfriador Coca-Cola</th>\n      <th>Enfriador Detallista</th>\n      <th>Coca-Cola</th>\n      <th>Detallista</th>\n    </tr>\n  </thead>\n  <tbody>\n    <tr>\n      <th>12814</th>\n      <td>cdmx26@storecheck.com</td>\n      <td>100000195</td>\n      <td>47713</td>\n      <td>20210312</td>\n      <td>1</td>\n      <td>2021-03-12</td>\n      <td>78f994cc-4a41-46ab-b0bb-8b11323aac57</td>\n      <td>Tipo Enfriador Detallista</td>\n      <td>Vitrina\u0014</td>\n      <td>3</td>\n      <td>12</td>\n      <td>1</td>\n      <td>0</td>\n      <td>0</td>\n      <td>0</td>\n    </tr>\n    <tr>\n      <th>11499</th>\n      <td>cdmx24@storecheck.com</td>\n      <td>100000208</td>\n      <td>45848</td>\n      <td>20210228</td>\n      <td>1</td>\n      <td>2021-02-28</td>\n      <td>1ef2922f-4c61-47ab-a065-e94bc750a97b</td>\n      <td>Tipo Enfriador Detallista</td>\n      <td>Vitrina\u0014</td>\n      <td>2</td>\n      <td>28</td>\n      <td>1</td>\n      <td>0</td>\n      <td>1</td>\n      <td>0</td>\n    </tr>\n    <tr>\n      <th>12815</th>\n      <td>cdmx26@storecheck.com</td>\n      <td>100000208</td>\n      <td>47713</td>\n      <td>20210312</td>\n      <td>1</td>\n      <td>2021-03-12</td>\n      <td>1061c10c-0134-4c44-ac84-ba4ae39b248e</td>\n      <td>Tipo Enfriador Detallista</td>\n      <td>Vitrina\u0014</td>\n      <td>3</td>\n      <td>12</td>\n      <td>0</td>\n      <td>1</td>\n      <td>1</td>\n      <td>0</td>\n    </tr>\n    <tr>\n      <th>5008</th>\n      <td>cdmx13@storecheck.com</td>\n      <td>100000283</td>\n      <td>45836</td>\n      <td>20210326</td>\n      <td>1</td>\n      <td>2021-03-26</td>\n      <td>dabf8dd8-3a0c-4456-b4ae-0cce7fcadb62</td>\n      <td>Tipo Enfriador Detallista</td>\n      <td>Vitrina\u0014</td>\n      <td>3</td>\n      <td>26</td>\n      <td>0</td>\n      <td>1</td>\n      <td>0</td>\n      <td>1</td>\n    </tr>\n    <tr>\n      <th>11500</th>\n      <td>cdmx24@storecheck.com</td>\n      <td>100000390</td>\n      <td>45848</td>\n      <td>20210611</td>\n      <td>1</td>\n      <td>2021-06-11</td>\n      <td>d0b07c3d-e1d8-4674-828f-d5628c9a6c00</td>\n      <td>Tipo Enfriador Detallista</td>\n      <td>Vitrina\u0014</td>\n      <td>6</td>\n      <td>11</td>\n      <td>0</td>\n      <td>1</td>\n      <td>0</td>\n      <td>1</td>\n    </tr>\n    <tr>\n      <th>...</th>\n      <td>...</td>\n      <td>...</td>\n      <td>...</td>\n      <td>...</td>\n      <td>...</td>\n      <td>...</td>\n      <td>...</td>\n      <td>...</td>\n      <td>...</td>\n      <td>...</td>\n      <td>...</td>\n      <td>...</td>\n      <td>...</td>\n      <td>...</td>\n      <td>...</td>\n    </tr>\n    <tr>\n      <th>36256</th>\n      <td>merida4@storecheck.com</td>\n      <td>99361</td>\n      <td>45796</td>\n      <td>20210122</td>\n      <td>1</td>\n      <td>2021-01-22</td>\n      <td>d9689f04-47bc-4ca1-9748-6d168b1ab902</td>\n      <td>Tipo Enfriador Detallista</td>\n      <td>Enfriador Vertical\u0014</td>\n      <td>1</td>\n      <td>22</td>\n      <td>1</td>\n      <td>0</td>\n      <td>0</td>\n      <td>1</td>\n    </tr>\n    <tr>\n      <th>36257</th>\n      <td>merida4@storecheck.com</td>\n      <td>99361</td>\n      <td>45796</td>\n      <td>20210412</td>\n      <td>1</td>\n      <td>2021-04-12</td>\n      <td>fe842bae-8ee8-49fb-b2c1-1c05d5fe7a53</td>\n      <td>Tipo Enfriador Detallista</td>\n      <td>Enfriador Vertical\u0014</td>\n      <td>4</td>\n      <td>12</td>\n      <td>0</td>\n      <td>1</td>\n      <td>1</td>\n      <td>0</td>\n    </tr>\n    <tr>\n      <th>35654</th>\n      <td>merida3@storecheck.com</td>\n      <td>99750</td>\n      <td>45795</td>\n      <td>20210104</td>\n      <td>1</td>\n      <td>2021-01-04</td>\n      <td>9537a728-a264-4603-92d8-64e754403dc0</td>\n      <td>Tipo Enfriador Detallista</td>\n      <td>Cámara Fría\u0014</td>\n      <td>1</td>\n      <td>4</td>\n      <td>0</td>\n      <td>1</td>\n      <td>0</td>\n      <td>1</td>\n    </tr>\n    <tr>\n      <th>36258</th>\n      <td>merida4@storecheck.com</td>\n      <td>99750</td>\n      <td>45796</td>\n      <td>20210208</td>\n      <td>1</td>\n      <td>2021-02-08</td>\n      <td>01ddcc9b-0294-4658-b0f5-4d004035e31c</td>\n      <td>Tipo Enfriador Detallista</td>\n      <td>Enfriador Vertical\u0014</td>\n      <td>2</td>\n      <td>8</td>\n      <td>0</td>\n      <td>1</td>\n      <td>0</td>\n      <td>1</td>\n    </tr>\n    <tr>\n      <th>36259</th>\n      <td>merida4@storecheck.com</td>\n      <td>99750</td>\n      <td>45796</td>\n      <td>20210316</td>\n      <td>1</td>\n      <td>2021-03-16</td>\n      <td>20be04be-07fb-465c-8085-d98f53cff4ed</td>\n      <td>Tipo Enfriador Detallista</td>\n      <td>Enfriador Vertical\u0014</td>\n      <td>3</td>\n      <td>16</td>\n      <td>0</td>\n      <td>1</td>\n      <td>0</td>\n      <td>1</td>\n    </tr>\n  </tbody>\n</table>\n<p>50032 rows × 15 columns</p>\n</div>"
     },
     "metadata": {},
     "execution_count": 161
    }
   ],
   "source": [
    "table2 = table2.astype({\"Coca-Cola\": int, \"Detallista\": int})\n",
    "table2"
   ]
  },
  {
   "cell_type": "code",
   "execution_count": 162,
   "metadata": {},
   "outputs": [
    {
     "output_type": "execute_result",
     "data": {
      "text/plain": [
       "UserName                        object\n",
       "OutletCode                      object\n",
       "user_id                          int64\n",
       "date_id                          int64\n",
       "is_reported                      int64\n",
       "date_format             datetime64[ns]\n",
       "SessionUid                      object\n",
       "Question                        object\n",
       "Response                        object\n",
       "month                            int64\n",
       "day                              int64\n",
       "Enfriador Coca-Cola              int64\n",
       "Enfriador Detallista             int64\n",
       "Coca-Cola                        int32\n",
       "Detallista                       int32\n",
       "dtype: object"
      ]
     },
     "metadata": {},
     "execution_count": 162
    }
   ],
   "source": [
    "table2.dtypes"
   ]
  },
  {
   "cell_type": "code",
   "execution_count": 163,
   "metadata": {},
   "outputs": [
    {
     "output_type": "execute_result",
     "data": {
      "text/plain": [
       "UserName                        object\n",
       "OutletCode                      object\n",
       "user_id                          int64\n",
       "date_id                          int64\n",
       "is_reported                      int64\n",
       "date_format             datetime64[ns]\n",
       "SessionUid                      object\n",
       "Question                        object\n",
       "Response                        object\n",
       "month                            int64\n",
       "day                              int64\n",
       "Enfriador Coca-Cola              int64\n",
       "Enfriador Detallista             int64\n",
       "Coca-Cola                        int32\n",
       "Detallista                       int32\n",
       "OutletCodeChanged                 bool\n",
       "dtype: object"
      ]
     },
     "metadata": {},
     "execution_count": 163
    }
   ],
   "source": [
    "table2[\"OutletCodeChanged\"] = table2[\"OutletCode\"].shift(1, fill_value=table2[\"OutletCode\"].head(1)) != table2[\"OutletCode\"]\n",
    "table2.dtypes"
   ]
  },
  {
   "cell_type": "code",
   "execution_count": 164,
   "metadata": {},
   "outputs": [
    {
     "output_type": "execute_result",
     "data": {
      "text/plain": [
       "UserName                        object\n",
       "OutletCode                      object\n",
       "user_id                          int64\n",
       "date_id                          int64\n",
       "is_reported                      int64\n",
       "date_format             datetime64[ns]\n",
       "SessionUid                      object\n",
       "Question                        object\n",
       "Response                        object\n",
       "month                            int64\n",
       "day                              int64\n",
       "Enfriador Coca-Cola              int64\n",
       "Enfriador Detallista             int64\n",
       "Coca-Cola                        int32\n",
       "Detallista                       int32\n",
       "OutletCodeChanged               object\n",
       "dtype: object"
      ]
     },
     "metadata": {},
     "execution_count": 164
    }
   ],
   "source": [
    "table2[\"OutletCodeChanged\"] = table2[\"OutletCodeChanged\"].astype(object)\n",
    "table2.dtypes"
   ]
  },
  {
   "cell_type": "code",
   "execution_count": 165,
   "metadata": {},
   "outputs": [
    {
     "output_type": "stream",
     "name": "stdout",
     "text": [
      "12814    1\n11499    0\n12815   -1\n5008     0\n11500    0\n        ..\n36256    1\n36257   -1\n35654    0\n36258    0\n36259    0\nLength: 50032, dtype: int64\n12814    1\n11499    0\n12815   -1\n5008     0\n11500    0\n        ..\n36256    1\n36257   -1\n35654    0\n36258    0\n36259    0\nLength: 50032, dtype: int64\n12814    1\n11499    0\n12815   -1\n5008     0\n11500    0\n        ..\n36256    1\n36257   -1\n35654    0\n36258    0\n36259    0\nLength: 50032, dtype: int64\n12814    1\n11499    0\n12815   -1\n5008     0\n11500    0\n        ..\n36256    1\n36257   -1\n35654    0\n36258    0\n36259    0\nLength: 50032, dtype: int64\n12814    1\n11499    0\n12815   -1\n5008     0\n11500    0\n        ..\n36256    1\n36257   -1\n35654    0\n36258    0\n36259    0\nLength: 50032, dtype: int64\n12814    1\n11499    0\n12815   -1\n5008     0\n11500    0\n        ..\n36256    1\n36257   -1\n35654    0\n36258    0\n36259    0\nLength: 50032, dtype: int64\n12814    1\n11499    0\n12815   -1\n5008     0\n11500    0\n        ..\n36256    1\n36257   -1\n35654    0\n36258    0\n36259    0\nLength: 50032, dtype: int64\n12814    1\n11499    0\n12815   -1\n5008     0\n11500    0\n        ..\n36256    1\n36257   -1\n35654    0\n36258    0\n36259    0\nLength: 50032, dtype: int64\n12814    1\n11499    0\n12815   -1\n5008     0\n11500    0\n        ..\n36256    1\n36257   -1\n35654    0\n36258    0\n36259    0\nLength: 50032, dtype: int64\n12814    1\n11499    0\n12815   -1\n5008     0\n11500    0\n        ..\n36256    1\n36257   -1\n35654    0\n36258    0\n36259    0\nLength: 50032, dtype: int64\n12814    1\n11499    0\n12815   -1\n5008     0\n11500    0\n        ..\n36256    1\n36257   -1\n35654    0\n36258    0\n36259    0\nLength: 50032, dtype: int64\n12814    1\n11499    0\n12815   -1\n5008     0\n11500    0\n        ..\n36256    1\n36257   -1\n35654    0\n36258    0\n36259    0\nLength: 50032, dtype: int64\n12814    1\n11499    0\n12815   -1\n5008     0\n11500    0\n        ..\n36256    1\n36257   -1\n35654    0\n36258    0\n36259    0\nLength: 50032, dtype: int64\n12814    1\n11499    0\n12815   -1\n5008     0\n11500    0\n        ..\n36256    1\n36257   -1\n35654    0\n36258    0\n36259    0\nLength: 50032, dtype: int64\n12814    1\n11499    0\n12815   -1\n5008     0\n11500    0\n        ..\n36256    1\n36257   -1\n35654    0\n36258    0\n36259    0\nLength: 50032, dtype: int64\n12814    1\n11499    0\n12815   -1\n5008     0\n11500    0\n        ..\n36256    1\n36257   -1\n35654    0\n36258    0\n36259    0\nLength: 50032, dtype: int64\n"
     ]
    }
   ],
   "source": [
    "for OutletCodeChanged in table2:\n",
    "      s = table2['OutletCodeChanged'].unique()\n",
    "      for i in s:\n",
    "          if i == 'True':\n",
    "              Flag_CC = 'change'\n",
    "              \n",
    "          else: \n",
    "              Flag_CC = table2[\"Enfriador Coca-Cola\"] - table2[\"Coca-Cola\"]\n",
    "\n",
    "              table2['Flag_CC']=Flag_CC\n",
    "              \n",
    "      print(Flag_CC)    "
   ]
  },
  {
   "cell_type": "code",
   "execution_count": 166,
   "metadata": {},
   "outputs": [
    {
     "output_type": "execute_result",
     "data": {
      "text/plain": [
       "UserName                        object\n",
       "OutletCode                      object\n",
       "user_id                          int64\n",
       "date_id                          int64\n",
       "is_reported                      int64\n",
       "date_format             datetime64[ns]\n",
       "SessionUid                      object\n",
       "Question                        object\n",
       "Response                        object\n",
       "month                            int64\n",
       "day                              int64\n",
       "Enfriador Coca-Cola              int64\n",
       "Enfriador Detallista             int64\n",
       "Coca-Cola                        int32\n",
       "Detallista                       int32\n",
       "OutletCodeChanged               object\n",
       "Flag_CC                          int64\n",
       "dtype: object"
      ]
     },
     "metadata": {},
     "execution_count": 166
    }
   ],
   "source": [
    "table2.dtypes"
   ]
  },
  {
   "cell_type": "code",
   "execution_count": 167,
   "metadata": {},
   "outputs": [
    {
     "output_type": "stream",
     "name": "stdout",
     "text": [
      "12814    0\n11499    0\n12815    1\n5008     0\n11500    0\n        ..\n36256   -1\n36257    1\n35654    0\n36258    0\n36259    0\nLength: 50032, dtype: int64\n12814    0\n11499    0\n12815    1\n5008     0\n11500    0\n        ..\n36256   -1\n36257    1\n35654    0\n36258    0\n36259    0\nLength: 50032, dtype: int64\n12814    0\n11499    0\n12815    1\n5008     0\n11500    0\n        ..\n36256   -1\n36257    1\n35654    0\n36258    0\n36259    0\nLength: 50032, dtype: int64\n12814    0\n11499    0\n12815    1\n5008     0\n11500    0\n        ..\n36256   -1\n36257    1\n35654    0\n36258    0\n36259    0\nLength: 50032, dtype: int64\n12814    0\n11499    0\n12815    1\n5008     0\n11500    0\n        ..\n36256   -1\n36257    1\n35654    0\n36258    0\n36259    0\nLength: 50032, dtype: int64\n12814    0\n11499    0\n12815    1\n5008     0\n11500    0\n        ..\n36256   -1\n36257    1\n35654    0\n36258    0\n36259    0\nLength: 50032, dtype: int64\n12814    0\n11499    0\n12815    1\n5008     0\n11500    0\n        ..\n36256   -1\n36257    1\n35654    0\n36258    0\n36259    0\nLength: 50032, dtype: int64\n12814    0\n11499    0\n12815    1\n5008     0\n11500    0\n        ..\n36256   -1\n36257    1\n35654    0\n36258    0\n36259    0\nLength: 50032, dtype: int64\n12814    0\n11499    0\n12815    1\n5008     0\n11500    0\n        ..\n36256   -1\n36257    1\n35654    0\n36258    0\n36259    0\nLength: 50032, dtype: int64\n12814    0\n11499    0\n12815    1\n5008     0\n11500    0\n        ..\n36256   -1\n36257    1\n35654    0\n36258    0\n36259    0\nLength: 50032, dtype: int64\n12814    0\n11499    0\n12815    1\n5008     0\n11500    0\n        ..\n36256   -1\n36257    1\n35654    0\n36258    0\n36259    0\nLength: 50032, dtype: int64\n12814    0\n11499    0\n12815    1\n5008     0\n11500    0\n        ..\n36256   -1\n36257    1\n35654    0\n36258    0\n36259    0\nLength: 50032, dtype: int64\n12814    0\n11499    0\n12815    1\n5008     0\n11500    0\n        ..\n36256   -1\n36257    1\n35654    0\n36258    0\n36259    0\nLength: 50032, dtype: int64\n12814    0\n11499    0\n12815    1\n5008     0\n11500    0\n        ..\n36256   -1\n36257    1\n35654    0\n36258    0\n36259    0\nLength: 50032, dtype: int64\n12814    0\n11499    0\n12815    1\n5008     0\n11500    0\n        ..\n36256   -1\n36257    1\n35654    0\n36258    0\n36259    0\nLength: 50032, dtype: int64\n12814    0\n11499    0\n12815    1\n5008     0\n11500    0\n        ..\n36256   -1\n36257    1\n35654    0\n36258    0\n36259    0\nLength: 50032, dtype: int64\n12814    0\n11499    0\n12815    1\n5008     0\n11500    0\n        ..\n36256   -1\n36257    1\n35654    0\n36258    0\n36259    0\nLength: 50032, dtype: int64\n"
     ]
    }
   ],
   "source": [
    "for OutletCodeChanged in table2:\n",
    "      s = table2['OutletCodeChanged'].unique()\n",
    "      for i in s:\n",
    "          if i == 'True':\n",
    "              Flag_Det = 'change'\n",
    "              \n",
    "          else: \n",
    "              Flag_Det = table2[\"Enfriador Detallista\"] - table2[\"Detallista\"]\n",
    "\n",
    "              table2['Flag_Det']=Flag_Det\n",
    "              \n",
    "      print(Flag_Det)      "
   ]
  },
  {
   "cell_type": "code",
   "execution_count": 168,
   "metadata": {},
   "outputs": [
    {
     "output_type": "stream",
     "name": "stdout",
     "text": [
      "<class 'pandas.core.frame.DataFrame'>\nInt64Index: 50032 entries, 12814 to 36259\nData columns (total 18 columns):\n #   Column                Non-Null Count  Dtype         \n---  ------                --------------  -----         \n 0   UserName              50032 non-null  object        \n 1   OutletCode            50032 non-null  object        \n 2   user_id               50032 non-null  int64         \n 3   date_id               50032 non-null  int64         \n 4   is_reported           50032 non-null  int64         \n 5   date_format           50032 non-null  datetime64[ns]\n 6   SessionUid            50032 non-null  object        \n 7   Question              50032 non-null  object        \n 8   Response              50032 non-null  object        \n 9   month                 50032 non-null  int64         \n 10  day                   50032 non-null  int64         \n 11  Enfriador Coca-Cola   50032 non-null  int64         \n 12  Enfriador Detallista  50032 non-null  int64         \n 13  Coca-Cola             50032 non-null  int32         \n 14  Detallista            50032 non-null  int32         \n 15  OutletCodeChanged     50032 non-null  object        \n 16  Flag_CC               50032 non-null  int64         \n 17  Flag_Det              50032 non-null  int64         \ndtypes: datetime64[ns](1), int32(2), int64(9), object(6)\nmemory usage: 6.9+ MB\n"
     ]
    }
   ],
   "source": [
    "table2.info()"
   ]
  },
  {
   "cell_type": "code",
   "execution_count": 169,
   "metadata": {},
   "outputs": [
    {
     "output_type": "execute_result",
     "data": {
      "text/plain": [
       "                     UserName  user_id OutletCode   date_id  is_reported  \\\n",
       "12814   cdmx26@storecheck.com    47713  100000195  20210312            1   \n",
       "11499   cdmx24@storecheck.com    45848  100000208  20210228            1   \n",
       "12815   cdmx26@storecheck.com    47713  100000208  20210312            1   \n",
       "5008    cdmx13@storecheck.com    45836  100000283  20210326            1   \n",
       "11500   cdmx24@storecheck.com    45848  100000390  20210611            1   \n",
       "...                       ...      ...        ...       ...          ...   \n",
       "36256  merida4@storecheck.com    45796      99361  20210122            1   \n",
       "36257  merida4@storecheck.com    45796      99361  20210412            1   \n",
       "35654  merida3@storecheck.com    45795      99750  20210104            1   \n",
       "36258  merida4@storecheck.com    45796      99750  20210208            1   \n",
       "36259  merida4@storecheck.com    45796      99750  20210316            1   \n",
       "\n",
       "                                 SessionUid                   Question  \\\n",
       "12814  78f994cc-4a41-46ab-b0bb-8b11323aac57  Tipo Enfriador Detallista   \n",
       "11499  1ef2922f-4c61-47ab-a065-e94bc750a97b  Tipo Enfriador Detallista   \n",
       "12815  1061c10c-0134-4c44-ac84-ba4ae39b248e  Tipo Enfriador Detallista   \n",
       "5008   dabf8dd8-3a0c-4456-b4ae-0cce7fcadb62  Tipo Enfriador Detallista   \n",
       "11500  d0b07c3d-e1d8-4674-828f-d5628c9a6c00  Tipo Enfriador Detallista   \n",
       "...                                     ...                        ...   \n",
       "36256  d9689f04-47bc-4ca1-9748-6d168b1ab902  Tipo Enfriador Detallista   \n",
       "36257  fe842bae-8ee8-49fb-b2c1-1c05d5fe7a53  Tipo Enfriador Detallista   \n",
       "35654  9537a728-a264-4603-92d8-64e754403dc0  Tipo Enfriador Detallista   \n",
       "36258  01ddcc9b-0294-4658-b0f5-4d004035e31c  Tipo Enfriador Detallista   \n",
       "36259  20be04be-07fb-465c-8085-d98f53cff4ed  Tipo Enfriador Detallista   \n",
       "\n",
       "                  Response  month  day OutletCodeChanged  Enfriador Coca-Cola  \\\n",
       "12814             Vitrina\u0014      3   12             False                    1   \n",
       "11499             Vitrina\u0014      2   28              True                    1   \n",
       "12815             Vitrina\u0014      3   12             False                    0   \n",
       "5008              Vitrina\u0014      3   26              True                    0   \n",
       "11500             Vitrina\u0014      6   11              True                    0   \n",
       "...                    ...    ...  ...               ...                  ...   \n",
       "36256  Enfriador Vertical\u0014      1   22              True                    1   \n",
       "36257  Enfriador Vertical\u0014      4   12             False                    0   \n",
       "35654         Cámara Fría\u0014      1    4              True                    0   \n",
       "36258  Enfriador Vertical\u0014      2    8             False                    0   \n",
       "36259  Enfriador Vertical\u0014      3   16             False                    0   \n",
       "\n",
       "       Coca-Cola  Flag_CC  Enfriador Detallista  Detallista  Flag_Det  \n",
       "12814          0        1                     0           0         0  \n",
       "11499          1        0                     0           0         0  \n",
       "12815          1       -1                     1           0         1  \n",
       "5008           0        0                     1           1         0  \n",
       "11500          0        0                     1           1         0  \n",
       "...          ...      ...                   ...         ...       ...  \n",
       "36256          0        1                     0           1        -1  \n",
       "36257          1       -1                     1           0         1  \n",
       "35654          0        0                     1           1         0  \n",
       "36258          0        0                     1           1         0  \n",
       "36259          0        0                     1           1         0  \n",
       "\n",
       "[50032 rows x 17 columns]"
      ],
      "text/html": "<div>\n<style scoped>\n    .dataframe tbody tr th:only-of-type {\n        vertical-align: middle;\n    }\n\n    .dataframe tbody tr th {\n        vertical-align: top;\n    }\n\n    .dataframe thead th {\n        text-align: right;\n    }\n</style>\n<table border=\"1\" class=\"dataframe\">\n  <thead>\n    <tr style=\"text-align: right;\">\n      <th></th>\n      <th>UserName</th>\n      <th>user_id</th>\n      <th>OutletCode</th>\n      <th>date_id</th>\n      <th>is_reported</th>\n      <th>SessionUid</th>\n      <th>Question</th>\n      <th>Response</th>\n      <th>month</th>\n      <th>day</th>\n      <th>OutletCodeChanged</th>\n      <th>Enfriador Coca-Cola</th>\n      <th>Coca-Cola</th>\n      <th>Flag_CC</th>\n      <th>Enfriador Detallista</th>\n      <th>Detallista</th>\n      <th>Flag_Det</th>\n    </tr>\n  </thead>\n  <tbody>\n    <tr>\n      <th>12814</th>\n      <td>cdmx26@storecheck.com</td>\n      <td>47713</td>\n      <td>100000195</td>\n      <td>20210312</td>\n      <td>1</td>\n      <td>78f994cc-4a41-46ab-b0bb-8b11323aac57</td>\n      <td>Tipo Enfriador Detallista</td>\n      <td>Vitrina\u0014</td>\n      <td>3</td>\n      <td>12</td>\n      <td>False</td>\n      <td>1</td>\n      <td>0</td>\n      <td>1</td>\n      <td>0</td>\n      <td>0</td>\n      <td>0</td>\n    </tr>\n    <tr>\n      <th>11499</th>\n      <td>cdmx24@storecheck.com</td>\n      <td>45848</td>\n      <td>100000208</td>\n      <td>20210228</td>\n      <td>1</td>\n      <td>1ef2922f-4c61-47ab-a065-e94bc750a97b</td>\n      <td>Tipo Enfriador Detallista</td>\n      <td>Vitrina\u0014</td>\n      <td>2</td>\n      <td>28</td>\n      <td>True</td>\n      <td>1</td>\n      <td>1</td>\n      <td>0</td>\n      <td>0</td>\n      <td>0</td>\n      <td>0</td>\n    </tr>\n    <tr>\n      <th>12815</th>\n      <td>cdmx26@storecheck.com</td>\n      <td>47713</td>\n      <td>100000208</td>\n      <td>20210312</td>\n      <td>1</td>\n      <td>1061c10c-0134-4c44-ac84-ba4ae39b248e</td>\n      <td>Tipo Enfriador Detallista</td>\n      <td>Vitrina\u0014</td>\n      <td>3</td>\n      <td>12</td>\n      <td>False</td>\n      <td>0</td>\n      <td>1</td>\n      <td>-1</td>\n      <td>1</td>\n      <td>0</td>\n      <td>1</td>\n    </tr>\n    <tr>\n      <th>5008</th>\n      <td>cdmx13@storecheck.com</td>\n      <td>45836</td>\n      <td>100000283</td>\n      <td>20210326</td>\n      <td>1</td>\n      <td>dabf8dd8-3a0c-4456-b4ae-0cce7fcadb62</td>\n      <td>Tipo Enfriador Detallista</td>\n      <td>Vitrina\u0014</td>\n      <td>3</td>\n      <td>26</td>\n      <td>True</td>\n      <td>0</td>\n      <td>0</td>\n      <td>0</td>\n      <td>1</td>\n      <td>1</td>\n      <td>0</td>\n    </tr>\n    <tr>\n      <th>11500</th>\n      <td>cdmx24@storecheck.com</td>\n      <td>45848</td>\n      <td>100000390</td>\n      <td>20210611</td>\n      <td>1</td>\n      <td>d0b07c3d-e1d8-4674-828f-d5628c9a6c00</td>\n      <td>Tipo Enfriador Detallista</td>\n      <td>Vitrina\u0014</td>\n      <td>6</td>\n      <td>11</td>\n      <td>True</td>\n      <td>0</td>\n      <td>0</td>\n      <td>0</td>\n      <td>1</td>\n      <td>1</td>\n      <td>0</td>\n    </tr>\n    <tr>\n      <th>...</th>\n      <td>...</td>\n      <td>...</td>\n      <td>...</td>\n      <td>...</td>\n      <td>...</td>\n      <td>...</td>\n      <td>...</td>\n      <td>...</td>\n      <td>...</td>\n      <td>...</td>\n      <td>...</td>\n      <td>...</td>\n      <td>...</td>\n      <td>...</td>\n      <td>...</td>\n      <td>...</td>\n      <td>...</td>\n    </tr>\n    <tr>\n      <th>36256</th>\n      <td>merida4@storecheck.com</td>\n      <td>45796</td>\n      <td>99361</td>\n      <td>20210122</td>\n      <td>1</td>\n      <td>d9689f04-47bc-4ca1-9748-6d168b1ab902</td>\n      <td>Tipo Enfriador Detallista</td>\n      <td>Enfriador Vertical\u0014</td>\n      <td>1</td>\n      <td>22</td>\n      <td>True</td>\n      <td>1</td>\n      <td>0</td>\n      <td>1</td>\n      <td>0</td>\n      <td>1</td>\n      <td>-1</td>\n    </tr>\n    <tr>\n      <th>36257</th>\n      <td>merida4@storecheck.com</td>\n      <td>45796</td>\n      <td>99361</td>\n      <td>20210412</td>\n      <td>1</td>\n      <td>fe842bae-8ee8-49fb-b2c1-1c05d5fe7a53</td>\n      <td>Tipo Enfriador Detallista</td>\n      <td>Enfriador Vertical\u0014</td>\n      <td>4</td>\n      <td>12</td>\n      <td>False</td>\n      <td>0</td>\n      <td>1</td>\n      <td>-1</td>\n      <td>1</td>\n      <td>0</td>\n      <td>1</td>\n    </tr>\n    <tr>\n      <th>35654</th>\n      <td>merida3@storecheck.com</td>\n      <td>45795</td>\n      <td>99750</td>\n      <td>20210104</td>\n      <td>1</td>\n      <td>9537a728-a264-4603-92d8-64e754403dc0</td>\n      <td>Tipo Enfriador Detallista</td>\n      <td>Cámara Fría\u0014</td>\n      <td>1</td>\n      <td>4</td>\n      <td>True</td>\n      <td>0</td>\n      <td>0</td>\n      <td>0</td>\n      <td>1</td>\n      <td>1</td>\n      <td>0</td>\n    </tr>\n    <tr>\n      <th>36258</th>\n      <td>merida4@storecheck.com</td>\n      <td>45796</td>\n      <td>99750</td>\n      <td>20210208</td>\n      <td>1</td>\n      <td>01ddcc9b-0294-4658-b0f5-4d004035e31c</td>\n      <td>Tipo Enfriador Detallista</td>\n      <td>Enfriador Vertical\u0014</td>\n      <td>2</td>\n      <td>8</td>\n      <td>False</td>\n      <td>0</td>\n      <td>0</td>\n      <td>0</td>\n      <td>1</td>\n      <td>1</td>\n      <td>0</td>\n    </tr>\n    <tr>\n      <th>36259</th>\n      <td>merida4@storecheck.com</td>\n      <td>45796</td>\n      <td>99750</td>\n      <td>20210316</td>\n      <td>1</td>\n      <td>20be04be-07fb-465c-8085-d98f53cff4ed</td>\n      <td>Tipo Enfriador Detallista</td>\n      <td>Enfriador Vertical\u0014</td>\n      <td>3</td>\n      <td>16</td>\n      <td>False</td>\n      <td>0</td>\n      <td>0</td>\n      <td>0</td>\n      <td>1</td>\n      <td>1</td>\n      <td>0</td>\n    </tr>\n  </tbody>\n</table>\n<p>50032 rows × 17 columns</p>\n</div>"
     },
     "metadata": {},
     "execution_count": 169
    }
   ],
   "source": [
    "table_final = table2[['UserName','user_id','OutletCode','date_id', 'is_reported', 'SessionUid', 'Question', 'Response', 'month', 'day', 'OutletCodeChanged', 'Enfriador Coca-Cola', 'Coca-Cola', 'Flag_CC', 'Enfriador Detallista', 'Detallista', 'Flag_Det']]\n",
    "table_final"
   ]
  },
  {
   "cell_type": "code",
   "execution_count": 170,
   "metadata": {},
   "outputs": [],
   "source": [
    "query = \"\"\" \n",
    "\n",
    "select distinct sl.SessionUId, sl.LocationId from dbo.SessionList sl\n",
    "where YEAR(sl.VisitStartDateTime) = '2021' \n",
    " \n",
    "\n",
    "        \"\"\""
   ]
  },
  {
   "cell_type": "code",
   "execution_count": 171,
   "metadata": {},
   "outputs": [
    {
     "output_type": "execute_result",
     "data": {
      "text/plain": [
       "SessionUid    object\n",
       "LocationId     int64\n",
       "dtype: object"
      ]
     },
     "metadata": {},
     "execution_count": 171
    }
   ],
   "source": [
    "dff = pd.DataFrame(get_query(query))\n",
    "#df = df.sort_values(by=\"VisitStartDateTime\",ascending=False)\n",
    "dff=dff.rename(columns={\"SessionUId\": \"SessionUid\"})\n",
    "dff.dtypes"
   ]
  },
  {
   "cell_type": "code",
   "execution_count": 172,
   "metadata": {},
   "outputs": [
    {
     "output_type": "execute_result",
     "data": {
      "text/plain": [
       "                     UserName  user_id OutletCode   date_id  is_reported  \\\n",
       "0       cdmx26@storecheck.com    47713  100000195  20210312            1   \n",
       "1       cdmx24@storecheck.com    45848  100000208  20210228            1   \n",
       "2       cdmx26@storecheck.com    47713  100000208  20210312            1   \n",
       "3       cdmx13@storecheck.com    45836  100000283  20210326            1   \n",
       "4       cdmx24@storecheck.com    45848  100000390  20210611            1   \n",
       "...                       ...      ...        ...       ...          ...   \n",
       "50027  merida4@storecheck.com    45796      99361  20210122            1   \n",
       "50028  merida4@storecheck.com    45796      99361  20210412            1   \n",
       "50029  merida3@storecheck.com    45795      99750  20210104            1   \n",
       "50030  merida4@storecheck.com    45796      99750  20210208            1   \n",
       "50031  merida4@storecheck.com    45796      99750  20210316            1   \n",
       "\n",
       "                                 SessionUid                   Question  \\\n",
       "0      78f994cc-4a41-46ab-b0bb-8b11323aac57  Tipo Enfriador Detallista   \n",
       "1      1ef2922f-4c61-47ab-a065-e94bc750a97b  Tipo Enfriador Detallista   \n",
       "2      1061c10c-0134-4c44-ac84-ba4ae39b248e  Tipo Enfriador Detallista   \n",
       "3      dabf8dd8-3a0c-4456-b4ae-0cce7fcadb62  Tipo Enfriador Detallista   \n",
       "4      d0b07c3d-e1d8-4674-828f-d5628c9a6c00  Tipo Enfriador Detallista   \n",
       "...                                     ...                        ...   \n",
       "50027  d9689f04-47bc-4ca1-9748-6d168b1ab902  Tipo Enfriador Detallista   \n",
       "50028  fe842bae-8ee8-49fb-b2c1-1c05d5fe7a53  Tipo Enfriador Detallista   \n",
       "50029  9537a728-a264-4603-92d8-64e754403dc0  Tipo Enfriador Detallista   \n",
       "50030  01ddcc9b-0294-4658-b0f5-4d004035e31c  Tipo Enfriador Detallista   \n",
       "50031  20be04be-07fb-465c-8085-d98f53cff4ed  Tipo Enfriador Detallista   \n",
       "\n",
       "                  Response  month  day OutletCodeChanged  Enfriador Coca-Cola  \\\n",
       "0                 Vitrina\u0014      3   12             False                    1   \n",
       "1                 Vitrina\u0014      2   28              True                    1   \n",
       "2                 Vitrina\u0014      3   12             False                    0   \n",
       "3                 Vitrina\u0014      3   26              True                    0   \n",
       "4                 Vitrina\u0014      6   11              True                    0   \n",
       "...                    ...    ...  ...               ...                  ...   \n",
       "50027  Enfriador Vertical\u0014      1   22              True                    1   \n",
       "50028  Enfriador Vertical\u0014      4   12             False                    0   \n",
       "50029         Cámara Fría\u0014      1    4              True                    0   \n",
       "50030  Enfriador Vertical\u0014      2    8             False                    0   \n",
       "50031  Enfriador Vertical\u0014      3   16             False                    0   \n",
       "\n",
       "       Coca-Cola  Flag_CC  Enfriador Detallista  Detallista  Flag_Det  \\\n",
       "0              0        1                     0           0         0   \n",
       "1              1        0                     0           0         0   \n",
       "2              1       -1                     1           0         1   \n",
       "3              0        0                     1           1         0   \n",
       "4              0        0                     1           1         0   \n",
       "...          ...      ...                   ...         ...       ...   \n",
       "50027          0        1                     0           1        -1   \n",
       "50028          1       -1                     1           0         1   \n",
       "50029          0        0                     1           1         0   \n",
       "50030          0        0                     1           1         0   \n",
       "50031          0        0                     1           1         0   \n",
       "\n",
       "       LocationId  \n",
       "0         6816944  \n",
       "1         6828931  \n",
       "2         6828931  \n",
       "3         6272009  \n",
       "4         6826853  \n",
       "...           ...  \n",
       "50027     6294575  \n",
       "50028     6294575  \n",
       "50029     6294577  \n",
       "50030     6294577  \n",
       "50031     6294577  \n",
       "\n",
       "[50032 rows x 18 columns]"
      ],
      "text/html": "<div>\n<style scoped>\n    .dataframe tbody tr th:only-of-type {\n        vertical-align: middle;\n    }\n\n    .dataframe tbody tr th {\n        vertical-align: top;\n    }\n\n    .dataframe thead th {\n        text-align: right;\n    }\n</style>\n<table border=\"1\" class=\"dataframe\">\n  <thead>\n    <tr style=\"text-align: right;\">\n      <th></th>\n      <th>UserName</th>\n      <th>user_id</th>\n      <th>OutletCode</th>\n      <th>date_id</th>\n      <th>is_reported</th>\n      <th>SessionUid</th>\n      <th>Question</th>\n      <th>Response</th>\n      <th>month</th>\n      <th>day</th>\n      <th>OutletCodeChanged</th>\n      <th>Enfriador Coca-Cola</th>\n      <th>Coca-Cola</th>\n      <th>Flag_CC</th>\n      <th>Enfriador Detallista</th>\n      <th>Detallista</th>\n      <th>Flag_Det</th>\n      <th>LocationId</th>\n    </tr>\n  </thead>\n  <tbody>\n    <tr>\n      <th>0</th>\n      <td>cdmx26@storecheck.com</td>\n      <td>47713</td>\n      <td>100000195</td>\n      <td>20210312</td>\n      <td>1</td>\n      <td>78f994cc-4a41-46ab-b0bb-8b11323aac57</td>\n      <td>Tipo Enfriador Detallista</td>\n      <td>Vitrina\u0014</td>\n      <td>3</td>\n      <td>12</td>\n      <td>False</td>\n      <td>1</td>\n      <td>0</td>\n      <td>1</td>\n      <td>0</td>\n      <td>0</td>\n      <td>0</td>\n      <td>6816944</td>\n    </tr>\n    <tr>\n      <th>1</th>\n      <td>cdmx24@storecheck.com</td>\n      <td>45848</td>\n      <td>100000208</td>\n      <td>20210228</td>\n      <td>1</td>\n      <td>1ef2922f-4c61-47ab-a065-e94bc750a97b</td>\n      <td>Tipo Enfriador Detallista</td>\n      <td>Vitrina\u0014</td>\n      <td>2</td>\n      <td>28</td>\n      <td>True</td>\n      <td>1</td>\n      <td>1</td>\n      <td>0</td>\n      <td>0</td>\n      <td>0</td>\n      <td>0</td>\n      <td>6828931</td>\n    </tr>\n    <tr>\n      <th>2</th>\n      <td>cdmx26@storecheck.com</td>\n      <td>47713</td>\n      <td>100000208</td>\n      <td>20210312</td>\n      <td>1</td>\n      <td>1061c10c-0134-4c44-ac84-ba4ae39b248e</td>\n      <td>Tipo Enfriador Detallista</td>\n      <td>Vitrina\u0014</td>\n      <td>3</td>\n      <td>12</td>\n      <td>False</td>\n      <td>0</td>\n      <td>1</td>\n      <td>-1</td>\n      <td>1</td>\n      <td>0</td>\n      <td>1</td>\n      <td>6828931</td>\n    </tr>\n    <tr>\n      <th>3</th>\n      <td>cdmx13@storecheck.com</td>\n      <td>45836</td>\n      <td>100000283</td>\n      <td>20210326</td>\n      <td>1</td>\n      <td>dabf8dd8-3a0c-4456-b4ae-0cce7fcadb62</td>\n      <td>Tipo Enfriador Detallista</td>\n      <td>Vitrina\u0014</td>\n      <td>3</td>\n      <td>26</td>\n      <td>True</td>\n      <td>0</td>\n      <td>0</td>\n      <td>0</td>\n      <td>1</td>\n      <td>1</td>\n      <td>0</td>\n      <td>6272009</td>\n    </tr>\n    <tr>\n      <th>4</th>\n      <td>cdmx24@storecheck.com</td>\n      <td>45848</td>\n      <td>100000390</td>\n      <td>20210611</td>\n      <td>1</td>\n      <td>d0b07c3d-e1d8-4674-828f-d5628c9a6c00</td>\n      <td>Tipo Enfriador Detallista</td>\n      <td>Vitrina\u0014</td>\n      <td>6</td>\n      <td>11</td>\n      <td>True</td>\n      <td>0</td>\n      <td>0</td>\n      <td>0</td>\n      <td>1</td>\n      <td>1</td>\n      <td>0</td>\n      <td>6826853</td>\n    </tr>\n    <tr>\n      <th>...</th>\n      <td>...</td>\n      <td>...</td>\n      <td>...</td>\n      <td>...</td>\n      <td>...</td>\n      <td>...</td>\n      <td>...</td>\n      <td>...</td>\n      <td>...</td>\n      <td>...</td>\n      <td>...</td>\n      <td>...</td>\n      <td>...</td>\n      <td>...</td>\n      <td>...</td>\n      <td>...</td>\n      <td>...</td>\n      <td>...</td>\n    </tr>\n    <tr>\n      <th>50027</th>\n      <td>merida4@storecheck.com</td>\n      <td>45796</td>\n      <td>99361</td>\n      <td>20210122</td>\n      <td>1</td>\n      <td>d9689f04-47bc-4ca1-9748-6d168b1ab902</td>\n      <td>Tipo Enfriador Detallista</td>\n      <td>Enfriador Vertical\u0014</td>\n      <td>1</td>\n      <td>22</td>\n      <td>True</td>\n      <td>1</td>\n      <td>0</td>\n      <td>1</td>\n      <td>0</td>\n      <td>1</td>\n      <td>-1</td>\n      <td>6294575</td>\n    </tr>\n    <tr>\n      <th>50028</th>\n      <td>merida4@storecheck.com</td>\n      <td>45796</td>\n      <td>99361</td>\n      <td>20210412</td>\n      <td>1</td>\n      <td>fe842bae-8ee8-49fb-b2c1-1c05d5fe7a53</td>\n      <td>Tipo Enfriador Detallista</td>\n      <td>Enfriador Vertical\u0014</td>\n      <td>4</td>\n      <td>12</td>\n      <td>False</td>\n      <td>0</td>\n      <td>1</td>\n      <td>-1</td>\n      <td>1</td>\n      <td>0</td>\n      <td>1</td>\n      <td>6294575</td>\n    </tr>\n    <tr>\n      <th>50029</th>\n      <td>merida3@storecheck.com</td>\n      <td>45795</td>\n      <td>99750</td>\n      <td>20210104</td>\n      <td>1</td>\n      <td>9537a728-a264-4603-92d8-64e754403dc0</td>\n      <td>Tipo Enfriador Detallista</td>\n      <td>Cámara Fría\u0014</td>\n      <td>1</td>\n      <td>4</td>\n      <td>True</td>\n      <td>0</td>\n      <td>0</td>\n      <td>0</td>\n      <td>1</td>\n      <td>1</td>\n      <td>0</td>\n      <td>6294577</td>\n    </tr>\n    <tr>\n      <th>50030</th>\n      <td>merida4@storecheck.com</td>\n      <td>45796</td>\n      <td>99750</td>\n      <td>20210208</td>\n      <td>1</td>\n      <td>01ddcc9b-0294-4658-b0f5-4d004035e31c</td>\n      <td>Tipo Enfriador Detallista</td>\n      <td>Enfriador Vertical\u0014</td>\n      <td>2</td>\n      <td>8</td>\n      <td>False</td>\n      <td>0</td>\n      <td>0</td>\n      <td>0</td>\n      <td>1</td>\n      <td>1</td>\n      <td>0</td>\n      <td>6294577</td>\n    </tr>\n    <tr>\n      <th>50031</th>\n      <td>merida4@storecheck.com</td>\n      <td>45796</td>\n      <td>99750</td>\n      <td>20210316</td>\n      <td>1</td>\n      <td>20be04be-07fb-465c-8085-d98f53cff4ed</td>\n      <td>Tipo Enfriador Detallista</td>\n      <td>Enfriador Vertical\u0014</td>\n      <td>3</td>\n      <td>16</td>\n      <td>False</td>\n      <td>0</td>\n      <td>0</td>\n      <td>0</td>\n      <td>1</td>\n      <td>1</td>\n      <td>0</td>\n      <td>6294577</td>\n    </tr>\n  </tbody>\n</table>\n<p>50032 rows × 18 columns</p>\n</div>"
     },
     "metadata": {},
     "execution_count": 172
    }
   ],
   "source": [
    "Ifi_historico = pd.merge(table_final, dff, on='SessionUid', how='inner')\n",
    "Ifi_historico"
   ]
  },
  {
   "cell_type": "code",
   "execution_count": 174,
   "metadata": {},
   "outputs": [],
   "source": [
    "Ifi_historico=Ifi_historico[['UserName', 'user_id', 'OutletCode', 'LocationId', 'date_id', 'is_reported','SessionUid', 'Question', 'Response', 'month', 'day', 'OutletCodeChanged', 'Enfriador Coca-Cola', 'Flag_CC', 'Enfriador Detallista', 'Flag_Det']]"
   ]
  },
  {
   "cell_type": "code",
   "execution_count": 175,
   "metadata": {},
   "outputs": [
    {
     "output_type": "stream",
     "name": "stdout",
     "text": [
      "<class 'pandas.core.frame.DataFrame'>\nInt64Index: 50032 entries, 0 to 50031\nData columns (total 16 columns):\n #   Column                Non-Null Count  Dtype \n---  ------                --------------  ----- \n 0   UserName              50032 non-null  object\n 1   user_id               50032 non-null  int64 \n 2   OutletCode            50032 non-null  object\n 3   LocationId            50032 non-null  int64 \n 4   date_id               50032 non-null  int64 \n 5   is_reported           50032 non-null  int64 \n 6   SessionUid            50032 non-null  object\n 7   Question              50032 non-null  object\n 8   Response              50032 non-null  object\n 9   month                 50032 non-null  int64 \n 10  day                   50032 non-null  int64 \n 11  OutletCodeChanged     50032 non-null  object\n 12  Enfriador Coca-Cola   50032 non-null  int64 \n 13  Flag_CC               50032 non-null  int64 \n 14  Enfriador Detallista  50032 non-null  int64 \n 15  Flag_Det              50032 non-null  int64 \ndtypes: int64(10), object(6)\nmemory usage: 6.5+ MB\n"
     ]
    }
   ],
   "source": [
    "Ifi_historico.info()"
   ]
  },
  {
   "cell_type": "code",
   "execution_count": 176,
   "metadata": {},
   "outputs": [],
   "source": [
    "import pandas as pd \n",
    "import pyodbc\n",
    "import sqlalchemy\n",
    "import datetime as dt \n",
    "import numpy as np\n",
    "\n",
    "#Se definen las conexiones\n",
    "\n",
    "def get_engine():\n",
    "    connection_string = \"mssql+pyodbc://{0}@{2}:{1}@{2}.database.windows.net:{4}/{3}?driver=ODBC+Driver+17+for+SQL+Server\".format(\n",
    "                        'jrivas',\n",
    "                        'XXXXX',\n",
    "                        'koice',\n",
    "                        'ko_ice',\n",
    "                        1433)\n",
    "    res = sqlalchemy.engine.create_engine(connection_string, connect_args={'autocommit': True})\n",
    "    return res\n",
    "\n",
    "\n",
    "def get_query(query):\n",
    "    engine = get_engine()\n",
    "    res = pd.read_sql(query, con=engine)\n",
    "    return res\n"
   ]
  },
  {
   "cell_type": "code",
   "execution_count": 177,
   "metadata": {},
   "outputs": [],
   "source": [
    "engine = get_engine()\n",
    "Ifi_historico.to_sql('Primera_Posicion_tt', con=engine, schema='reportes', if_exists='append', index=False)"
   ]
  },
  {
   "cell_type": "code",
   "execution_count": null,
   "metadata": {},
   "outputs": [],
   "source": []
  },
  {
   "cell_type": "code",
   "execution_count": null,
   "metadata": {},
   "outputs": [],
   "source": []
  },
  {
   "cell_type": "code",
   "execution_count": null,
   "metadata": {},
   "outputs": [],
   "source": []
  },
  {
   "cell_type": "code",
   "execution_count": null,
   "metadata": {},
   "outputs": [],
   "source": []
  }
 ]
}
